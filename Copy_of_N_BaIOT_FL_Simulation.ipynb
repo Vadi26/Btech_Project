{
  "cells": [
    {
      "cell_type": "code",
      "execution_count": null,
      "metadata": {
        "colab": {
          "base_uri": "https://localhost:8080/"
        },
        "collapsed": true,
        "id": "qV2Bx8p7V_Yx",
        "outputId": "48f5062d-0985-4729-fb25-f42db6b9febf"
      },
      "outputs": [
        {
          "name": "stdout",
          "output_type": "stream",
          "text": [
            "Requirement already satisfied: typing-extensions in /usr/local/lib/python3.11/dist-packages (4.5.0)\n",
            "Collecting typing-extensions\n",
            "  Downloading typing_extensions-4.12.2-py3-none-any.whl.metadata (3.0 kB)\n",
            "Downloading typing_extensions-4.12.2-py3-none-any.whl (37 kB)\n",
            "Installing collected packages: typing-extensions\n",
            "  Attempting uninstall: typing-extensions\n",
            "    Found existing installation: typing_extensions 4.5.0\n",
            "    Uninstalling typing_extensions-4.5.0:\n",
            "      Successfully uninstalled typing_extensions-4.5.0\n",
            "\u001b[31mERROR: pip's dependency resolver does not currently take into account all the packages that are installed. This behaviour is the source of the following dependency conflicts.\n",
            "tensorflow-federated 0.87.0 requires typing-extensions==4.5.*,>=4.5.0, but you have typing-extensions 4.12.2 which is incompatible.\n",
            "albumentations 2.0.4 requires scipy>=1.10.0, but you have scipy 1.9.3 which is incompatible.\n",
            "flax 0.10.3 requires jax>=0.4.27, but you have jax 0.4.14 which is incompatible.\n",
            "tensorflow-text 2.18.1 requires tensorflow<2.19,>=2.18.0, but you have tensorflow 2.14.1 which is incompatible.\n",
            "torch 2.5.1+cu124 requires nvidia-cublas-cu12==12.4.5.8; platform_system == \"Linux\" and platform_machine == \"x86_64\", but you have nvidia-cublas-cu12 12.5.3.2 which is incompatible.\n",
            "torch 2.5.1+cu124 requires nvidia-cuda-cupti-cu12==12.4.127; platform_system == \"Linux\" and platform_machine == \"x86_64\", but you have nvidia-cuda-cupti-cu12 12.5.82 which is incompatible.\n",
            "torch 2.5.1+cu124 requires nvidia-cuda-nvrtc-cu12==12.4.127; platform_system == \"Linux\" and platform_machine == \"x86_64\", but you have nvidia-cuda-nvrtc-cu12 12.5.82 which is incompatible.\n",
            "torch 2.5.1+cu124 requires nvidia-cuda-runtime-cu12==12.4.127; platform_system == \"Linux\" and platform_machine == \"x86_64\", but you have nvidia-cuda-runtime-cu12 12.5.82 which is incompatible.\n",
            "torch 2.5.1+cu124 requires nvidia-cudnn-cu12==9.1.0.70; platform_system == \"Linux\" and platform_machine == \"x86_64\", but you have nvidia-cudnn-cu12 9.3.0.75 which is incompatible.\n",
            "torch 2.5.1+cu124 requires nvidia-cufft-cu12==11.2.1.3; platform_system == \"Linux\" and platform_machine == \"x86_64\", but you have nvidia-cufft-cu12 11.2.3.61 which is incompatible.\n",
            "torch 2.5.1+cu124 requires nvidia-curand-cu12==10.3.5.147; platform_system == \"Linux\" and platform_machine == \"x86_64\", but you have nvidia-curand-cu12 10.3.6.82 which is incompatible.\n",
            "torch 2.5.1+cu124 requires nvidia-cusolver-cu12==11.6.1.9; platform_system == \"Linux\" and platform_machine == \"x86_64\", but you have nvidia-cusolver-cu12 11.6.3.83 which is incompatible.\n",
            "torch 2.5.1+cu124 requires nvidia-cusparse-cu12==12.3.1.170; platform_system == \"Linux\" and platform_machine == \"x86_64\", but you have nvidia-cusparse-cu12 12.5.1.3 which is incompatible.\n",
            "torch 2.5.1+cu124 requires nvidia-nvjitlink-cu12==12.4.127; platform_system == \"Linux\" and platform_machine == \"x86_64\", but you have nvidia-nvjitlink-cu12 12.5.82 which is incompatible.\n",
            "chex 0.1.88 requires jax>=0.4.27, but you have jax 0.4.14 which is incompatible.\n",
            "chex 0.1.88 requires jaxlib>=0.4.27, but you have jaxlib 0.4.14 which is incompatible.\n",
            "optax 0.2.4 requires jax>=0.4.27, but you have jax 0.4.14 which is incompatible.\n",
            "optax 0.2.4 requires jaxlib>=0.4.27, but you have jaxlib 0.4.14 which is incompatible.\n",
            "langchain-core 0.3.35 requires packaging<25,>=23.2, but you have packaging 22.0 which is incompatible.\n",
            "orbax-checkpoint 0.6.4 requires jax>=0.4.26, but you have jax 0.4.14 which is incompatible.\n",
            "tf-keras 2.18.0 requires tensorflow<2.19,>=2.18, but you have tensorflow 2.14.1 which is incompatible.\n",
            "langchain 0.3.18 requires numpy<2,>=1.26.4; python_version < \"3.12\", but you have numpy 1.25.2 which is incompatible.\u001b[0m\u001b[31m\n",
            "\u001b[0mSuccessfully installed typing-extensions-4.12.2\n"
          ]
        }
      ],
      "source": [
        "!pip install --upgrade typing-extensions"
      ]
    },
    {
      "cell_type": "code",
      "execution_count": null,
      "metadata": {
        "colab": {
          "base_uri": "https://localhost:8080/"
        },
        "collapsed": true,
        "id": "GVz5zgw_WbO-",
        "outputId": "1682361e-d517-41e8-e296-8cc674b78408"
      },
      "outputs": [
        {
          "name": "stdout",
          "output_type": "stream",
          "text": [
            "Requirement already satisfied: kagglehub in /usr/local/lib/python3.11/dist-packages (0.3.7)\n",
            "Collecting kagglehub\n",
            "  Downloading kagglehub-0.3.8-py3-none-any.whl.metadata (30 kB)\n",
            "Requirement already satisfied: typing-extensions in /usr/local/lib/python3.11/dist-packages (4.12.2)\n",
            "Requirement already satisfied: packaging in /usr/local/lib/python3.11/dist-packages (from kagglehub) (22.0)\n",
            "Requirement already satisfied: requests in /usr/local/lib/python3.11/dist-packages (from kagglehub) (2.32.3)\n",
            "Requirement already satisfied: tqdm in /usr/local/lib/python3.11/dist-packages (from kagglehub) (4.67.1)\n",
            "Requirement already satisfied: charset-normalizer<4,>=2 in /usr/local/lib/python3.11/dist-packages (from requests->kagglehub) (3.4.1)\n",
            "Requirement already satisfied: idna<4,>=2.5 in /usr/local/lib/python3.11/dist-packages (from requests->kagglehub) (3.10)\n",
            "Requirement already satisfied: urllib3<3,>=1.21.1 in /usr/local/lib/python3.11/dist-packages (from requests->kagglehub) (2.3.0)\n",
            "Requirement already satisfied: certifi>=2017.4.17 in /usr/local/lib/python3.11/dist-packages (from requests->kagglehub) (2025.1.31)\n",
            "Downloading kagglehub-0.3.8-py3-none-any.whl (55 kB)\n",
            "\u001b[2K   \u001b[90m━━━━━━━━━━━━━━━━━━━━━━━━━━━━━━━━━━━━━━━━\u001b[0m \u001b[32m55.2/55.2 kB\u001b[0m \u001b[31m3.4 MB/s\u001b[0m eta \u001b[36m0:00:00\u001b[0m\n",
            "\u001b[?25hInstalling collected packages: kagglehub\n",
            "  Attempting uninstall: kagglehub\n",
            "    Found existing installation: kagglehub 0.3.7\n",
            "    Uninstalling kagglehub-0.3.7:\n",
            "      Successfully uninstalled kagglehub-0.3.7\n",
            "Successfully installed kagglehub-0.3.8\n"
          ]
        }
      ],
      "source": [
        "!pip install --upgrade kagglehub typing-extensions"
      ]
    },
    {
      "cell_type": "code",
      "execution_count": null,
      "metadata": {
        "colab": {
          "base_uri": "https://localhost:8080/"
        },
        "id": "KVLAWZtS3mWF",
        "outputId": "74281430-b719-4563-ddc6-ec32efccacf5"
      },
      "outputs": [
        {
          "name": "stdout",
          "output_type": "stream",
          "text": [
            "Warning: Looks like you're using an outdated `kagglehub` version (installed: 0.3.7), please consider upgrading to the latest version (0.3.8).\n",
            "Downloading from https://www.kaggle.com/api/v1/datasets/download/mkashifn/nbaiot-dataset?dataset_version_number=1...\n"
          ]
        },
        {
          "name": "stderr",
          "output_type": "stream",
          "text": [
            "100%|██████████| 1.75G/1.75G [00:27<00:00, 67.8MB/s]"
          ]
        },
        {
          "name": "stdout",
          "output_type": "stream",
          "text": [
            "Extracting files...\n"
          ]
        },
        {
          "name": "stderr",
          "output_type": "stream",
          "text": [
            "\n"
          ]
        },
        {
          "name": "stdout",
          "output_type": "stream",
          "text": [
            "Data source import complete.\n"
          ]
        }
      ],
      "source": [
        "# IMPORTANT: RUN THIS CELL IN ORDER TO IMPORT YOUR KAGGLE DATA SOURCES,\n",
        "# THEN FEEL FREE TO DELETE THIS CELL.\n",
        "# NOTE: THIS NOTEBOOK ENVIRONMENT DIFFERS FROM KAGGLE'S PYTHON\n",
        "# ENVIRONMENT SO THERE MAY BE MISSING LIBRARIES USED BY YOUR\n",
        "# NOTEBOOK.\n",
        "import kagglehub\n",
        "mkashifn_nbaiot_dataset_path = kagglehub.dataset_download('mkashifn/nbaiot-dataset')\n",
        "\n",
        "print('Data source import complete.')\n"
      ]
    },
    {
      "cell_type": "code",
      "execution_count": null,
      "metadata": {
        "colab": {
          "base_uri": "https://localhost:8080/"
        },
        "collapsed": true,
        "id": "jk8Xcja63mWI",
        "outputId": "4b12a46d-b2ef-4e4d-dd0b-5a4de9693d46"
      },
      "outputs": [
        {
          "name": "stdout",
          "output_type": "stream",
          "text": [
            "\u001b[31mERROR: Operation cancelled by user\u001b[0m\u001b[31m\n",
            "\u001b[0mRequirement already satisfied: scipy==1.9.3 in /usr/local/lib/python3.11/dist-packages (1.9.3)\n",
            "Requirement already satisfied: numpy<1.26.0,>=1.18.5 in /usr/local/lib/python3.11/dist-packages (from scipy==1.9.3) (1.25.2)\n"
          ]
        }
      ],
      "source": [
        "!pip install numpy==1.23.4\n",
        "!pip install scipy==1.9.3"
      ]
    },
    {
      "cell_type": "code",
      "execution_count": null,
      "metadata": {
        "colab": {
          "base_uri": "https://localhost:8080/"
        },
        "collapsed": true,
        "id": "OPo_TvCj3mWJ",
        "outputId": "5298f769-a121-456f-d574-b7a8753d134c"
      },
      "outputs": [
        {
          "name": "stdout",
          "output_type": "stream",
          "text": [
            "Requirement already satisfied: jax==0.4.33 in /usr/local/lib/python3.11/dist-packages (0.4.33)\n",
            "Requirement already satisfied: jaxlib<=0.4.33,>=0.4.33 in /usr/local/lib/python3.11/dist-packages (from jax==0.4.33) (0.4.33)\n",
            "Requirement already satisfied: ml-dtypes>=0.2.0 in /usr/local/lib/python3.11/dist-packages (from jax==0.4.33) (0.4.1)\n",
            "Collecting numpy>=1.24 (from jax==0.4.33)\n",
            "  Downloading numpy-2.2.3-cp311-cp311-manylinux_2_17_x86_64.manylinux2014_x86_64.whl.metadata (62 kB)\n",
            "\u001b[2K     \u001b[90m━━━━━━━━━━━━━━━━━━━━━━━━━━━━━━━━━━━━━━━━\u001b[0m \u001b[32m62.0/62.0 kB\u001b[0m \u001b[31m5.1 MB/s\u001b[0m eta \u001b[36m0:00:00\u001b[0m\n",
            "\u001b[?25hRequirement already satisfied: opt-einsum in /usr/local/lib/python3.11/dist-packages (from jax==0.4.33) (3.4.0)\n",
            "Collecting scipy>=1.10 (from jax==0.4.33)\n",
            "  Downloading scipy-1.15.2-cp311-cp311-manylinux_2_17_x86_64.manylinux2014_x86_64.whl.metadata (61 kB)\n",
            "\u001b[2K     \u001b[90m━━━━━━━━━━━━━━━━━━━━━━━━━━━━━━━━━━━━━━━━\u001b[0m \u001b[32m62.0/62.0 kB\u001b[0m \u001b[31m5.2 MB/s\u001b[0m eta \u001b[36m0:00:00\u001b[0m\n",
            "\u001b[?25hDownloading numpy-2.2.3-cp311-cp311-manylinux_2_17_x86_64.manylinux2014_x86_64.whl (16.4 MB)\n",
            "\u001b[2K   \u001b[90m━━━━━━━━━━━━━━━━━━━━━━━━━━━━━━━━━━━━━━━━\u001b[0m \u001b[32m16.4/16.4 MB\u001b[0m \u001b[31m53.6 MB/s\u001b[0m eta \u001b[36m0:00:00\u001b[0m\n",
            "\u001b[?25hDownloading scipy-1.15.2-cp311-cp311-manylinux_2_17_x86_64.manylinux2014_x86_64.whl (37.6 MB)\n",
            "\u001b[2K   \u001b[90m━━━━━━━━━━━━━━━━━━━━━━━━━━━━━━━━━━━━━━━━\u001b[0m \u001b[32m37.6/37.6 MB\u001b[0m \u001b[31m14.5 MB/s\u001b[0m eta \u001b[36m0:00:00\u001b[0m\n",
            "\u001b[?25hInstalling collected packages: numpy, scipy\n",
            "  Attempting uninstall: numpy\n",
            "    Found existing installation: numpy 1.23.4\n",
            "    Uninstalling numpy-1.23.4:\n",
            "      Successfully uninstalled numpy-1.23.4\n",
            "  Attempting uninstall: scipy\n",
            "    Found existing installation: scipy 1.9.3\n",
            "    Uninstalling scipy-1.9.3:\n",
            "      Successfully uninstalled scipy-1.9.3\n",
            "\u001b[31mERROR: pip's dependency resolver does not currently take into account all the packages that are installed. This behaviour is the source of the following dependency conflicts.\n",
            "numba 0.61.0 requires numpy<2.2,>=1.24, but you have numpy 2.2.3 which is incompatible.\n",
            "gensim 4.3.3 requires numpy<2.0,>=1.18.5, but you have numpy 2.2.3 which is incompatible.\n",
            "gensim 4.3.3 requires scipy<1.14.0,>=1.7.0, but you have scipy 1.15.2 which is incompatible.\n",
            "tensorflow 2.18.0 requires numpy<2.1.0,>=1.26.0, but you have numpy 2.2.3 which is incompatible.\n",
            "thinc 8.2.5 requires numpy<2.0.0,>=1.19.0; python_version >= \"3.9\", but you have numpy 2.2.3 which is incompatible.\n",
            "langchain 0.3.18 requires numpy<2,>=1.26.4; python_version < \"3.12\", but you have numpy 2.2.3 which is incompatible.\n",
            "pytensor 2.27.1 requires numpy<2,>=1.17.0, but you have numpy 2.2.3 which is incompatible.\u001b[0m\u001b[31m\n",
            "\u001b[0mSuccessfully installed numpy-2.2.3 scipy-1.15.2\n",
            "Collecting cachetools==4.2.1\n",
            "  Downloading cachetools-4.2.1-py3-none-any.whl.metadata (4.6 kB)\n",
            "Downloading cachetools-4.2.1-py3-none-any.whl (12 kB)\n",
            "Installing collected packages: cachetools\n",
            "  Attempting uninstall: cachetools\n",
            "    Found existing installation: cachetools 5.5.1\n",
            "    Uninstalling cachetools-5.5.1:\n",
            "      Successfully uninstalled cachetools-5.5.1\n",
            "Successfully installed cachetools-4.2.1\n",
            "Collecting dp_accounting\n",
            "  Downloading dp_accounting-0.4.4-py3-none-any.whl.metadata (1.8 kB)\n",
            "Requirement already satisfied: absl-py~=1.0 in /usr/local/lib/python3.11/dist-packages (from dp_accounting) (1.4.0)\n",
            "Requirement already satisfied: attrs>=22 in /usr/local/lib/python3.11/dist-packages (from dp_accounting) (25.1.0)\n",
            "Requirement already satisfied: dm-tree~=0.1.8 in /usr/local/lib/python3.11/dist-packages (from dp_accounting) (0.1.9)\n",
            "Requirement already satisfied: mpmath~=1.2 in /usr/local/lib/python3.11/dist-packages (from dp_accounting) (1.3.0)\n",
            "Collecting numpy~=1.21 (from dp_accounting)\n",
            "  Downloading numpy-1.26.4-cp311-cp311-manylinux_2_17_x86_64.manylinux2014_x86_64.whl.metadata (61 kB)\n",
            "\u001b[2K     \u001b[90m━━━━━━━━━━━━━━━━━━━━━━━━━━━━━━━━━━━━━━━━\u001b[0m \u001b[32m61.0/61.0 kB\u001b[0m \u001b[31m4.6 MB/s\u001b[0m eta \u001b[36m0:00:00\u001b[0m\n",
            "\u001b[?25hRequirement already satisfied: scipy~=1.7 in /usr/local/lib/python3.11/dist-packages (from dp_accounting) (1.15.2)\n",
            "Requirement already satisfied: wrapt>=1.11.2 in /usr/local/lib/python3.11/dist-packages (from dm-tree~=0.1.8->dp_accounting) (1.17.2)\n",
            "Downloading dp_accounting-0.4.4-py3-none-any.whl (117 kB)\n",
            "\u001b[2K   \u001b[90m━━━━━━━━━━━━━━━━━━━━━━━━━━━━━━━━━━━━━━━━\u001b[0m \u001b[32m117.2/117.2 kB\u001b[0m \u001b[31m10.8 MB/s\u001b[0m eta \u001b[36m0:00:00\u001b[0m\n",
            "\u001b[?25hDownloading numpy-1.26.4-cp311-cp311-manylinux_2_17_x86_64.manylinux2014_x86_64.whl (18.3 MB)\n",
            "\u001b[2K   \u001b[90m━━━━━━━━━━━━━━━━━━━━━━━━━━━━━━━━━━━━━━━━\u001b[0m \u001b[32m18.3/18.3 MB\u001b[0m \u001b[31m84.3 MB/s\u001b[0m eta \u001b[36m0:00:00\u001b[0m\n",
            "\u001b[?25hInstalling collected packages: numpy, dp_accounting\n",
            "  Attempting uninstall: numpy\n",
            "    Found existing installation: numpy 2.2.3\n",
            "    Uninstalling numpy-2.2.3:\n",
            "      Successfully uninstalled numpy-2.2.3\n",
            "\u001b[31mERROR: pip's dependency resolver does not currently take into account all the packages that are installed. This behaviour is the source of the following dependency conflicts.\n",
            "gensim 4.3.3 requires scipy<1.14.0,>=1.7.0, but you have scipy 1.15.2 which is incompatible.\u001b[0m\u001b[31m\n",
            "\u001b[0mSuccessfully installed dp_accounting-0.4.4 numpy-1.26.4\n",
            "Collecting tensorflow_privacy\n",
            "  Downloading tensorflow_privacy-0.9.0-py3-none-any.whl.metadata (763 bytes)\n",
            "Requirement already satisfied: absl-py==1.*,>=1.0 in /usr/local/lib/python3.11/dist-packages (from tensorflow_privacy) (1.4.0)\n",
            "Collecting dm-tree==0.1.8 (from tensorflow_privacy)\n",
            "  Downloading dm_tree-0.1.8-cp311-cp311-manylinux_2_17_x86_64.manylinux2014_x86_64.whl.metadata (1.9 kB)\n",
            "Collecting dp-accounting==0.4.3 (from tensorflow_privacy)\n",
            "  Downloading dp_accounting-0.4.3-py3-none-any.whl.metadata (1.8 kB)\n",
            "Requirement already satisfied: numpy~=1.21 in /usr/local/lib/python3.11/dist-packages (from tensorflow_privacy) (1.26.4)\n",
            "Collecting packaging~=22.0 (from tensorflow_privacy)\n",
            "  Downloading packaging-22.0-py3-none-any.whl.metadata (3.1 kB)\n",
            "Requirement already satisfied: scikit-learn==1.*,>=1.0 in /usr/local/lib/python3.11/dist-packages (from tensorflow_privacy) (1.6.1)\n",
            "Requirement already satisfied: scipy~=1.9 in /usr/local/lib/python3.11/dist-packages (from tensorflow_privacy) (1.15.2)\n",
            "Collecting tensorflow-estimator~=2.4 (from tensorflow_privacy)\n",
            "  Downloading tensorflow_estimator-2.15.0-py2.py3-none-any.whl.metadata (1.3 kB)\n",
            "Collecting tensorflow-probability~=0.22.0 (from tensorflow_privacy)\n",
            "  Downloading tensorflow_probability-0.22.1-py2.py3-none-any.whl.metadata (13 kB)\n",
            "Requirement already satisfied: tensorflow~=2.4 in /usr/local/lib/python3.11/dist-packages (from tensorflow_privacy) (2.18.0)\n",
            "Requirement already satisfied: attrs>=22 in /usr/local/lib/python3.11/dist-packages (from dp-accounting==0.4.3->tensorflow_privacy) (25.1.0)\n",
            "Requirement already satisfied: mpmath~=1.2 in /usr/local/lib/python3.11/dist-packages (from dp-accounting==0.4.3->tensorflow_privacy) (1.3.0)\n",
            "Requirement already satisfied: joblib>=1.2.0 in /usr/local/lib/python3.11/dist-packages (from scikit-learn==1.*,>=1.0->tensorflow_privacy) (1.4.2)\n",
            "Requirement already satisfied: threadpoolctl>=3.1.0 in /usr/local/lib/python3.11/dist-packages (from scikit-learn==1.*,>=1.0->tensorflow_privacy) (3.5.0)\n",
            "Requirement already satisfied: astunparse>=1.6.0 in /usr/local/lib/python3.11/dist-packages (from tensorflow~=2.4->tensorflow_privacy) (1.6.3)\n",
            "Requirement already satisfied: flatbuffers>=24.3.25 in /usr/local/lib/python3.11/dist-packages (from tensorflow~=2.4->tensorflow_privacy) (25.2.10)\n",
            "Requirement already satisfied: gast!=0.5.0,!=0.5.1,!=0.5.2,>=0.2.1 in /usr/local/lib/python3.11/dist-packages (from tensorflow~=2.4->tensorflow_privacy) (0.6.0)\n",
            "Requirement already satisfied: google-pasta>=0.1.1 in /usr/local/lib/python3.11/dist-packages (from tensorflow~=2.4->tensorflow_privacy) (0.2.0)\n",
            "Requirement already satisfied: libclang>=13.0.0 in /usr/local/lib/python3.11/dist-packages (from tensorflow~=2.4->tensorflow_privacy) (18.1.1)\n",
            "Requirement already satisfied: opt-einsum>=2.3.2 in /usr/local/lib/python3.11/dist-packages (from tensorflow~=2.4->tensorflow_privacy) (3.4.0)\n",
            "Requirement already satisfied: protobuf!=4.21.0,!=4.21.1,!=4.21.2,!=4.21.3,!=4.21.4,!=4.21.5,<6.0.0dev,>=3.20.3 in /usr/local/lib/python3.11/dist-packages (from tensorflow~=2.4->tensorflow_privacy) (4.25.6)\n",
            "Requirement already satisfied: requests<3,>=2.21.0 in /usr/local/lib/python3.11/dist-packages (from tensorflow~=2.4->tensorflow_privacy) (2.32.3)\n",
            "Requirement already satisfied: setuptools in /usr/local/lib/python3.11/dist-packages (from tensorflow~=2.4->tensorflow_privacy) (75.1.0)\n",
            "Requirement already satisfied: six>=1.12.0 in /usr/local/lib/python3.11/dist-packages (from tensorflow~=2.4->tensorflow_privacy) (1.17.0)\n",
            "Requirement already satisfied: termcolor>=1.1.0 in /usr/local/lib/python3.11/dist-packages (from tensorflow~=2.4->tensorflow_privacy) (2.5.0)\n",
            "Requirement already satisfied: typing-extensions>=3.6.6 in /usr/local/lib/python3.11/dist-packages (from tensorflow~=2.4->tensorflow_privacy) (4.12.2)\n",
            "Requirement already satisfied: wrapt>=1.11.0 in /usr/local/lib/python3.11/dist-packages (from tensorflow~=2.4->tensorflow_privacy) (1.17.2)\n",
            "Requirement already satisfied: grpcio<2.0,>=1.24.3 in /usr/local/lib/python3.11/dist-packages (from tensorflow~=2.4->tensorflow_privacy) (1.70.0)\n",
            "Requirement already satisfied: tensorboard<2.19,>=2.18 in /usr/local/lib/python3.11/dist-packages (from tensorflow~=2.4->tensorflow_privacy) (2.18.0)\n",
            "Requirement already satisfied: keras>=3.5.0 in /usr/local/lib/python3.11/dist-packages (from tensorflow~=2.4->tensorflow_privacy) (3.8.0)\n",
            "Requirement already satisfied: h5py>=3.11.0 in /usr/local/lib/python3.11/dist-packages (from tensorflow~=2.4->tensorflow_privacy) (3.12.1)\n",
            "Requirement already satisfied: ml-dtypes<0.5.0,>=0.4.0 in /usr/local/lib/python3.11/dist-packages (from tensorflow~=2.4->tensorflow_privacy) (0.4.1)\n",
            "Requirement already satisfied: tensorflow-io-gcs-filesystem>=0.23.1 in /usr/local/lib/python3.11/dist-packages (from tensorflow~=2.4->tensorflow_privacy) (0.37.1)\n",
            "Requirement already satisfied: decorator in /usr/local/lib/python3.11/dist-packages (from tensorflow-probability~=0.22.0->tensorflow_privacy) (4.4.2)\n",
            "Requirement already satisfied: cloudpickle>=1.3 in /usr/local/lib/python3.11/dist-packages (from tensorflow-probability~=0.22.0->tensorflow_privacy) (3.1.1)\n",
            "Requirement already satisfied: wheel<1.0,>=0.23.0 in /usr/local/lib/python3.11/dist-packages (from astunparse>=1.6.0->tensorflow~=2.4->tensorflow_privacy) (0.45.1)\n",
            "Requirement already satisfied: rich in /usr/local/lib/python3.11/dist-packages (from keras>=3.5.0->tensorflow~=2.4->tensorflow_privacy) (13.9.4)\n",
            "Requirement already satisfied: namex in /usr/local/lib/python3.11/dist-packages (from keras>=3.5.0->tensorflow~=2.4->tensorflow_privacy) (0.0.8)\n",
            "Requirement already satisfied: optree in /usr/local/lib/python3.11/dist-packages (from keras>=3.5.0->tensorflow~=2.4->tensorflow_privacy) (0.14.0)\n",
            "Requirement already satisfied: charset-normalizer<4,>=2 in /usr/local/lib/python3.11/dist-packages (from requests<3,>=2.21.0->tensorflow~=2.4->tensorflow_privacy) (3.4.1)\n",
            "Requirement already satisfied: idna<4,>=2.5 in /usr/local/lib/python3.11/dist-packages (from requests<3,>=2.21.0->tensorflow~=2.4->tensorflow_privacy) (3.10)\n",
            "Requirement already satisfied: urllib3<3,>=1.21.1 in /usr/local/lib/python3.11/dist-packages (from requests<3,>=2.21.0->tensorflow~=2.4->tensorflow_privacy) (2.3.0)\n",
            "Requirement already satisfied: certifi>=2017.4.17 in /usr/local/lib/python3.11/dist-packages (from requests<3,>=2.21.0->tensorflow~=2.4->tensorflow_privacy) (2025.1.31)\n",
            "Requirement already satisfied: markdown>=2.6.8 in /usr/local/lib/python3.11/dist-packages (from tensorboard<2.19,>=2.18->tensorflow~=2.4->tensorflow_privacy) (3.7)\n",
            "Requirement already satisfied: tensorboard-data-server<0.8.0,>=0.7.0 in /usr/local/lib/python3.11/dist-packages (from tensorboard<2.19,>=2.18->tensorflow~=2.4->tensorflow_privacy) (0.7.2)\n",
            "Requirement already satisfied: werkzeug>=1.0.1 in /usr/local/lib/python3.11/dist-packages (from tensorboard<2.19,>=2.18->tensorflow~=2.4->tensorflow_privacy) (3.1.3)\n",
            "Requirement already satisfied: MarkupSafe>=2.1.1 in /usr/local/lib/python3.11/dist-packages (from werkzeug>=1.0.1->tensorboard<2.19,>=2.18->tensorflow~=2.4->tensorflow_privacy) (3.0.2)\n",
            "Requirement already satisfied: markdown-it-py>=2.2.0 in /usr/local/lib/python3.11/dist-packages (from rich->keras>=3.5.0->tensorflow~=2.4->tensorflow_privacy) (3.0.0)\n",
            "Requirement already satisfied: pygments<3.0.0,>=2.13.0 in /usr/local/lib/python3.11/dist-packages (from rich->keras>=3.5.0->tensorflow~=2.4->tensorflow_privacy) (2.18.0)\n",
            "Requirement already satisfied: mdurl~=0.1 in /usr/local/lib/python3.11/dist-packages (from markdown-it-py>=2.2.0->rich->keras>=3.5.0->tensorflow~=2.4->tensorflow_privacy) (0.1.2)\n",
            "Downloading tensorflow_privacy-0.9.0-py3-none-any.whl (323 kB)\n",
            "\u001b[2K   \u001b[90m━━━━━━━━━━━━━━━━━━━━━━━━━━━━━━━━━━━━━━━━\u001b[0m \u001b[32m323.2/323.2 kB\u001b[0m \u001b[31m23.9 MB/s\u001b[0m eta \u001b[36m0:00:00\u001b[0m\n",
            "\u001b[?25hDownloading dm_tree-0.1.8-cp311-cp311-manylinux_2_17_x86_64.manylinux2014_x86_64.whl (152 kB)\n",
            "\u001b[2K   \u001b[90m━━━━━━━━━━━━━━━━━━━━━━━━━━━━━━━━━━━━━━━━\u001b[0m \u001b[32m152.8/152.8 kB\u001b[0m \u001b[31m14.6 MB/s\u001b[0m eta \u001b[36m0:00:00\u001b[0m\n",
            "\u001b[?25hDownloading dp_accounting-0.4.3-py3-none-any.whl (104 kB)\n",
            "\u001b[2K   \u001b[90m━━━━━━━━━━━━━━━━━━━━━━━━━━━━━━━━━━━━━━━━\u001b[0m \u001b[32m104.8/104.8 kB\u001b[0m \u001b[31m10.3 MB/s\u001b[0m eta \u001b[36m0:00:00\u001b[0m\n",
            "\u001b[?25hDownloading packaging-22.0-py3-none-any.whl (42 kB)\n",
            "\u001b[2K   \u001b[90m━━━━━━━━━━━━━━━━━━━━━━━━━━━━━━━━━━━━━━━━\u001b[0m \u001b[32m42.6/42.6 kB\u001b[0m \u001b[31m3.8 MB/s\u001b[0m eta \u001b[36m0:00:00\u001b[0m\n",
            "\u001b[?25hDownloading tensorflow_estimator-2.15.0-py2.py3-none-any.whl (441 kB)\n",
            "\u001b[2K   \u001b[90m━━━━━━━━━━━━━━━━━━━━━━━━━━━━━━━━━━━━━━━━\u001b[0m \u001b[32m442.0/442.0 kB\u001b[0m \u001b[31m36.4 MB/s\u001b[0m eta \u001b[36m0:00:00\u001b[0m\n",
            "\u001b[?25hDownloading tensorflow_probability-0.22.1-py2.py3-none-any.whl (6.9 MB)\n",
            "\u001b[2K   \u001b[90m━━━━━━━━━━━━━━━━━━━━━━━━━━━━━━━━━━━━━━━━\u001b[0m \u001b[32m6.9/6.9 MB\u001b[0m \u001b[31m95.2 MB/s\u001b[0m eta \u001b[36m0:00:00\u001b[0m\n",
            "\u001b[?25hInstalling collected packages: dm-tree, tensorflow-probability, tensorflow-estimator, packaging, dp-accounting, tensorflow_privacy\n",
            "  Attempting uninstall: dm-tree\n",
            "    Found existing installation: dm-tree 0.1.9\n",
            "    Uninstalling dm-tree-0.1.9:\n",
            "      Successfully uninstalled dm-tree-0.1.9\n",
            "  Attempting uninstall: tensorflow-probability\n",
            "    Found existing installation: tensorflow-probability 0.25.0\n",
            "    Uninstalling tensorflow-probability-0.25.0:\n",
            "      Successfully uninstalled tensorflow-probability-0.25.0\n",
            "  Attempting uninstall: packaging\n",
            "    Found existing installation: packaging 24.2\n",
            "    Uninstalling packaging-24.2:\n",
            "      Successfully uninstalled packaging-24.2\n",
            "  Attempting uninstall: dp-accounting\n",
            "    Found existing installation: dp-accounting 0.4.4\n",
            "    Uninstalling dp-accounting-0.4.4:\n",
            "      Successfully uninstalled dp-accounting-0.4.4\n",
            "\u001b[31mERROR: pip's dependency resolver does not currently take into account all the packages that are installed. This behaviour is the source of the following dependency conflicts.\n",
            "sphinx 8.1.3 requires packaging>=23.0, but you have packaging 22.0 which is incompatible.\n",
            "xarray 2025.1.2 requires packaging>=23.2, but you have packaging 22.0 which is incompatible.\n",
            "langchain-core 0.3.35 requires packaging<25,>=23.2, but you have packaging 22.0 which is incompatible.\u001b[0m\u001b[31m\n",
            "\u001b[0mSuccessfully installed dm-tree-0.1.8 dp-accounting-0.4.3 packaging-22.0 tensorflow-estimator-2.15.0 tensorflow-probability-0.22.1 tensorflow_privacy-0.9.0\n",
            "Collecting tensorflow_compression\n",
            "  Downloading tensorflow_compression-2.14.1-cp311-cp311-manylinux_2_17_x86_64.manylinux2014_x86_64.whl.metadata (1.3 kB)\n",
            "Collecting scipy~=1.11.0 (from tensorflow_compression)\n",
            "  Downloading scipy-1.11.4-cp311-cp311-manylinux_2_17_x86_64.manylinux2014_x86_64.whl.metadata (60 kB)\n",
            "\u001b[2K     \u001b[90m━━━━━━━━━━━━━━━━━━━━━━━━━━━━━━━━━━━━━━━━\u001b[0m \u001b[32m60.4/60.4 kB\u001b[0m \u001b[31m3.8 MB/s\u001b[0m eta \u001b[36m0:00:00\u001b[0m\n",
            "\u001b[?25hCollecting tensorflow~=2.14.0 (from tensorflow_compression)\n",
            "  Downloading tensorflow-2.14.1-cp311-cp311-manylinux_2_17_x86_64.manylinux2014_x86_64.whl.metadata (4.1 kB)\n",
            "Requirement already satisfied: tensorflow-probability<0.23,>=0.15 in /usr/local/lib/python3.11/dist-packages (from tensorflow_compression) (0.22.1)\n",
            "Requirement already satisfied: numpy<1.28.0,>=1.21.6 in /usr/local/lib/python3.11/dist-packages (from scipy~=1.11.0->tensorflow_compression) (1.26.4)\n",
            "Requirement already satisfied: absl-py>=1.0.0 in /usr/local/lib/python3.11/dist-packages (from tensorflow~=2.14.0->tensorflow_compression) (1.4.0)\n",
            "Requirement already satisfied: astunparse>=1.6.0 in /usr/local/lib/python3.11/dist-packages (from tensorflow~=2.14.0->tensorflow_compression) (1.6.3)\n",
            "Requirement already satisfied: flatbuffers>=23.5.26 in /usr/local/lib/python3.11/dist-packages (from tensorflow~=2.14.0->tensorflow_compression) (25.2.10)\n",
            "Requirement already satisfied: gast!=0.5.0,!=0.5.1,!=0.5.2,>=0.2.1 in /usr/local/lib/python3.11/dist-packages (from tensorflow~=2.14.0->tensorflow_compression) (0.6.0)\n",
            "Requirement already satisfied: google-pasta>=0.1.1 in /usr/local/lib/python3.11/dist-packages (from tensorflow~=2.14.0->tensorflow_compression) (0.2.0)\n",
            "Requirement already satisfied: h5py>=2.9.0 in /usr/local/lib/python3.11/dist-packages (from tensorflow~=2.14.0->tensorflow_compression) (3.12.1)\n",
            "Requirement already satisfied: libclang>=13.0.0 in /usr/local/lib/python3.11/dist-packages (from tensorflow~=2.14.0->tensorflow_compression) (18.1.1)\n",
            "Collecting ml-dtypes==0.2.0 (from tensorflow~=2.14.0->tensorflow_compression)\n",
            "  Downloading ml_dtypes-0.2.0-cp311-cp311-manylinux_2_17_x86_64.manylinux2014_x86_64.whl.metadata (20 kB)\n",
            "Requirement already satisfied: opt-einsum>=2.3.2 in /usr/local/lib/python3.11/dist-packages (from tensorflow~=2.14.0->tensorflow_compression) (3.4.0)\n",
            "Requirement already satisfied: packaging in /usr/local/lib/python3.11/dist-packages (from tensorflow~=2.14.0->tensorflow_compression) (22.0)\n",
            "Requirement already satisfied: protobuf!=4.21.0,!=4.21.1,!=4.21.2,!=4.21.3,!=4.21.4,!=4.21.5,<5.0.0dev,>=3.20.3 in /usr/local/lib/python3.11/dist-packages (from tensorflow~=2.14.0->tensorflow_compression) (4.25.6)\n",
            "Requirement already satisfied: setuptools in /usr/local/lib/python3.11/dist-packages (from tensorflow~=2.14.0->tensorflow_compression) (75.1.0)\n",
            "Requirement already satisfied: six>=1.12.0 in /usr/local/lib/python3.11/dist-packages (from tensorflow~=2.14.0->tensorflow_compression) (1.17.0)\n",
            "Requirement already satisfied: termcolor>=1.1.0 in /usr/local/lib/python3.11/dist-packages (from tensorflow~=2.14.0->tensorflow_compression) (2.5.0)\n",
            "Requirement already satisfied: typing-extensions>=3.6.6 in /usr/local/lib/python3.11/dist-packages (from tensorflow~=2.14.0->tensorflow_compression) (4.12.2)\n",
            "Collecting wrapt<1.15,>=1.11.0 (from tensorflow~=2.14.0->tensorflow_compression)\n",
            "  Downloading wrapt-1.14.1-cp311-cp311-manylinux_2_5_x86_64.manylinux1_x86_64.manylinux_2_17_x86_64.manylinux2014_x86_64.whl.metadata (6.7 kB)\n",
            "Requirement already satisfied: tensorflow-io-gcs-filesystem>=0.23.1 in /usr/local/lib/python3.11/dist-packages (from tensorflow~=2.14.0->tensorflow_compression) (0.37.1)\n",
            "Requirement already satisfied: grpcio<2.0,>=1.24.3 in /usr/local/lib/python3.11/dist-packages (from tensorflow~=2.14.0->tensorflow_compression) (1.70.0)\n",
            "Collecting tensorboard<2.15,>=2.14 (from tensorflow~=2.14.0->tensorflow_compression)\n",
            "  Downloading tensorboard-2.14.1-py3-none-any.whl.metadata (1.7 kB)\n",
            "Collecting tensorflow-estimator<2.15,>=2.14.0 (from tensorflow~=2.14.0->tensorflow_compression)\n",
            "  Downloading tensorflow_estimator-2.14.0-py2.py3-none-any.whl.metadata (1.3 kB)\n",
            "Collecting keras<2.15,>=2.14.0 (from tensorflow~=2.14.0->tensorflow_compression)\n",
            "  Downloading keras-2.14.0-py3-none-any.whl.metadata (2.4 kB)\n",
            "Requirement already satisfied: decorator in /usr/local/lib/python3.11/dist-packages (from tensorflow-probability<0.23,>=0.15->tensorflow_compression) (4.4.2)\n",
            "Requirement already satisfied: cloudpickle>=1.3 in /usr/local/lib/python3.11/dist-packages (from tensorflow-probability<0.23,>=0.15->tensorflow_compression) (3.1.1)\n",
            "Requirement already satisfied: dm-tree in /usr/local/lib/python3.11/dist-packages (from tensorflow-probability<0.23,>=0.15->tensorflow_compression) (0.1.8)\n",
            "Requirement already satisfied: wheel<1.0,>=0.23.0 in /usr/local/lib/python3.11/dist-packages (from astunparse>=1.6.0->tensorflow~=2.14.0->tensorflow_compression) (0.45.1)\n",
            "Requirement already satisfied: google-auth<3,>=1.6.3 in /usr/local/lib/python3.11/dist-packages (from tensorboard<2.15,>=2.14->tensorflow~=2.14.0->tensorflow_compression) (2.27.0)\n",
            "Collecting google-auth-oauthlib<1.1,>=0.5 (from tensorboard<2.15,>=2.14->tensorflow~=2.14.0->tensorflow_compression)\n",
            "  Downloading google_auth_oauthlib-1.0.0-py2.py3-none-any.whl.metadata (2.7 kB)\n",
            "Requirement already satisfied: markdown>=2.6.8 in /usr/local/lib/python3.11/dist-packages (from tensorboard<2.15,>=2.14->tensorflow~=2.14.0->tensorflow_compression) (3.7)\n",
            "Requirement already satisfied: requests<3,>=2.21.0 in /usr/local/lib/python3.11/dist-packages (from tensorboard<2.15,>=2.14->tensorflow~=2.14.0->tensorflow_compression) (2.32.3)\n",
            "Requirement already satisfied: tensorboard-data-server<0.8.0,>=0.7.0 in /usr/local/lib/python3.11/dist-packages (from tensorboard<2.15,>=2.14->tensorflow~=2.14.0->tensorflow_compression) (0.7.2)\n",
            "Requirement already satisfied: werkzeug>=1.0.1 in /usr/local/lib/python3.11/dist-packages (from tensorboard<2.15,>=2.14->tensorflow~=2.14.0->tensorflow_compression) (3.1.3)\n",
            "Requirement already satisfied: cachetools<6.0,>=2.0.0 in /usr/local/lib/python3.11/dist-packages (from google-auth<3,>=1.6.3->tensorboard<2.15,>=2.14->tensorflow~=2.14.0->tensorflow_compression) (4.2.1)\n",
            "Requirement already satisfied: pyasn1-modules>=0.2.1 in /usr/local/lib/python3.11/dist-packages (from google-auth<3,>=1.6.3->tensorboard<2.15,>=2.14->tensorflow~=2.14.0->tensorflow_compression) (0.4.1)\n",
            "Requirement already satisfied: rsa<5,>=3.1.4 in /usr/local/lib/python3.11/dist-packages (from google-auth<3,>=1.6.3->tensorboard<2.15,>=2.14->tensorflow~=2.14.0->tensorflow_compression) (4.9)\n",
            "Requirement already satisfied: requests-oauthlib>=0.7.0 in /usr/local/lib/python3.11/dist-packages (from google-auth-oauthlib<1.1,>=0.5->tensorboard<2.15,>=2.14->tensorflow~=2.14.0->tensorflow_compression) (2.0.0)\n",
            "Requirement already satisfied: charset-normalizer<4,>=2 in /usr/local/lib/python3.11/dist-packages (from requests<3,>=2.21.0->tensorboard<2.15,>=2.14->tensorflow~=2.14.0->tensorflow_compression) (3.4.1)\n",
            "Requirement already satisfied: idna<4,>=2.5 in /usr/local/lib/python3.11/dist-packages (from requests<3,>=2.21.0->tensorboard<2.15,>=2.14->tensorflow~=2.14.0->tensorflow_compression) (3.10)\n",
            "Requirement already satisfied: urllib3<3,>=1.21.1 in /usr/local/lib/python3.11/dist-packages (from requests<3,>=2.21.0->tensorboard<2.15,>=2.14->tensorflow~=2.14.0->tensorflow_compression) (2.3.0)\n",
            "Requirement already satisfied: certifi>=2017.4.17 in /usr/local/lib/python3.11/dist-packages (from requests<3,>=2.21.0->tensorboard<2.15,>=2.14->tensorflow~=2.14.0->tensorflow_compression) (2025.1.31)\n",
            "Requirement already satisfied: MarkupSafe>=2.1.1 in /usr/local/lib/python3.11/dist-packages (from werkzeug>=1.0.1->tensorboard<2.15,>=2.14->tensorflow~=2.14.0->tensorflow_compression) (3.0.2)\n",
            "Requirement already satisfied: pyasn1<0.7.0,>=0.4.6 in /usr/local/lib/python3.11/dist-packages (from pyasn1-modules>=0.2.1->google-auth<3,>=1.6.3->tensorboard<2.15,>=2.14->tensorflow~=2.14.0->tensorflow_compression) (0.6.1)\n",
            "Requirement already satisfied: oauthlib>=3.0.0 in /usr/local/lib/python3.11/dist-packages (from requests-oauthlib>=0.7.0->google-auth-oauthlib<1.1,>=0.5->tensorboard<2.15,>=2.14->tensorflow~=2.14.0->tensorflow_compression) (3.2.2)\n",
            "Downloading tensorflow_compression-2.14.1-cp311-cp311-manylinux_2_17_x86_64.manylinux2014_x86_64.whl (262 kB)\n",
            "\u001b[2K   \u001b[90m━━━━━━━━━━━━━━━━━━━━━━━━━━━━━━━━━━━━━━━━\u001b[0m \u001b[32m262.5/262.5 kB\u001b[0m \u001b[31m23.7 MB/s\u001b[0m eta \u001b[36m0:00:00\u001b[0m\n",
            "\u001b[?25hDownloading scipy-1.11.4-cp311-cp311-manylinux_2_17_x86_64.manylinux2014_x86_64.whl (36.4 MB)\n",
            "\u001b[2K   \u001b[90m━━━━━━━━━━━━━━━━━━━━━━━━━━━━━━━━━━━━━━━━\u001b[0m \u001b[32m36.4/36.4 MB\u001b[0m \u001b[31m28.3 MB/s\u001b[0m eta \u001b[36m0:00:00\u001b[0m\n",
            "\u001b[?25hDownloading tensorflow-2.14.1-cp311-cp311-manylinux_2_17_x86_64.manylinux2014_x86_64.whl (489.9 MB)\n",
            "\u001b[2K   \u001b[90m━━━━━━━━━━━━━━━━━━━━━━━━━━━━━━━━━━━━━━━━\u001b[0m \u001b[32m489.9/489.9 MB\u001b[0m \u001b[31m3.5 MB/s\u001b[0m eta \u001b[36m0:00:00\u001b[0m\n",
            "\u001b[?25hDownloading ml_dtypes-0.2.0-cp311-cp311-manylinux_2_17_x86_64.manylinux2014_x86_64.whl (1.0 MB)\n",
            "\u001b[2K   \u001b[90m━━━━━━━━━━━━━━━━━━━━━━━━━━━━━━━━━━━━━━━━\u001b[0m \u001b[32m1.0/1.0 MB\u001b[0m \u001b[31m55.9 MB/s\u001b[0m eta \u001b[36m0:00:00\u001b[0m\n",
            "\u001b[?25hDownloading keras-2.14.0-py3-none-any.whl (1.7 MB)\n",
            "\u001b[2K   \u001b[90m━━━━━━━━━━━━━━━━━━━━━━━━━━━━━━━━━━━━━━━━\u001b[0m \u001b[32m1.7/1.7 MB\u001b[0m \u001b[31m65.5 MB/s\u001b[0m eta \u001b[36m0:00:00\u001b[0m\n",
            "\u001b[?25hDownloading tensorboard-2.14.1-py3-none-any.whl (5.5 MB)\n",
            "\u001b[2K   \u001b[90m━━━━━━━━━━━━━━━━━━━━━━━━━━━━━━━━━━━━━━━━\u001b[0m \u001b[32m5.5/5.5 MB\u001b[0m \u001b[31m92.1 MB/s\u001b[0m eta \u001b[36m0:00:00\u001b[0m\n",
            "\u001b[?25hDownloading tensorflow_estimator-2.14.0-py2.py3-none-any.whl (440 kB)\n",
            "\u001b[2K   \u001b[90m━━━━━━━━━━━━━━━━━━━━━━━━━━━━━━━━━━━━━━━━\u001b[0m \u001b[32m440.7/440.7 kB\u001b[0m \u001b[31m33.0 MB/s\u001b[0m eta \u001b[36m0:00:00\u001b[0m\n",
            "\u001b[?25hDownloading wrapt-1.14.1-cp311-cp311-manylinux_2_5_x86_64.manylinux1_x86_64.manylinux_2_17_x86_64.manylinux2014_x86_64.whl (78 kB)\n",
            "\u001b[2K   \u001b[90m━━━━━━━━━━━━━━━━━━━━━━━━━━━━━━━━━━━━━━━━\u001b[0m \u001b[32m78.4/78.4 kB\u001b[0m \u001b[31m7.6 MB/s\u001b[0m eta \u001b[36m0:00:00\u001b[0m\n",
            "\u001b[?25hDownloading google_auth_oauthlib-1.0.0-py2.py3-none-any.whl (18 kB)\n",
            "Installing collected packages: wrapt, tensorflow-estimator, scipy, ml-dtypes, keras, google-auth-oauthlib, tensorboard, tensorflow, tensorflow_compression\n",
            "  Attempting uninstall: wrapt\n",
            "    Found existing installation: wrapt 1.17.2\n",
            "    Uninstalling wrapt-1.17.2:\n",
            "      Successfully uninstalled wrapt-1.17.2\n",
            "  Attempting uninstall: tensorflow-estimator\n",
            "    Found existing installation: tensorflow-estimator 2.15.0\n",
            "    Uninstalling tensorflow-estimator-2.15.0:\n",
            "      Successfully uninstalled tensorflow-estimator-2.15.0\n",
            "  Attempting uninstall: scipy\n",
            "    Found existing installation: scipy 1.15.2\n",
            "    Uninstalling scipy-1.15.2:\n",
            "      Successfully uninstalled scipy-1.15.2\n",
            "  Attempting uninstall: ml-dtypes\n",
            "    Found existing installation: ml-dtypes 0.4.1\n",
            "    Uninstalling ml-dtypes-0.4.1:\n",
            "      Successfully uninstalled ml-dtypes-0.4.1\n",
            "  Attempting uninstall: keras\n",
            "    Found existing installation: keras 3.8.0\n",
            "    Uninstalling keras-3.8.0:\n",
            "      Successfully uninstalled keras-3.8.0\n",
            "  Attempting uninstall: google-auth-oauthlib\n",
            "    Found existing installation: google-auth-oauthlib 1.2.1\n",
            "    Uninstalling google-auth-oauthlib-1.2.1:\n",
            "      Successfully uninstalled google-auth-oauthlib-1.2.1\n",
            "  Attempting uninstall: tensorboard\n",
            "    Found existing installation: tensorboard 2.18.0\n",
            "    Uninstalling tensorboard-2.18.0:\n",
            "      Successfully uninstalled tensorboard-2.18.0\n",
            "  Attempting uninstall: tensorflow\n",
            "    Found existing installation: tensorflow 2.18.0\n",
            "    Uninstalling tensorflow-2.18.0:\n",
            "      Successfully uninstalled tensorflow-2.18.0\n",
            "\u001b[31mERROR: pip's dependency resolver does not currently take into account all the packages that are installed. This behaviour is the source of the following dependency conflicts.\n",
            "tensorflow-text 2.18.1 requires tensorflow<2.19,>=2.18.0, but you have tensorflow 2.14.1 which is incompatible.\n",
            "tf-keras 2.18.0 requires tensorflow<2.19,>=2.18, but you have tensorflow 2.14.1 which is incompatible.\n",
            "tensorstore 0.1.71 requires ml_dtypes>=0.3.1, but you have ml-dtypes 0.2.0 which is incompatible.\u001b[0m\u001b[31m\n",
            "\u001b[0mSuccessfully installed google-auth-oauthlib-1.0.0 keras-2.14.0 ml-dtypes-0.2.0 scipy-1.11.4 tensorboard-2.14.1 tensorflow-2.14.1 tensorflow-estimator-2.14.0 tensorflow_compression-2.14.1 wrapt-1.14.1\n",
            "Collecting tensorflow_model_optimization\n",
            "  Downloading tensorflow_model_optimization-0.8.0-py2.py3-none-any.whl.metadata (904 bytes)\n",
            "Requirement already satisfied: absl-py~=1.2 in /usr/local/lib/python3.11/dist-packages (from tensorflow_model_optimization) (1.4.0)\n",
            "Requirement already satisfied: dm-tree~=0.1.1 in /usr/local/lib/python3.11/dist-packages (from tensorflow_model_optimization) (0.1.8)\n",
            "Requirement already satisfied: numpy~=1.23 in /usr/local/lib/python3.11/dist-packages (from tensorflow_model_optimization) (1.26.4)\n",
            "Requirement already satisfied: six~=1.14 in /usr/local/lib/python3.11/dist-packages (from tensorflow_model_optimization) (1.17.0)\n",
            "Downloading tensorflow_model_optimization-0.8.0-py2.py3-none-any.whl (242 kB)\n",
            "\u001b[2K   \u001b[90m━━━━━━━━━━━━━━━━━━━━━━━━━━━━━━━━━━━━━━━━\u001b[0m \u001b[32m242.5/242.5 kB\u001b[0m \u001b[31m13.6 MB/s\u001b[0m eta \u001b[36m0:00:00\u001b[0m\n",
            "\u001b[?25hInstalling collected packages: tensorflow_model_optimization\n",
            "Successfully installed tensorflow_model_optimization-0.8.0\n",
            "Collecting pyfarmhash\n",
            "  Downloading pyfarmhash-0.4.0.tar.gz (99 kB)\n",
            "\u001b[2K     \u001b[90m━━━━━━━━━━━━━━━━━━━━━━━━━━━━━━━━━━━━━━━━\u001b[0m \u001b[32m99.5/99.5 kB\u001b[0m \u001b[31m10.0 MB/s\u001b[0m eta \u001b[36m0:00:00\u001b[0m\n",
            "\u001b[?25h  Preparing metadata (setup.py) ... \u001b[?25l\u001b[?25hdone\n",
            "Building wheels for collected packages: pyfarmhash\n",
            "  Building wheel for pyfarmhash (setup.py) ... \u001b[?25l\u001b[?25hdone\n",
            "  Created wheel for pyfarmhash: filename=pyfarmhash-0.4.0-cp311-cp311-linux_x86_64.whl size=87743 sha256=a0f2551cc350693cfc8ec996b06cf8743803f26857bb0d1d5adbe4a4e5232f53\n",
            "  Stored in directory: /root/.cache/pip/wheels/47/d1/7e/c98541a1577e766dec0475b2e5ecc870de2bd6264a91cce95a\n",
            "Successfully built pyfarmhash\n",
            "Installing collected packages: pyfarmhash\n",
            "Successfully installed pyfarmhash-0.4.0\n",
            "Collecting google-vizier\n",
            "  Downloading google_vizier-0.1.24-py3-none-any.whl.metadata (11 kB)\n",
            "Requirement already satisfied: attrs>=23.1.0 in /usr/local/lib/python3.11/dist-packages (from google-vizier) (25.1.0)\n",
            "Requirement already satisfied: absl-py>=1.0.0 in /usr/local/lib/python3.11/dist-packages (from google-vizier) (1.4.0)\n",
            "Requirement already satisfied: numpy>=1.21.5 in /usr/local/lib/python3.11/dist-packages (from google-vizier) (1.26.4)\n",
            "Requirement already satisfied: protobuf>=3.6 in /usr/local/lib/python3.11/dist-packages (from google-vizier) (4.25.6)\n",
            "Requirement already satisfied: portpicker>=1.3.1 in /usr/local/lib/python3.11/dist-packages (from google-vizier) (1.5.2)\n",
            "Requirement already satisfied: grpcio>=1.49.0 in /usr/local/lib/python3.11/dist-packages (from google-vizier) (1.70.0)\n",
            "Requirement already satisfied: googleapis-common-protos>=1.56.4 in /usr/local/lib/python3.11/dist-packages (from google-vizier) (1.66.0)\n",
            "Requirement already satisfied: sqlalchemy>=1.4 in /usr/local/lib/python3.11/dist-packages (from google-vizier) (2.0.38)\n",
            "Requirement already satisfied: psutil in /usr/local/lib/python3.11/dist-packages (from portpicker>=1.3.1->google-vizier) (5.9.5)\n",
            "Requirement already satisfied: greenlet!=0.4.17 in /usr/local/lib/python3.11/dist-packages (from sqlalchemy>=1.4->google-vizier) (3.1.1)\n",
            "Requirement already satisfied: typing-extensions>=4.6.0 in /usr/local/lib/python3.11/dist-packages (from sqlalchemy>=1.4->google-vizier) (4.12.2)\n",
            "Downloading google_vizier-0.1.24-py3-none-any.whl (801 kB)\n",
            "\u001b[2K   \u001b[90m━━━━━━━━━━━━━━━━━━━━━━━━━━━━━━━━━━━━━━━━\u001b[0m \u001b[32m801.4/801.4 kB\u001b[0m \u001b[31m37.0 MB/s\u001b[0m eta \u001b[36m0:00:00\u001b[0m\n",
            "\u001b[?25hInstalling collected packages: google-vizier\n",
            "Successfully installed google-vizier-0.1.24\n",
            "\u001b[31mERROR: Could not find a version that satisfies the requirement mkl-fft==1.3.6 (from versions: 1.3.8, 1.3.11)\u001b[0m\u001b[31m\n",
            "\u001b[0m\u001b[31mERROR: No matching distribution found for mkl-fft==1.3.6\u001b[0m\u001b[31m\n",
            "\u001b[0m"
          ]
        }
      ],
      "source": [
        "!pip install jax==0.4.33\n",
        "!pip install cachetools==4.2.1\n",
        "!pip install dp_accounting\n",
        "!pip install tensorflow_privacy\n",
        "!pip install tensorflow_compression\n",
        "!pip install tensorflow_model_optimization\n",
        "!pip install pyfarmhash\n",
        "!pip install google-vizier\n",
        "!pip install mkl-fft==1.3.6"
      ]
    },
    {
      "cell_type": "code",
      "execution_count": null,
      "metadata": {
        "colab": {
          "base_uri": "https://localhost:8080/",
          "height": 1000
        },
        "collapsed": true,
        "id": "rXTdl5RT3mWJ",
        "outputId": "bd539584-ed01-4ef4-d7b5-e03b0d5d04ee"
      },
      "outputs": [
        {
          "name": "stdout",
          "output_type": "stream",
          "text": [
            "Collecting tensorflow-federated\n",
            "  Downloading tensorflow_federated-0.87.0-py3-none-manylinux_2_31_x86_64.whl.metadata (19 kB)\n",
            "Requirement already satisfied: absl-py==1.*,>=1.0 in /usr/local/lib/python3.11/dist-packages (from tensorflow-federated) (1.4.0)\n",
            "Collecting attrs~=23.1 (from tensorflow-federated)\n",
            "  Downloading attrs-23.2.0-py3-none-any.whl.metadata (9.5 kB)\n",
            "Collecting cachetools~=5.3 (from tensorflow-federated)\n",
            "  Downloading cachetools-5.5.1-py3-none-any.whl.metadata (5.4 kB)\n",
            "Requirement already satisfied: dm-tree==0.1.8 in /usr/local/lib/python3.11/dist-packages (from tensorflow-federated) (0.1.8)\n",
            "Requirement already satisfied: dp-accounting==0.4.3 in /usr/local/lib/python3.11/dist-packages (from tensorflow-federated) (0.4.3)\n",
            "Collecting google-vizier==0.1.11 (from tensorflow-federated)\n",
            "  Downloading google_vizier-0.1.11-py3-none-any.whl.metadata (10 kB)\n",
            "Requirement already satisfied: grpcio~=1.46 in /usr/local/lib/python3.11/dist-packages (from tensorflow-federated) (1.70.0)\n",
            "Collecting jaxlib==0.4.14 (from tensorflow-federated)\n",
            "  Downloading jaxlib-0.4.14-cp311-cp311-manylinux2014_x86_64.whl.metadata (2.0 kB)\n",
            "Collecting jax==0.4.14 (from tensorflow-federated)\n",
            "  Downloading jax-0.4.14.tar.gz (1.3 MB)\n",
            "\u001b[2K     \u001b[90m━━━━━━━━━━━━━━━━━━━━━━━━━━━━━━━━━━━━━━━━\u001b[0m \u001b[32m1.3/1.3 MB\u001b[0m \u001b[31m23.4 MB/s\u001b[0m eta \u001b[36m0:00:00\u001b[0m\n",
            "\u001b[?25h  Installing build dependencies ... \u001b[?25l\u001b[?25hdone\n",
            "  Getting requirements to build wheel ... \u001b[?25l\u001b[?25hdone\n",
            "  Preparing metadata (pyproject.toml) ... \u001b[?25l\u001b[?25hdone\n",
            "Requirement already satisfied: ml-dtypes==0.2.*,>=0.2.0 in /usr/local/lib/python3.11/dist-packages (from tensorflow-federated) (0.2.0)\n",
            "Requirement already satisfied: numpy~=1.25 in /usr/local/lib/python3.11/dist-packages (from tensorflow-federated) (1.26.4)\n",
            "Collecting portpicker~=1.6 (from tensorflow-federated)\n",
            "  Downloading portpicker-1.6.0-py3-none-any.whl.metadata (1.5 kB)\n",
            "Collecting scipy~=1.9.3 (from tensorflow-federated)\n",
            "  Using cached scipy-1.9.3-cp311-cp311-manylinux_2_17_x86_64.manylinux2014_x86_64.whl.metadata (58 kB)\n",
            "Collecting tensorflow-model-optimization==0.7.5 (from tensorflow-federated)\n",
            "  Downloading tensorflow_model_optimization-0.7.5-py2.py3-none-any.whl.metadata (914 bytes)\n",
            "Requirement already satisfied: tensorflow-privacy==0.9.0 in /usr/local/lib/python3.11/dist-packages (from tensorflow-federated) (0.9.0)\n",
            "Requirement already satisfied: tensorflow==2.14.*,>=2.14.0 in /usr/local/lib/python3.11/dist-packages (from tensorflow-federated) (2.14.1)\n",
            "Requirement already satisfied: tqdm~=4.64 in /usr/local/lib/python3.11/dist-packages (from tensorflow-federated) (4.67.1)\n",
            "Collecting typing-extensions==4.5.*,>=4.5.0 (from tensorflow-federated)\n",
            "  Downloading typing_extensions-4.5.0-py3-none-any.whl.metadata (8.5 kB)\n",
            "Collecting googleapis-common-protos==1.61.0 (from tensorflow-federated)\n",
            "  Downloading googleapis_common_protos-1.61.0-py2.py3-none-any.whl.metadata (1.5 kB)\n",
            "Requirement already satisfied: mpmath~=1.2 in /usr/local/lib/python3.11/dist-packages (from dp-accounting==0.4.3->tensorflow-federated) (1.3.0)\n",
            "Collecting attrs~=23.1 (from tensorflow-federated)\n",
            "  Downloading attrs-23.1.0-py3-none-any.whl.metadata (11 kB)\n",
            "Requirement already satisfied: protobuf>=3.6 in /usr/local/lib/python3.11/dist-packages (from google-vizier==0.1.11->tensorflow-federated) (4.25.6)\n",
            "Collecting grpcio-tools>=1.35.0 (from google-vizier==0.1.11->tensorflow-federated)\n",
            "  Downloading grpcio_tools-1.70.0-cp311-cp311-manylinux_2_17_x86_64.manylinux2014_x86_64.whl.metadata (5.3 kB)\n",
            "Collecting sqlalchemy<=1.4.20,>=1.4 (from google-vizier==0.1.11->tensorflow-federated)\n",
            "  Downloading SQLAlchemy-1.4.20.tar.gz (7.7 MB)\n",
            "\u001b[2K     \u001b[90m━━━━━━━━━━━━━━━━━━━━━━━━━━━━━━━━━━━━━━━━\u001b[0m \u001b[32m7.7/7.7 MB\u001b[0m \u001b[31m79.9 MB/s\u001b[0m eta \u001b[36m0:00:00\u001b[0m\n",
            "\u001b[?25h  Preparing metadata (setup.py) ... \u001b[?25l\u001b[?25hdone\n",
            "Requirement already satisfied: opt_einsum in /usr/local/lib/python3.11/dist-packages (from jax==0.4.14->tensorflow-federated) (3.4.0)\n",
            "Requirement already satisfied: astunparse>=1.6.0 in /usr/local/lib/python3.11/dist-packages (from tensorflow==2.14.*,>=2.14.0->tensorflow-federated) (1.6.3)\n",
            "Requirement already satisfied: flatbuffers>=23.5.26 in /usr/local/lib/python3.11/dist-packages (from tensorflow==2.14.*,>=2.14.0->tensorflow-federated) (25.2.10)\n",
            "Requirement already satisfied: gast!=0.5.0,!=0.5.1,!=0.5.2,>=0.2.1 in /usr/local/lib/python3.11/dist-packages (from tensorflow==2.14.*,>=2.14.0->tensorflow-federated) (0.6.0)\n",
            "Requirement already satisfied: google-pasta>=0.1.1 in /usr/local/lib/python3.11/dist-packages (from tensorflow==2.14.*,>=2.14.0->tensorflow-federated) (0.2.0)\n",
            "Requirement already satisfied: h5py>=2.9.0 in /usr/local/lib/python3.11/dist-packages (from tensorflow==2.14.*,>=2.14.0->tensorflow-federated) (3.12.1)\n",
            "Requirement already satisfied: libclang>=13.0.0 in /usr/local/lib/python3.11/dist-packages (from tensorflow==2.14.*,>=2.14.0->tensorflow-federated) (18.1.1)\n",
            "Requirement already satisfied: packaging in /usr/local/lib/python3.11/dist-packages (from tensorflow==2.14.*,>=2.14.0->tensorflow-federated) (22.0)\n",
            "Requirement already satisfied: setuptools in /usr/local/lib/python3.11/dist-packages (from tensorflow==2.14.*,>=2.14.0->tensorflow-federated) (75.1.0)\n",
            "Requirement already satisfied: six>=1.12.0 in /usr/local/lib/python3.11/dist-packages (from tensorflow==2.14.*,>=2.14.0->tensorflow-federated) (1.17.0)\n",
            "Requirement already satisfied: termcolor>=1.1.0 in /usr/local/lib/python3.11/dist-packages (from tensorflow==2.14.*,>=2.14.0->tensorflow-federated) (2.5.0)\n",
            "Requirement already satisfied: wrapt<1.15,>=1.11.0 in /usr/local/lib/python3.11/dist-packages (from tensorflow==2.14.*,>=2.14.0->tensorflow-federated) (1.14.1)\n",
            "Requirement already satisfied: tensorflow-io-gcs-filesystem>=0.23.1 in /usr/local/lib/python3.11/dist-packages (from tensorflow==2.14.*,>=2.14.0->tensorflow-federated) (0.37.1)\n",
            "Requirement already satisfied: tensorboard<2.15,>=2.14 in /usr/local/lib/python3.11/dist-packages (from tensorflow==2.14.*,>=2.14.0->tensorflow-federated) (2.14.1)\n",
            "Requirement already satisfied: tensorflow-estimator<2.15,>=2.14.0 in /usr/local/lib/python3.11/dist-packages (from tensorflow==2.14.*,>=2.14.0->tensorflow-federated) (2.14.0)\n",
            "Requirement already satisfied: keras<2.15,>=2.14.0 in /usr/local/lib/python3.11/dist-packages (from tensorflow==2.14.*,>=2.14.0->tensorflow-federated) (2.14.0)\n",
            "Requirement already satisfied: scikit-learn==1.*,>=1.0 in /usr/local/lib/python3.11/dist-packages (from tensorflow-privacy==0.9.0->tensorflow-federated) (1.6.1)\n",
            "Requirement already satisfied: tensorflow-probability~=0.22.0 in /usr/local/lib/python3.11/dist-packages (from tensorflow-privacy==0.9.0->tensorflow-federated) (0.22.1)\n",
            "Requirement already satisfied: joblib>=1.2.0 in /usr/local/lib/python3.11/dist-packages (from scikit-learn==1.*,>=1.0->tensorflow-privacy==0.9.0->tensorflow-federated) (1.4.2)\n",
            "Requirement already satisfied: threadpoolctl>=3.1.0 in /usr/local/lib/python3.11/dist-packages (from scikit-learn==1.*,>=1.0->tensorflow-privacy==0.9.0->tensorflow-federated) (3.5.0)\n",
            "Requirement already satisfied: psutil in /usr/local/lib/python3.11/dist-packages (from portpicker~=1.6->tensorflow-federated) (5.9.5)\n",
            "Collecting numpy~=1.25 (from tensorflow-federated)\n",
            "  Downloading numpy-1.25.2-cp311-cp311-manylinux_2_17_x86_64.manylinux2014_x86_64.whl.metadata (5.6 kB)\n",
            "Requirement already satisfied: wheel<1.0,>=0.23.0 in /usr/local/lib/python3.11/dist-packages (from astunparse>=1.6.0->tensorflow==2.14.*,>=2.14.0->tensorflow-federated) (0.45.1)\n",
            "INFO: pip is looking at multiple versions of grpcio-tools to determine which version is compatible with other requirements. This could take a while.\n",
            "Collecting grpcio-tools>=1.35.0 (from google-vizier==0.1.11->tensorflow-federated)\n",
            "  Downloading grpcio_tools-1.69.0-cp311-cp311-manylinux_2_17_x86_64.manylinux2014_x86_64.whl.metadata (5.3 kB)\n",
            "  Downloading grpcio_tools-1.68.1-cp311-cp311-manylinux_2_17_x86_64.manylinux2014_x86_64.whl.metadata (5.3 kB)\n",
            "  Downloading grpcio_tools-1.68.0-cp311-cp311-manylinux_2_17_x86_64.manylinux2014_x86_64.whl.metadata (5.3 kB)\n",
            "  Downloading grpcio_tools-1.67.1-cp311-cp311-manylinux_2_17_x86_64.manylinux2014_x86_64.whl.metadata (5.3 kB)\n",
            "  Downloading grpcio_tools-1.67.0-cp311-cp311-manylinux_2_17_x86_64.manylinux2014_x86_64.whl.metadata (5.3 kB)\n",
            "  Downloading grpcio_tools-1.66.2-cp311-cp311-manylinux_2_17_x86_64.manylinux2014_x86_64.whl.metadata (5.3 kB)\n",
            "  Downloading grpcio_tools-1.66.1-cp311-cp311-manylinux_2_17_x86_64.manylinux2014_x86_64.whl.metadata (5.3 kB)\n",
            "INFO: pip is still looking at multiple versions of grpcio-tools to determine which version is compatible with other requirements. This could take a while.\n",
            "  Downloading grpcio_tools-1.66.0-cp311-cp311-manylinux_2_17_x86_64.manylinux2014_x86_64.whl.metadata (5.3 kB)\n",
            "  Downloading grpcio_tools-1.65.5-cp311-cp311-manylinux_2_17_x86_64.manylinux2014_x86_64.whl.metadata (5.3 kB)\n",
            "  Downloading grpcio_tools-1.65.4-cp311-cp311-manylinux_2_17_x86_64.manylinux2014_x86_64.whl.metadata (5.3 kB)\n",
            "  Downloading grpcio_tools-1.65.2-cp311-cp311-manylinux_2_17_x86_64.manylinux2014_x86_64.whl.metadata (5.3 kB)\n",
            "  Downloading grpcio_tools-1.65.1-cp311-cp311-manylinux_2_17_x86_64.manylinux2014_x86_64.whl.metadata (5.3 kB)\n",
            "INFO: This is taking longer than usual. You might need to provide the dependency resolver with stricter constraints to reduce runtime. See https://pip.pypa.io/warnings/backtracking for guidance. If you want to abort this run, press Ctrl + C.\n",
            "  Downloading grpcio_tools-1.64.3-cp311-cp311-manylinux_2_17_x86_64.manylinux2014_x86_64.whl.metadata (5.3 kB)\n",
            "  Downloading grpcio_tools-1.64.1-cp311-cp311-manylinux_2_17_x86_64.manylinux2014_x86_64.whl.metadata (5.3 kB)\n",
            "  Downloading grpcio_tools-1.64.0-cp311-cp311-manylinux_2_17_x86_64.manylinux2014_x86_64.whl.metadata (5.3 kB)\n",
            "  Downloading grpcio_tools-1.63.2-cp311-cp311-manylinux_2_17_x86_64.manylinux2014_x86_64.whl.metadata (5.3 kB)\n",
            "  Downloading grpcio_tools-1.63.0-cp311-cp311-manylinux_2_17_x86_64.manylinux2014_x86_64.whl.metadata (5.3 kB)\n",
            "  Downloading grpcio_tools-1.62.3-cp311-cp311-manylinux_2_17_x86_64.manylinux2014_x86_64.whl.metadata (6.2 kB)\n",
            "Requirement already satisfied: greenlet!=0.4.17 in /usr/local/lib/python3.11/dist-packages (from sqlalchemy<=1.4.20,>=1.4->google-vizier==0.1.11->tensorflow-federated) (3.1.1)\n",
            "Requirement already satisfied: google-auth<3,>=1.6.3 in /usr/local/lib/python3.11/dist-packages (from tensorboard<2.15,>=2.14->tensorflow==2.14.*,>=2.14.0->tensorflow-federated) (2.27.0)\n",
            "Requirement already satisfied: google-auth-oauthlib<1.1,>=0.5 in /usr/local/lib/python3.11/dist-packages (from tensorboard<2.15,>=2.14->tensorflow==2.14.*,>=2.14.0->tensorflow-federated) (1.0.0)\n",
            "Requirement already satisfied: markdown>=2.6.8 in /usr/local/lib/python3.11/dist-packages (from tensorboard<2.15,>=2.14->tensorflow==2.14.*,>=2.14.0->tensorflow-federated) (3.7)\n",
            "Requirement already satisfied: requests<3,>=2.21.0 in /usr/local/lib/python3.11/dist-packages (from tensorboard<2.15,>=2.14->tensorflow==2.14.*,>=2.14.0->tensorflow-federated) (2.32.3)\n",
            "Requirement already satisfied: tensorboard-data-server<0.8.0,>=0.7.0 in /usr/local/lib/python3.11/dist-packages (from tensorboard<2.15,>=2.14->tensorflow==2.14.*,>=2.14.0->tensorflow-federated) (0.7.2)\n",
            "Requirement already satisfied: werkzeug>=1.0.1 in /usr/local/lib/python3.11/dist-packages (from tensorboard<2.15,>=2.14->tensorflow==2.14.*,>=2.14.0->tensorflow-federated) (3.1.3)\n",
            "Requirement already satisfied: decorator in /usr/local/lib/python3.11/dist-packages (from tensorflow-probability~=0.22.0->tensorflow-privacy==0.9.0->tensorflow-federated) (4.4.2)\n",
            "Requirement already satisfied: cloudpickle>=1.3 in /usr/local/lib/python3.11/dist-packages (from tensorflow-probability~=0.22.0->tensorflow-privacy==0.9.0->tensorflow-federated) (3.1.1)\n",
            "Requirement already satisfied: pyasn1-modules>=0.2.1 in /usr/local/lib/python3.11/dist-packages (from google-auth<3,>=1.6.3->tensorboard<2.15,>=2.14->tensorflow==2.14.*,>=2.14.0->tensorflow-federated) (0.4.1)\n",
            "Requirement already satisfied: rsa<5,>=3.1.4 in /usr/local/lib/python3.11/dist-packages (from google-auth<3,>=1.6.3->tensorboard<2.15,>=2.14->tensorflow==2.14.*,>=2.14.0->tensorflow-federated) (4.9)\n",
            "Requirement already satisfied: requests-oauthlib>=0.7.0 in /usr/local/lib/python3.11/dist-packages (from google-auth-oauthlib<1.1,>=0.5->tensorboard<2.15,>=2.14->tensorflow==2.14.*,>=2.14.0->tensorflow-federated) (2.0.0)\n",
            "Requirement already satisfied: charset-normalizer<4,>=2 in /usr/local/lib/python3.11/dist-packages (from requests<3,>=2.21.0->tensorboard<2.15,>=2.14->tensorflow==2.14.*,>=2.14.0->tensorflow-federated) (3.4.1)\n",
            "Requirement already satisfied: idna<4,>=2.5 in /usr/local/lib/python3.11/dist-packages (from requests<3,>=2.21.0->tensorboard<2.15,>=2.14->tensorflow==2.14.*,>=2.14.0->tensorflow-federated) (3.10)\n",
            "Requirement already satisfied: urllib3<3,>=1.21.1 in /usr/local/lib/python3.11/dist-packages (from requests<3,>=2.21.0->tensorboard<2.15,>=2.14->tensorflow==2.14.*,>=2.14.0->tensorflow-federated) (2.3.0)\n",
            "Requirement already satisfied: certifi>=2017.4.17 in /usr/local/lib/python3.11/dist-packages (from requests<3,>=2.21.0->tensorboard<2.15,>=2.14->tensorflow==2.14.*,>=2.14.0->tensorflow-federated) (2025.1.31)\n",
            "Requirement already satisfied: MarkupSafe>=2.1.1 in /usr/local/lib/python3.11/dist-packages (from werkzeug>=1.0.1->tensorboard<2.15,>=2.14->tensorflow==2.14.*,>=2.14.0->tensorflow-federated) (3.0.2)\n",
            "Requirement already satisfied: pyasn1<0.7.0,>=0.4.6 in /usr/local/lib/python3.11/dist-packages (from pyasn1-modules>=0.2.1->google-auth<3,>=1.6.3->tensorboard<2.15,>=2.14->tensorflow==2.14.*,>=2.14.0->tensorflow-federated) (0.6.1)\n",
            "Requirement already satisfied: oauthlib>=3.0.0 in /usr/local/lib/python3.11/dist-packages (from requests-oauthlib>=0.7.0->google-auth-oauthlib<1.1,>=0.5->tensorboard<2.15,>=2.14->tensorflow==2.14.*,>=2.14.0->tensorflow-federated) (3.2.2)\n",
            "Downloading tensorflow_federated-0.87.0-py3-none-manylinux_2_31_x86_64.whl (71.9 MB)\n",
            "\u001b[2K   \u001b[90m━━━━━━━━━━━━━━━━━━━━━━━━━━━━━━━━━━━━━━━━\u001b[0m \u001b[32m71.9/71.9 MB\u001b[0m \u001b[31m9.8 MB/s\u001b[0m eta \u001b[36m0:00:00\u001b[0m\n",
            "\u001b[?25hDownloading google_vizier-0.1.11-py3-none-any.whl (721 kB)\n",
            "\u001b[2K   \u001b[90m━━━━━━━━━━━━━━━━━━━━━━━━━━━━━━━━━━━━━━━━\u001b[0m \u001b[32m721.6/721.6 kB\u001b[0m \u001b[31m46.9 MB/s\u001b[0m eta \u001b[36m0:00:00\u001b[0m\n",
            "\u001b[?25hDownloading attrs-23.1.0-py3-none-any.whl (61 kB)\n",
            "\u001b[2K   \u001b[90m━━━━━━━━━━━━━━━━━━━━━━━━━━━━━━━━━━━━━━━━\u001b[0m \u001b[32m61.2/61.2 kB\u001b[0m \u001b[31m5.0 MB/s\u001b[0m eta \u001b[36m0:00:00\u001b[0m\n",
            "\u001b[?25hDownloading googleapis_common_protos-1.61.0-py2.py3-none-any.whl (230 kB)\n",
            "\u001b[2K   \u001b[90m━━━━━━━━━━━━━━━━━━━━━━━━━━━━━━━━━━━━━━━━\u001b[0m \u001b[32m230.9/230.9 kB\u001b[0m \u001b[31m21.7 MB/s\u001b[0m eta \u001b[36m0:00:00\u001b[0m\n",
            "\u001b[?25hDownloading jaxlib-0.4.14-cp311-cp311-manylinux2014_x86_64.whl (73.7 MB)\n",
            "\u001b[2K   \u001b[90m━━━━━━━━━━━━━━━━━━━━━━━━━━━━━━━━━━━━━━━━\u001b[0m \u001b[32m73.7/73.7 MB\u001b[0m \u001b[31m9.9 MB/s\u001b[0m eta \u001b[36m0:00:00\u001b[0m\n",
            "\u001b[?25hDownloading tensorflow_model_optimization-0.7.5-py2.py3-none-any.whl (241 kB)\n",
            "\u001b[2K   \u001b[90m━━━━━━━━━━━━━━━━━━━━━━━━━━━━━━━━━━━━━━━━\u001b[0m \u001b[32m241.2/241.2 kB\u001b[0m \u001b[31m20.5 MB/s\u001b[0m eta \u001b[36m0:00:00\u001b[0m\n",
            "\u001b[?25hDownloading typing_extensions-4.5.0-py3-none-any.whl (27 kB)\n",
            "Downloading cachetools-5.5.1-py3-none-any.whl (9.5 kB)\n",
            "Downloading portpicker-1.6.0-py3-none-any.whl (16 kB)\n",
            "Using cached scipy-1.9.3-cp311-cp311-manylinux_2_17_x86_64.manylinux2014_x86_64.whl (33.4 MB)\n",
            "Downloading numpy-1.25.2-cp311-cp311-manylinux_2_17_x86_64.manylinux2014_x86_64.whl (18.2 MB)\n",
            "\u001b[2K   \u001b[90m━━━━━━━━━━━━━━━━━━━━━━━━━━━━━━━━━━━━━━━━\u001b[0m \u001b[32m18.2/18.2 MB\u001b[0m \u001b[31m87.8 MB/s\u001b[0m eta \u001b[36m0:00:00\u001b[0m\n",
            "\u001b[?25hDownloading grpcio_tools-1.62.3-cp311-cp311-manylinux_2_17_x86_64.manylinux2014_x86_64.whl (2.8 MB)\n",
            "\u001b[2K   \u001b[90m━━━━━━━━━━━━━━━━━━━━━━━━━━━━━━━━━━━━━━━━\u001b[0m \u001b[32m2.8/2.8 MB\u001b[0m \u001b[31m88.2 MB/s\u001b[0m eta \u001b[36m0:00:00\u001b[0m\n",
            "\u001b[?25hBuilding wheels for collected packages: jax, sqlalchemy\n",
            "  Building wheel for jax (pyproject.toml) ... \u001b[?25l\u001b[?25hdone\n",
            "  Created wheel for jax: filename=jax-0.4.14-py3-none-any.whl size=1535421 sha256=d9991af81a7ff6df588b767746b68b02063a271265cf68c6b8612c4f1281e277\n",
            "  Stored in directory: /root/.cache/pip/wheels/c4/8d/5d/66b1fbb551b0c3a21696015b7339b8241ebfa128bb9145febd\n",
            "  Building wheel for sqlalchemy (setup.py) ... \u001b[?25l\u001b[?25hdone\n",
            "  Created wheel for sqlalchemy: filename=SQLAlchemy-1.4.20-cp311-cp311-linux_x86_64.whl size=1531748 sha256=600783d1241e6f77c2cea8a87f52f8adb6311f8b530c278a4e8225c947044bd4\n",
            "  Stored in directory: /root/.cache/pip/wheels/75/a2/a2/9290912f40321acfd65cf7a741d2e0882e9a1f9464f60e2e9b\n",
            "Successfully built jax sqlalchemy\n",
            "Installing collected packages: typing-extensions, sqlalchemy, portpicker, numpy, grpcio-tools, googleapis-common-protos, cachetools, attrs, tensorflow-model-optimization, scipy, google-vizier, jaxlib, jax, tensorflow-federated\n",
            "  Attempting uninstall: typing-extensions\n",
            "    Found existing installation: typing_extensions 4.12.2\n",
            "    Uninstalling typing_extensions-4.12.2:\n",
            "      Successfully uninstalled typing_extensions-4.12.2\n",
            "  Attempting uninstall: sqlalchemy\n",
            "    Found existing installation: SQLAlchemy 2.0.38\n",
            "    Uninstalling SQLAlchemy-2.0.38:\n",
            "      Successfully uninstalled SQLAlchemy-2.0.38\n",
            "  Attempting uninstall: portpicker\n",
            "    Found existing installation: portpicker 1.5.2\n",
            "    Uninstalling portpicker-1.5.2:\n",
            "      Successfully uninstalled portpicker-1.5.2\n",
            "  Attempting uninstall: numpy\n",
            "    Found existing installation: numpy 1.26.4\n",
            "    Uninstalling numpy-1.26.4:\n",
            "      Successfully uninstalled numpy-1.26.4\n",
            "  Attempting uninstall: googleapis-common-protos\n",
            "    Found existing installation: googleapis-common-protos 1.66.0\n",
            "    Uninstalling googleapis-common-protos-1.66.0:\n",
            "      Successfully uninstalled googleapis-common-protos-1.66.0\n",
            "  Attempting uninstall: cachetools\n",
            "    Found existing installation: cachetools 4.2.1\n",
            "    Uninstalling cachetools-4.2.1:\n",
            "      Successfully uninstalled cachetools-4.2.1\n",
            "  Attempting uninstall: attrs\n",
            "    Found existing installation: attrs 25.1.0\n",
            "    Uninstalling attrs-25.1.0:\n",
            "      Successfully uninstalled attrs-25.1.0\n",
            "  Attempting uninstall: tensorflow-model-optimization\n",
            "    Found existing installation: tensorflow-model-optimization 0.8.0\n",
            "    Uninstalling tensorflow-model-optimization-0.8.0:\n",
            "      Successfully uninstalled tensorflow-model-optimization-0.8.0\n",
            "  Attempting uninstall: scipy\n",
            "    Found existing installation: scipy 1.11.4\n",
            "    Uninstalling scipy-1.11.4:\n",
            "      Successfully uninstalled scipy-1.11.4\n",
            "  Attempting uninstall: google-vizier\n",
            "    Found existing installation: google-vizier 0.1.24\n",
            "    Uninstalling google-vizier-0.1.24:\n",
            "      Successfully uninstalled google-vizier-0.1.24\n",
            "  Attempting uninstall: jaxlib\n",
            "    Found existing installation: jaxlib 0.4.33\n",
            "    Uninstalling jaxlib-0.4.33:\n",
            "      Successfully uninstalled jaxlib-0.4.33\n",
            "  Attempting uninstall: jax\n",
            "    Found existing installation: jax 0.4.33\n",
            "    Uninstalling jax-0.4.33:\n",
            "      Successfully uninstalled jax-0.4.33\n",
            "\u001b[31mERROR: pip's dependency resolver does not currently take into account all the packages that are installed. This behaviour is the source of the following dependency conflicts.\n",
            "tensorflow-compression 2.14.1 requires scipy~=1.11.0, but you have scipy 1.9.3 which is incompatible.\n",
            "google-colab 1.0.0 requires portpicker==1.5.2, but you have portpicker 1.6.0 which is incompatible.\n",
            "scikit-image 0.25.1 requires scipy>=1.11.2, but you have scipy 1.9.3 which is incompatible.\n",
            "imbalanced-learn 0.13.0 requires scipy<2,>=1.10.1, but you have scipy 1.9.3 which is incompatible.\n",
            "pydantic-core 2.27.2 requires typing-extensions!=4.7.0,>=4.6.0, but you have typing-extensions 4.5.0 which is incompatible.\n",
            "nibabel 5.3.2 requires typing-extensions>=4.6; python_version < \"3.13\", but you have typing-extensions 4.5.0 which is incompatible.\n",
            "pydantic 2.10.6 requires typing-extensions>=4.12.2, but you have typing-extensions 4.5.0 which is incompatible.\n",
            "albumentations 2.0.4 requires scipy>=1.10.0, but you have scipy 1.9.3 which is incompatible.\n",
            "flax 0.10.3 requires jax>=0.4.27, but you have jax 0.4.14 which is incompatible.\n",
            "altair 5.5.0 requires typing-extensions>=4.10.0; python_version < \"3.14\", but you have typing-extensions 4.5.0 which is incompatible.\n",
            "tensorflow-text 2.18.1 requires tensorflow<2.19,>=2.18.0, but you have tensorflow 2.14.1 which is incompatible.\n",
            "typeguard 4.4.1 requires typing-extensions>=4.10.0, but you have typing-extensions 4.5.0 which is incompatible.\n",
            "torch 2.5.1+cu124 requires nvidia-cublas-cu12==12.4.5.8; platform_system == \"Linux\" and platform_machine == \"x86_64\", but you have nvidia-cublas-cu12 12.5.3.2 which is incompatible.\n",
            "torch 2.5.1+cu124 requires nvidia-cuda-cupti-cu12==12.4.127; platform_system == \"Linux\" and platform_machine == \"x86_64\", but you have nvidia-cuda-cupti-cu12 12.5.82 which is incompatible.\n",
            "torch 2.5.1+cu124 requires nvidia-cuda-nvrtc-cu12==12.4.127; platform_system == \"Linux\" and platform_machine == \"x86_64\", but you have nvidia-cuda-nvrtc-cu12 12.5.82 which is incompatible.\n",
            "torch 2.5.1+cu124 requires nvidia-cuda-runtime-cu12==12.4.127; platform_system == \"Linux\" and platform_machine == \"x86_64\", but you have nvidia-cuda-runtime-cu12 12.5.82 which is incompatible.\n",
            "torch 2.5.1+cu124 requires nvidia-cudnn-cu12==9.1.0.70; platform_system == \"Linux\" and platform_machine == \"x86_64\", but you have nvidia-cudnn-cu12 9.3.0.75 which is incompatible.\n",
            "torch 2.5.1+cu124 requires nvidia-cufft-cu12==11.2.1.3; platform_system == \"Linux\" and platform_machine == \"x86_64\", but you have nvidia-cufft-cu12 11.2.3.61 which is incompatible.\n",
            "torch 2.5.1+cu124 requires nvidia-curand-cu12==10.3.5.147; platform_system == \"Linux\" and platform_machine == \"x86_64\", but you have nvidia-curand-cu12 10.3.6.82 which is incompatible.\n",
            "torch 2.5.1+cu124 requires nvidia-cusolver-cu12==11.6.1.9; platform_system == \"Linux\" and platform_machine == \"x86_64\", but you have nvidia-cusolver-cu12 11.6.3.83 which is incompatible.\n",
            "torch 2.5.1+cu124 requires nvidia-cusparse-cu12==12.3.1.170; platform_system == \"Linux\" and platform_machine == \"x86_64\", but you have nvidia-cusparse-cu12 12.5.1.3 which is incompatible.\n",
            "torch 2.5.1+cu124 requires nvidia-nvjitlink-cu12==12.4.127; platform_system == \"Linux\" and platform_machine == \"x86_64\", but you have nvidia-nvjitlink-cu12 12.5.82 which is incompatible.\n",
            "torch 2.5.1+cu124 requires typing-extensions>=4.8.0, but you have typing-extensions 4.5.0 which is incompatible.\n",
            "chex 0.1.88 requires jax>=0.4.27, but you have jax 0.4.14 which is incompatible.\n",
            "chex 0.1.88 requires jaxlib>=0.4.27, but you have jaxlib 0.4.14 which is incompatible.\n",
            "xarray 2025.1.2 requires packaging>=23.2, but you have packaging 22.0 which is incompatible.\n",
            "optax 0.2.4 requires jax>=0.4.27, but you have jax 0.4.14 which is incompatible.\n",
            "optax 0.2.4 requires jaxlib>=0.4.27, but you have jaxlib 0.4.14 which is incompatible.\n",
            "langchain-core 0.3.35 requires packaging<25,>=23.2, but you have packaging 22.0 which is incompatible.\n",
            "langchain-core 0.3.35 requires typing-extensions>=4.7, but you have typing-extensions 4.5.0 which is incompatible.\n",
            "orbax-checkpoint 0.6.4 requires jax>=0.4.26, but you have jax 0.4.14 which is incompatible.\n",
            "ipython-sql 0.5.0 requires sqlalchemy>=2.0, but you have sqlalchemy 1.4.20 which is incompatible.\n",
            "openai 1.61.1 requires typing-extensions<5,>=4.11, but you have typing-extensions 4.5.0 which is incompatible.\n",
            "tf-keras 2.18.0 requires tensorflow<2.19,>=2.18, but you have tensorflow 2.14.1 which is incompatible.\n",
            "langchain 0.3.18 requires numpy<2,>=1.26.4; python_version < \"3.12\", but you have numpy 1.25.2 which is incompatible.\n",
            "tensorstore 0.1.71 requires ml_dtypes>=0.3.1, but you have ml-dtypes 0.2.0 which is incompatible.\u001b[0m\u001b[31m\n",
            "\u001b[0mSuccessfully installed attrs-23.1.0 cachetools-5.5.1 google-vizier-0.1.11 googleapis-common-protos-1.61.0 grpcio-tools-1.62.3 jax-0.4.14 jaxlib-0.4.14 numpy-1.25.2 portpicker-1.6.0 scipy-1.9.3 sqlalchemy-1.4.20 tensorflow-federated-0.87.0 tensorflow-model-optimization-0.7.5 typing-extensions-4.5.0\n"
          ]
        },
        {
          "data": {
            "application/vnd.colab-display-data+json": {
              "id": "cf0260a8f4004e0588563831d1ade7a7",
              "pip_warning": {
                "packages": [
                  "google",
                  "numpy",
                  "portpicker"
                ]
              }
            }
          },
          "metadata": {},
          "output_type": "display_data"
        }
      ],
      "source": [
        "!pip install tensorflow-federated"
      ]
    },
    {
      "cell_type": "code",
      "execution_count": null,
      "metadata": {
        "colab": {
          "base_uri": "https://localhost:8080/"
        },
        "id": "Bp7Pfa2y3mWJ",
        "outputId": "6cc4bbe4-c1b1-4f7b-9382-650293dc1823"
      },
      "outputs": [
        {
          "name": "stderr",
          "output_type": "stream",
          "text": [
            "ERROR:jax._src.xla_bridge:Jax plugin configuration error: Exception when calling jax_plugins.xla_cuda12.initialize()\n",
            "Traceback (most recent call last):\n",
            "  File \"/usr/local/lib/python3.11/dist-packages/jax/_src/xla_bridge.py\", line 438, in discover_pjrt_plugins\n",
            "    plugin_module.initialize()\n",
            "  File \"/usr/local/lib/python3.11/dist-packages/jax_plugins/xla_cuda12/__init__.py\", line 85, in initialize\n",
            "    options = xla_client.generate_pjrt_gpu_plugin_options()\n",
            "              ^^^^^^^^^^^^^^^^^^^^^^^^^^^^^^^^^^^^^^^^^^^\n",
            "AttributeError: module 'jaxlib.xla_client' has no attribute 'generate_pjrt_gpu_plugin_options'\n"
          ]
        }
      ],
      "source": [
        "import pandas as pd\n",
        "import os\n",
        "import tensorflow as tf"
      ]
    },
    {
      "cell_type": "code",
      "execution_count": null,
      "metadata": {
        "colab": {
          "base_uri": "https://localhost:8080/"
        },
        "id": "O9cwEbrU3mWK",
        "outputId": "e3bdc4f0-4c25-432c-a8d0-be4ed15ef1c4"
      },
      "outputs": [
        {
          "data": {
            "text/plain": [
              "b'Hello, World!'"
            ]
          },
          "execution_count": 7,
          "metadata": {},
          "output_type": "execute_result"
        }
      ],
      "source": [
        "import tensorflow_federated as tff\n",
        "import numpy as np\n",
        "\n",
        "np.random.seed(0)\n",
        "tff.federated_computation(lambda: 'Hello, World!')()"
      ]
    },
    {
      "cell_type": "markdown",
      "metadata": {
        "id": "L2C6RfGdo5nL"
      },
      "source": [
        "# Loading the dataset"
      ]
    },
    {
      "cell_type": "code",
      "execution_count": null,
      "metadata": {
        "id": "atLzIYL83mWK"
      },
      "outputs": [],
      "source": [
        "# Define the directory and client/attack details\n",
        "DATA_DIR = mkashifn_nbaiot_dataset_path\n",
        "CLIENTS = [\"1\", \"2\", \"4\", \"5\", \"6\"]  # List of client IDs\n",
        "CSV_FILES = [\n",
        "    \"benign\", \"gafgyt.combo\", \"gafgyt.junk\", \"gafgyt.scan\", \"gafgyt.tcp\",\n",
        "    \"gafgyt.udp\", \"mirai.ack\", \"mirai.scan\", \"mirai.syn\", \"mirai.udp\", \"mirai.udpplain\"\n",
        "]"
      ]
    },
    {
      "cell_type": "code",
      "execution_count": null,
      "metadata": {
        "colab": {
          "background_save": true,
          "base_uri": "https://localhost:8080/"
        },
        "id": "l9Asciyl3mWK",
        "outputId": "6ca01089-b4ce-4b54-c5d3-e44ed773c4ca"
      },
      "outputs": [
        {
          "name": "stdout",
          "output_type": "stream",
          "text": [
            "Loaded and appended: /root/.cache/kagglehub/datasets/mkashifn/nbaiot-dataset/versions/1/1.benign.csv with type benign\n",
            "Loaded and appended: /root/.cache/kagglehub/datasets/mkashifn/nbaiot-dataset/versions/1/1.gafgyt.combo.csv with type gafgyt_combo\n",
            "Loaded and appended: /root/.cache/kagglehub/datasets/mkashifn/nbaiot-dataset/versions/1/1.gafgyt.junk.csv with type gafgyt_junk\n",
            "Loaded and appended: /root/.cache/kagglehub/datasets/mkashifn/nbaiot-dataset/versions/1/1.gafgyt.scan.csv with type gafgyt_scan\n",
            "Loaded and appended: /root/.cache/kagglehub/datasets/mkashifn/nbaiot-dataset/versions/1/1.gafgyt.tcp.csv with type gafgyt_tcp\n",
            "Loaded and appended: /root/.cache/kagglehub/datasets/mkashifn/nbaiot-dataset/versions/1/1.gafgyt.udp.csv with type gafgyt_udp\n",
            "Loaded and appended: /root/.cache/kagglehub/datasets/mkashifn/nbaiot-dataset/versions/1/1.mirai.ack.csv with type mirai_ack\n",
            "Loaded and appended: /root/.cache/kagglehub/datasets/mkashifn/nbaiot-dataset/versions/1/1.mirai.scan.csv with type mirai_scan\n",
            "Loaded and appended: /root/.cache/kagglehub/datasets/mkashifn/nbaiot-dataset/versions/1/1.mirai.syn.csv with type mirai_syn\n",
            "Loaded and appended: /root/.cache/kagglehub/datasets/mkashifn/nbaiot-dataset/versions/1/1.mirai.udp.csv with type mirai_udp\n",
            "Loaded and appended: /root/.cache/kagglehub/datasets/mkashifn/nbaiot-dataset/versions/1/1.mirai.udpplain.csv with type mirai_udpplain\n",
            "Loaded and appended: /root/.cache/kagglehub/datasets/mkashifn/nbaiot-dataset/versions/1/2.benign.csv with type benign\n",
            "Loaded and appended: /root/.cache/kagglehub/datasets/mkashifn/nbaiot-dataset/versions/1/2.gafgyt.combo.csv with type gafgyt_combo\n",
            "Loaded and appended: /root/.cache/kagglehub/datasets/mkashifn/nbaiot-dataset/versions/1/2.gafgyt.junk.csv with type gafgyt_junk\n",
            "Loaded and appended: /root/.cache/kagglehub/datasets/mkashifn/nbaiot-dataset/versions/1/2.gafgyt.scan.csv with type gafgyt_scan\n",
            "Loaded and appended: /root/.cache/kagglehub/datasets/mkashifn/nbaiot-dataset/versions/1/2.gafgyt.tcp.csv with type gafgyt_tcp\n",
            "Loaded and appended: /root/.cache/kagglehub/datasets/mkashifn/nbaiot-dataset/versions/1/2.gafgyt.udp.csv with type gafgyt_udp\n",
            "Loaded and appended: /root/.cache/kagglehub/datasets/mkashifn/nbaiot-dataset/versions/1/2.mirai.ack.csv with type mirai_ack\n",
            "Loaded and appended: /root/.cache/kagglehub/datasets/mkashifn/nbaiot-dataset/versions/1/2.mirai.scan.csv with type mirai_scan\n",
            "Loaded and appended: /root/.cache/kagglehub/datasets/mkashifn/nbaiot-dataset/versions/1/2.mirai.syn.csv with type mirai_syn\n",
            "Loaded and appended: /root/.cache/kagglehub/datasets/mkashifn/nbaiot-dataset/versions/1/2.mirai.udp.csv with type mirai_udp\n",
            "Loaded and appended: /root/.cache/kagglehub/datasets/mkashifn/nbaiot-dataset/versions/1/2.mirai.udpplain.csv with type mirai_udpplain\n",
            "Loaded and appended: /root/.cache/kagglehub/datasets/mkashifn/nbaiot-dataset/versions/1/4.benign.csv with type benign\n",
            "Loaded and appended: /root/.cache/kagglehub/datasets/mkashifn/nbaiot-dataset/versions/1/4.gafgyt.combo.csv with type gafgyt_combo\n",
            "Loaded and appended: /root/.cache/kagglehub/datasets/mkashifn/nbaiot-dataset/versions/1/4.gafgyt.junk.csv with type gafgyt_junk\n",
            "Loaded and appended: /root/.cache/kagglehub/datasets/mkashifn/nbaiot-dataset/versions/1/4.gafgyt.scan.csv with type gafgyt_scan\n",
            "Loaded and appended: /root/.cache/kagglehub/datasets/mkashifn/nbaiot-dataset/versions/1/4.gafgyt.tcp.csv with type gafgyt_tcp\n",
            "Loaded and appended: /root/.cache/kagglehub/datasets/mkashifn/nbaiot-dataset/versions/1/4.gafgyt.udp.csv with type gafgyt_udp\n",
            "Loaded and appended: /root/.cache/kagglehub/datasets/mkashifn/nbaiot-dataset/versions/1/4.mirai.ack.csv with type mirai_ack\n",
            "Loaded and appended: /root/.cache/kagglehub/datasets/mkashifn/nbaiot-dataset/versions/1/4.mirai.scan.csv with type mirai_scan\n",
            "Loaded and appended: /root/.cache/kagglehub/datasets/mkashifn/nbaiot-dataset/versions/1/4.mirai.syn.csv with type mirai_syn\n",
            "Loaded and appended: /root/.cache/kagglehub/datasets/mkashifn/nbaiot-dataset/versions/1/4.mirai.udp.csv with type mirai_udp\n",
            "Loaded and appended: /root/.cache/kagglehub/datasets/mkashifn/nbaiot-dataset/versions/1/4.mirai.udpplain.csv with type mirai_udpplain\n",
            "Loaded and appended: /root/.cache/kagglehub/datasets/mkashifn/nbaiot-dataset/versions/1/5.benign.csv with type benign\n",
            "Loaded and appended: /root/.cache/kagglehub/datasets/mkashifn/nbaiot-dataset/versions/1/5.gafgyt.combo.csv with type gafgyt_combo\n",
            "Loaded and appended: /root/.cache/kagglehub/datasets/mkashifn/nbaiot-dataset/versions/1/5.gafgyt.junk.csv with type gafgyt_junk\n",
            "Loaded and appended: /root/.cache/kagglehub/datasets/mkashifn/nbaiot-dataset/versions/1/5.gafgyt.scan.csv with type gafgyt_scan\n",
            "Loaded and appended: /root/.cache/kagglehub/datasets/mkashifn/nbaiot-dataset/versions/1/5.gafgyt.tcp.csv with type gafgyt_tcp\n",
            "Loaded and appended: /root/.cache/kagglehub/datasets/mkashifn/nbaiot-dataset/versions/1/5.gafgyt.udp.csv with type gafgyt_udp\n",
            "Loaded and appended: /root/.cache/kagglehub/datasets/mkashifn/nbaiot-dataset/versions/1/5.mirai.ack.csv with type mirai_ack\n",
            "Loaded and appended: /root/.cache/kagglehub/datasets/mkashifn/nbaiot-dataset/versions/1/5.mirai.scan.csv with type mirai_scan\n",
            "Loaded and appended: /root/.cache/kagglehub/datasets/mkashifn/nbaiot-dataset/versions/1/5.mirai.syn.csv with type mirai_syn\n",
            "Loaded and appended: /root/.cache/kagglehub/datasets/mkashifn/nbaiot-dataset/versions/1/5.mirai.udp.csv with type mirai_udp\n",
            "Loaded and appended: /root/.cache/kagglehub/datasets/mkashifn/nbaiot-dataset/versions/1/5.mirai.udpplain.csv with type mirai_udpplain\n",
            "Loaded and appended: /root/.cache/kagglehub/datasets/mkashifn/nbaiot-dataset/versions/1/6.benign.csv with type benign\n",
            "Loaded and appended: /root/.cache/kagglehub/datasets/mkashifn/nbaiot-dataset/versions/1/6.gafgyt.combo.csv with type gafgyt_combo\n",
            "Loaded and appended: /root/.cache/kagglehub/datasets/mkashifn/nbaiot-dataset/versions/1/6.gafgyt.junk.csv with type gafgyt_junk\n",
            "Loaded and appended: /root/.cache/kagglehub/datasets/mkashifn/nbaiot-dataset/versions/1/6.gafgyt.scan.csv with type gafgyt_scan\n",
            "Loaded and appended: /root/.cache/kagglehub/datasets/mkashifn/nbaiot-dataset/versions/1/6.gafgyt.tcp.csv with type gafgyt_tcp\n",
            "Loaded and appended: /root/.cache/kagglehub/datasets/mkashifn/nbaiot-dataset/versions/1/6.gafgyt.udp.csv with type gafgyt_udp\n",
            "Loaded and appended: /root/.cache/kagglehub/datasets/mkashifn/nbaiot-dataset/versions/1/6.mirai.ack.csv with type mirai_ack\n",
            "Loaded and appended: /root/.cache/kagglehub/datasets/mkashifn/nbaiot-dataset/versions/1/6.mirai.scan.csv with type mirai_scan\n",
            "Loaded and appended: /root/.cache/kagglehub/datasets/mkashifn/nbaiot-dataset/versions/1/6.mirai.syn.csv with type mirai_syn\n",
            "Loaded and appended: /root/.cache/kagglehub/datasets/mkashifn/nbaiot-dataset/versions/1/6.mirai.udp.csv with type mirai_udp\n",
            "Loaded and appended: /root/.cache/kagglehub/datasets/mkashifn/nbaiot-dataset/versions/1/6.mirai.udpplain.csv with type mirai_udpplain\n"
          ]
        }
      ],
      "source": [
        "# List to hold all DataFrames for concatenation\n",
        "all_dataframes = []\n",
        "\n",
        "# Loop through each client and each attack type\n",
        "for client in CLIENTS:\n",
        "    for attack in CSV_FILES:\n",
        "        file_path = os.path.join(DATA_DIR, f\"{client}.{attack}.csv\")\n",
        "\n",
        "        # Check if the file exists before loading\n",
        "        if os.path.exists(file_path):\n",
        "            df = pd.read_csv(file_path)\n",
        "\n",
        "            # Add the type column\n",
        "            df['type'] = attack.replace('.', '_')  # Replace '.' with '_' for consistent naming\n",
        "            df['client_id'] = client  # Keep track of the client ID\n",
        "\n",
        "            all_dataframes.append(df)\n",
        "            print(f\"Loaded and appended: {file_path} with type {df['type'].iloc[0]}\")\n",
        "        else:\n",
        "            print(f\"File not found: {file_path}\")"
      ]
    },
    {
      "cell_type": "code",
      "execution_count": null,
      "metadata": {
        "colab": {
          "background_save": true
        },
        "id": "Nv-z05CN3mWL"
      },
      "outputs": [],
      "source": [
        "# Concatenate all DataFrames\n",
        "df = pd.concat(all_dataframes, axis=0, ignore_index=True, sort=False)"
      ]
    },
    {
      "cell_type": "code",
      "execution_count": null,
      "metadata": {
        "colab": {
          "background_save": true
        },
        "id": "02GlRgLNo5nN",
        "outputId": "eee44f8b-3c65-4fc6-fecf-acd29d58463c"
      },
      "outputs": [
        {
          "name": "stdout",
          "output_type": "stream",
          "text": [
            "type\n",
            "mirai_udp         237665\n",
            "mirai_syn         122573\n",
            "mirai_scan        107685\n",
            "gafgyt_udp        105874\n",
            "mirai_ack         102195\n",
            "gafgyt_tcp         92141\n",
            "mirai_udpplain     81982\n",
            "gafgyt_combo       59718\n",
            "benign             49548\n",
            "gafgyt_scan        29849\n",
            "gafgyt_junk        29068\n",
            "Name: count, dtype: int64\n",
            "type\n",
            "mirai_udp         151481\n",
            "mirai_syn         116807\n",
            "mirai_ack         113285\n",
            "gafgyt_udp        104791\n",
            "gafgyt_tcp         95021\n",
            "mirai_udpplain     87368\n",
            "gafgyt_combo       53012\n",
            "mirai_scan         43192\n",
            "gafgyt_junk        30312\n",
            "gafgyt_scan        27494\n",
            "benign             13113\n",
            "Name: count, dtype: int64\n",
            "type\n",
            "mirai_udp         217034\n",
            "benign            175240\n",
            "mirai_syn         118128\n",
            "gafgyt_udp        105782\n",
            "mirai_scan        103621\n",
            "gafgyt_tcp         92581\n",
            "mirai_ack          91123\n",
            "mirai_udpplain     80808\n",
            "gafgyt_combo       58152\n",
            "gafgyt_junk        28349\n",
            "gafgyt_scan        27859\n",
            "Name: count, dtype: int64\n",
            "type\n",
            "mirai_udp         156248\n",
            "gafgyt_tcp        104510\n",
            "gafgyt_udp        104011\n",
            "mirai_scan         96781\n",
            "mirai_syn          65746\n",
            "benign             62154\n",
            "gafgyt_combo       61380\n",
            "mirai_ack          60554\n",
            "mirai_udpplain     56681\n",
            "gafgyt_junk        30898\n",
            "gafgyt_scan        29297\n",
            "Name: count, dtype: int64\n",
            "type\n",
            "mirai_udp         158608\n",
            "gafgyt_udp        104658\n",
            "benign             98514\n",
            "mirai_scan         97096\n",
            "gafgyt_tcp         89387\n",
            "mirai_syn          61851\n",
            "mirai_ack          57997\n",
            "gafgyt_combo       57530\n",
            "mirai_udpplain     53785\n",
            "gafgyt_junk        29068\n",
            "gafgyt_scan        28397\n",
            "Name: count, dtype: int64\n"
          ]
        }
      ],
      "source": [
        "print(df[df[\"client_id\"] == \"1\"][\"type\"].value_counts())\n",
        "print(df[df[\"client_id\"] == \"2\"][\"type\"].value_counts())\n",
        "print(df[df[\"client_id\"] == \"4\"][\"type\"].value_counts())\n",
        "print(df[df[\"client_id\"] == \"5\"][\"type\"].value_counts())\n",
        "print(df[df[\"client_id\"] == \"6\"][\"type\"].value_counts())"
      ]
    },
    {
      "cell_type": "code",
      "execution_count": null,
      "metadata": {
        "colab": {
          "background_save": true
        },
        "id": "DwaQaAKk3mWM",
        "outputId": "429c01d1-bd2f-45a5-ff1a-e32dda59cd95"
      },
      "outputs": [
        {
          "data": {
            "text/html": [
              "<div>\n",
              "<style scoped>\n",
              "    .dataframe tbody tr th:only-of-type {\n",
              "        vertical-align: middle;\n",
              "    }\n",
              "\n",
              "    .dataframe tbody tr th {\n",
              "        vertical-align: top;\n",
              "    }\n",
              "\n",
              "    .dataframe thead th {\n",
              "        text-align: right;\n",
              "    }\n",
              "</style>\n",
              "<table border=\"1\" class=\"dataframe\">\n",
              "  <thead>\n",
              "    <tr style=\"text-align: right;\">\n",
              "      <th></th>\n",
              "      <th>count</th>\n",
              "    </tr>\n",
              "    <tr>\n",
              "      <th>type</th>\n",
              "      <th></th>\n",
              "    </tr>\n",
              "  </thead>\n",
              "  <tbody>\n",
              "    <tr>\n",
              "      <th>mirai_udp</th>\n",
              "      <td>921036</td>\n",
              "    </tr>\n",
              "    <tr>\n",
              "      <th>gafgyt_udp</th>\n",
              "      <td>525116</td>\n",
              "    </tr>\n",
              "    <tr>\n",
              "      <th>mirai_syn</th>\n",
              "      <td>485105</td>\n",
              "    </tr>\n",
              "    <tr>\n",
              "      <th>gafgyt_tcp</th>\n",
              "      <td>473640</td>\n",
              "    </tr>\n",
              "    <tr>\n",
              "      <th>mirai_scan</th>\n",
              "      <td>448375</td>\n",
              "    </tr>\n",
              "    <tr>\n",
              "      <th>mirai_ack</th>\n",
              "      <td>425154</td>\n",
              "    </tr>\n",
              "    <tr>\n",
              "      <th>benign</th>\n",
              "      <td>398569</td>\n",
              "    </tr>\n",
              "    <tr>\n",
              "      <th>mirai_udpplain</th>\n",
              "      <td>360624</td>\n",
              "    </tr>\n",
              "    <tr>\n",
              "      <th>gafgyt_combo</th>\n",
              "      <td>289792</td>\n",
              "    </tr>\n",
              "    <tr>\n",
              "      <th>gafgyt_junk</th>\n",
              "      <td>147695</td>\n",
              "    </tr>\n",
              "    <tr>\n",
              "      <th>gafgyt_scan</th>\n",
              "      <td>142896</td>\n",
              "    </tr>\n",
              "  </tbody>\n",
              "</table>\n",
              "</div><br><label><b>dtype:</b> int64</label>"
            ],
            "text/plain": [
              "type\n",
              "mirai_udp         921036\n",
              "gafgyt_udp        525116\n",
              "mirai_syn         485105\n",
              "gafgyt_tcp        473640\n",
              "mirai_scan        448375\n",
              "mirai_ack         425154\n",
              "benign            398569\n",
              "mirai_udpplain    360624\n",
              "gafgyt_combo      289792\n",
              "gafgyt_junk       147695\n",
              "gafgyt_scan       142896\n",
              "Name: count, dtype: int64"
            ]
          },
          "execution_count": 12,
          "metadata": {},
          "output_type": "execute_result"
        }
      ],
      "source": [
        "df[\"type\"].value_counts()\n",
        "\n",
        "# Mirai UDP - each 2 lakh\n",
        "# gafgyt_udp - each 1 lakh\n",
        "# mirai_syn - each 1 lakh"
      ]
    },
    {
      "cell_type": "code",
      "execution_count": null,
      "metadata": {
        "colab": {
          "background_save": true
        },
        "id": "fXJA0dXOo5nN",
        "outputId": "7d687541-bf7e-48ad-a5d3-ba4cb61b5e44"
      },
      "outputs": [
        {
          "data": {
            "text/html": [
              "<div>\n",
              "<style scoped>\n",
              "    .dataframe tbody tr th:only-of-type {\n",
              "        vertical-align: middle;\n",
              "    }\n",
              "\n",
              "    .dataframe tbody tr th {\n",
              "        vertical-align: top;\n",
              "    }\n",
              "\n",
              "    .dataframe thead th {\n",
              "        text-align: right;\n",
              "    }\n",
              "</style>\n",
              "<table border=\"1\" class=\"dataframe\">\n",
              "  <thead>\n",
              "    <tr style=\"text-align: right;\">\n",
              "      <th></th>\n",
              "      <th>0</th>\n",
              "    </tr>\n",
              "  </thead>\n",
              "  <tbody>\n",
              "    <tr>\n",
              "      <th>MI_dir_L5_weight</th>\n",
              "      <td>float64</td>\n",
              "    </tr>\n",
              "    <tr>\n",
              "      <th>MI_dir_L5_mean</th>\n",
              "      <td>float64</td>\n",
              "    </tr>\n",
              "    <tr>\n",
              "      <th>MI_dir_L5_variance</th>\n",
              "      <td>float64</td>\n",
              "    </tr>\n",
              "    <tr>\n",
              "      <th>MI_dir_L3_weight</th>\n",
              "      <td>float64</td>\n",
              "    </tr>\n",
              "    <tr>\n",
              "      <th>MI_dir_L3_mean</th>\n",
              "      <td>float64</td>\n",
              "    </tr>\n",
              "    <tr>\n",
              "      <th>...</th>\n",
              "      <td>...</td>\n",
              "    </tr>\n",
              "    <tr>\n",
              "      <th>HpHp_L0.01_radius</th>\n",
              "      <td>float64</td>\n",
              "    </tr>\n",
              "    <tr>\n",
              "      <th>HpHp_L0.01_covariance</th>\n",
              "      <td>float64</td>\n",
              "    </tr>\n",
              "    <tr>\n",
              "      <th>HpHp_L0.01_pcc</th>\n",
              "      <td>float64</td>\n",
              "    </tr>\n",
              "    <tr>\n",
              "      <th>type</th>\n",
              "      <td>object</td>\n",
              "    </tr>\n",
              "    <tr>\n",
              "      <th>client_id</th>\n",
              "      <td>object</td>\n",
              "    </tr>\n",
              "  </tbody>\n",
              "</table>\n",
              "<p>117 rows × 1 columns</p>\n",
              "</div><br><label><b>dtype:</b> object</label>"
            ],
            "text/plain": [
              "MI_dir_L5_weight         float64\n",
              "MI_dir_L5_mean           float64\n",
              "MI_dir_L5_variance       float64\n",
              "MI_dir_L3_weight         float64\n",
              "MI_dir_L3_mean           float64\n",
              "                          ...   \n",
              "HpHp_L0.01_radius        float64\n",
              "HpHp_L0.01_covariance    float64\n",
              "HpHp_L0.01_pcc           float64\n",
              "type                      object\n",
              "client_id                 object\n",
              "Length: 117, dtype: object"
            ]
          },
          "execution_count": 13,
          "metadata": {},
          "output_type": "execute_result"
        }
      ],
      "source": [
        "df.dtypes"
      ]
    },
    {
      "cell_type": "code",
      "execution_count": null,
      "metadata": {
        "colab": {
          "background_save": true
        },
        "id": "3zHqTRKg3mWM",
        "outputId": "1b9cd1d0-548b-49cd-ac1f-a74f19840ac6"
      },
      "outputs": [
        {
          "data": {
            "text/plain": [
              "<Axes: title={'center': 'Class Distribution'}>"
            ]
          },
          "execution_count": 14,
          "metadata": {},
          "output_type": "execute_result"
        },
        {
          "data": {
            "image/png": "[encoded data removed]",
            "text/plain": [
              "<Figure size 2000x1000 with 1 Axes>"
            ]
          },
          "metadata": {},
          "output_type": "display_data"
        }
      ],
      "source": [
        "from matplotlib import pyplot as plt\n",
        "\n",
        "plt.title(\"Class Distribution\")\n",
        "df.groupby(\"type\").size().plot(kind='pie', autopct='%.2f', figsize=(20,10))"
      ]
    },
    {
      "cell_type": "code",
      "execution_count": null,
      "metadata": {
        "colab": {
          "background_save": true
        },
        "id": "aEqdze153mWM",
        "outputId": "73eb8f8f-daf3-4e00-f723-6c9196129773"
      },
      "outputs": [
        {
          "name": "stdout",
          "output_type": "stream",
          "text": [
            "<class 'pandas.core.frame.DataFrame'>\n",
            "RangeIndex: 4618002 entries, 0 to 4618001\n",
            "Columns: 117 entries, MI_dir_L5_weight to client_id\n",
            "dtypes: float64(115), object(2)\n",
            "memory usage: 4.0+ GB\n"
          ]
        }
      ],
      "source": [
        "df.info()"
      ]
    },
    {
      "cell_type": "code",
      "execution_count": null,
      "metadata": {
        "id": "R7f-6FcO3mWM"
      },
      "outputs": [],
      "source": [
        "# df.sample(frac=1)\n",
        "\n",
        "# This shuffles the entire DataFrame because frac=1 means take 100% of the data in a random order.\n",
        "# Without frac=1, sample() is used to take a random subset of the data.\n",
        "# .reset_index(drop=True)\n",
        "\n",
        "# After shuffling, the index will be randomly ordered. This resets the index to a sequential order (0,1,2,...).\n",
        "# drop=True ensures that the old index is not added as a new column.\n",
        "\n",
        "df = df.sample(frac=1).reset_index(drop=True)"
      ]
    },
    {
      "cell_type": "code",
      "execution_count": null,
      "metadata": {
        "id": "DdZ2hJun3mWN"
      },
      "outputs": [],
      "source": [
        "df"
      ]
    },
    {
      "cell_type": "code",
      "execution_count": null,
      "metadata": {
        "id": "HYPrp6f33mWN"
      },
      "outputs": [],
      "source": [
        "from sklearn.model_selection import train_test_split\n",
        "\n",
        "train_df, test_df = train_test_split(df, test_size=0.2, random_state=42, stratify=df[\"type\"])"
      ]
    },
    {
      "cell_type": "code",
      "execution_count": null,
      "metadata": {
        "id": "whGA3dJa3mWN"
      },
      "outputs": [],
      "source": [
        "features = list(train_df.columns)\n",
        "features.remove(\"type\")\n",
        "# features.remove(\"client\")\n",
        "features.remove(\"client_id\")\n",
        "#features"
      ]
    },
    {
      "cell_type": "code",
      "execution_count": null,
      "metadata": {
        "id": "d8kN40oN3mWN"
      },
      "outputs": [],
      "source": [
        "# Label encoding assigns arbitrary numbers to categories without considering relationships. If \"DDoS\" is assigned 1 and \"DoS\" is assigned 2, the model might mistakenly think 2 is twice as severe as 1, which isn't true.\n",
        "\n",
        "from sklearn.preprocessing import LabelEncoder\n",
        "\n",
        "label_encoder = LabelEncoder()\n",
        "train_df[\"type\"] = label_encoder.fit_transform(train_df[\"type\"])\n",
        "test_df[\"type\"] = label_encoder.transform(test_df[\"type\"])"
      ]
    },
    {
      "cell_type": "code",
      "execution_count": null,
      "metadata": {
        "id": "dy3LuvLro5nO"
      },
      "outputs": [],
      "source": [
        "train_df"
      ]
    },
    {
      "cell_type": "code",
      "execution_count": null,
      "metadata": {
        "id": "V4jeTa463mWN"
      },
      "outputs": [],
      "source": [
        "from sklearn.preprocessing import MinMaxScaler\n",
        "\n",
        "scaler = MinMaxScaler()\n",
        "train_df[features] = scaler.fit_transform(train_df[features])\n",
        "test_df[features] = scaler.transform(test_df[features])"
      ]
    },
    {
      "cell_type": "code",
      "execution_count": null,
      "metadata": {
        "id": "NjaPgiry3mWN"
      },
      "outputs": [],
      "source": [
        "train_df[features] = train_df[features].astype(\"float32\")\n",
        "test_df[features] = test_df[features].astype(\"float32\")\n",
        "\n",
        "train_df[\"type\"] = train_df[\"type\"].astype(\"int32\")\n",
        "test_df[\"type\"] = test_df[\"type\"].astype(\"int32\")"
      ]
    },
    {
      "cell_type": "code",
      "execution_count": null,
      "metadata": {
        "id": "PXX9rHP-3mWN"
      },
      "outputs": [],
      "source": [
        "import nest_asyncio\n",
        "nest_asyncio.apply()"
      ]
    },
    {
      "cell_type": "code",
      "execution_count": null,
      "metadata": {
        "id": "98vPTk3j3mWN"
      },
      "outputs": [],
      "source": [
        "%reload_ext tensorboard"
      ]
    },
    {
      "cell_type": "code",
      "execution_count": null,
      "metadata": {
        "id": "VBObDM2F3mWN"
      },
      "outputs": [],
      "source": [
        "client_id_colname = 'client_id'\n",
        "\n",
        "client_ids = df[client_id_colname].unique()\n",
        "\n",
        "train_client_ids = pd.DataFrame(client_ids).sample(frac=1).values.ravel().tolist()\n",
        "test_client_ids = [x for x in client_ids if x in train_client_ids]"
      ]
    },
    {
      "cell_type": "code",
      "execution_count": null,
      "metadata": {
        "id": "Xe0ke1N63mWN"
      },
      "outputs": [],
      "source": [
        "train_client_ids"
      ]
    },
    {
      "cell_type": "code",
      "execution_count": null,
      "metadata": {
        "id": "wCD8mcuw3mWO"
      },
      "outputs": [],
      "source": [
        "import tensorflow as tf"
      ]
    },
    {
      "cell_type": "code",
      "execution_count": null,
      "metadata": {
        "id": "IqFI8udo3mWO"
      },
      "outputs": [],
      "source": [
        "## Original\n",
        "\n",
        "# from collections import OrderedDict\n",
        "# from tensorflow.keras.utils import to_categorical\n",
        "\n",
        "# NUM_EPOCHS = 1\n",
        "# SHUFFLE_BUFFER = 100\n",
        "# PREFETCH_BUFFER = 5\n",
        "\n",
        "# def create_tf_dataset_for_client_fn(client_id):\n",
        "#     client_data = dataframe[dataframe[client_id_colname] == client_id]\n",
        "#     client_data_dict = OrderedDict()\n",
        "#     client_data_dict[\"features\"] = np.array(client_data[features].values, dtype=\"float32\")\n",
        "#     client_data_dict[\"label\"] = np.array(client_data[\"type\"].values, dtype=\"int32\")\n",
        "\n",
        "#     dataset = tf.data.Dataset.from_tensor_slices(client_data_dict)\n",
        "#     dataset = dataset.shuffle(SHUFFLE_BUFFER).batch(1).repeat(NUM_EPOCHS)\n",
        "#     return dataset"
      ]
    },
    {
      "cell_type": "code",
      "execution_count": null,
      "metadata": {
        "id": "ipS6_-sGo5nO"
      },
      "outputs": [],
      "source": [
        "import numpy as np\n",
        "import pandas as pd\n",
        "import tensorflow as tf\n",
        "import tensorflow_federated as tff\n",
        "from collections import OrderedDict\n",
        "\n",
        "NUM_EPOCHS = 1\n",
        "SHUFFLE_BUFFER = 100\n",
        "PREFETCH_BUFFER = 5\n",
        "CLIENTS = [\"1\", \"2\", \"4\", \"5\", \"6\"]  # Given client IDs\n",
        "\n",
        "# Get unique labels\n",
        "unique_labels = train_df[\"type\"].unique()\n",
        "\n",
        "# Ensure there are exactly 11 labels\n",
        "assert len(unique_labels) == 11, \"Expected exactly 11 unique labels in dataset.\"\n",
        "\n",
        "# Shuffle labels randomly for fairness\n",
        "np.random.seed(42)  # For reproducibility\n",
        "np.random.shuffle(unique_labels)\n",
        "\n",
        "# Assign labels to clients: First 4 clients get 2 labels each, Last client gets 3\n",
        "client_labels = {CLIENTS[i]: unique_labels[i * 2: (i + 1) * 2] for i in range(4)}\n",
        "client_labels[CLIENTS[4]] = unique_labels[8:]  # Last client gets 3 labels\n",
        "\n",
        "# Function to create datasets per client\n",
        "def create_tf_dataset_for_client_fn(client_id):\n",
        "    \"\"\"Creates a TensorFlow dataset for a given client based on assigned labels.\"\"\"\n",
        "    assigned_labels = client_labels[client_id]\n",
        "\n",
        "    # Filter data for assigned labels\n",
        "    client_data = dataframe[dataframe[\"type\"].isin(assigned_labels)]\n",
        "\n",
        "    # Convert to dictionary\n",
        "    client_data_dict = OrderedDict()\n",
        "    client_data_dict[\"features\"] = np.array(client_data[features].values, dtype=\"float32\")\n",
        "    client_data_dict[\"label\"] = np.array(client_data[\"type\"].values, dtype=\"int32\")\n",
        "\n",
        "    # Create TensorFlow dataset\n",
        "    dataset = tf.data.Dataset.from_tensor_slices(client_data_dict)\n",
        "    dataset = dataset.shuffle(SHUFFLE_BUFFER).batch(1).repeat(NUM_EPOCHS)\n",
        "\n",
        "    return dataset"
      ]
    },
    {
      "cell_type": "code",
      "execution_count": null,
      "metadata": {
        "id": "1WtqMCgJ3mWO"
      },
      "outputs": [],
      "source": [
        "## Original\n",
        "\n",
        "# dataframe = train_df\n",
        "# train_data = tff.simulation.datasets.ClientData.from_clients_and_tf_fn(\n",
        "#         client_ids=train_client_ids,\n",
        "#         serializable_dataset_fn=create_tf_dataset_for_client_fn\n",
        "#     )\n",
        "\n",
        "# dataframe = test_df\n",
        "# test_data = tff.simulation.datasets.ClientData.from_clients_and_tf_fn(\n",
        "#         client_ids=test_client_ids,\n",
        "#         serializable_dataset_fn=create_tf_dataset_for_client_fn\n",
        "#     )"
      ]
    },
    {
      "cell_type": "code",
      "execution_count": null,
      "metadata": {
        "colab": {
          "base_uri": "https://localhost:8080/"
        },
        "id": "PcXaz0iVo5nP",
        "outputId": "41877003-7f05-4a97-9abc-b2f3d29e0fe6"
      },
      "outputs": [
        {
          "name": "stdout",
          "output_type": "stream",
          "text": [
            "Client 1: [0 9]\n",
            "Client 2: [3 8]\n",
            "Client 4: [2 5]\n",
            "Client 5: [1 4]\n",
            "Client 6: [10  6  7]\n"
          ]
        }
      ],
      "source": [
        "# Create federated datasets\n",
        "dataframe = train_df\n",
        "train_data = tff.simulation.datasets.ClientData.from_clients_and_tf_fn(\n",
        "    client_ids=train_client_ids,  # Use provided client IDs\n",
        "    serializable_dataset_fn=create_tf_dataset_for_client_fn\n",
        ")\n",
        "\n",
        "# Assign test dataframe and repeat for test data\n",
        "dataframe = test_df\n",
        "test_data = tff.simulation.datasets.ClientData.from_clients_and_tf_fn(\n",
        "    client_ids=test_client_ids,  # Use provided client IDs\n",
        "    serializable_dataset_fn=create_tf_dataset_for_client_fn\n",
        ")\n",
        "\n",
        "# Print label distribution per client\n",
        "for client_id, labels in client_labels.items():\n",
        "    print(f\"Client {client_id}: {labels}\")"
      ]
    },
    {
      "cell_type": "code",
      "execution_count": null,
      "metadata": {
        "colab": {
          "base_uri": "https://localhost:8080/"
        },
        "id": "qvLtHj4S3mWO",
        "outputId": "944034af-1c2b-470e-a9f1-fd146b0c57ad"
      },
      "outputs": [
        {
          "data": {
            "text/plain": [
              "OrderedDict([('features',\n",
              "              TensorSpec(shape=(None, 115), dtype=tf.float32, name=None)),\n",
              "             ('label', TensorSpec(shape=(None,), dtype=tf.int32, name=None))])"
            ]
          },
          "execution_count": 29,
          "metadata": {},
          "output_type": "execute_result"
        }
      ],
      "source": [
        "train_data.element_type_structure"
      ]
    },
    {
      "cell_type": "code",
      "execution_count": null,
      "metadata": {
        "colab": {
          "base_uri": "https://localhost:8080/"
        },
        "id": "Tm8_9hzH3mWO",
        "outputId": "3a49957a-80b2-4cc1-a739-23562fb49bc2"
      },
      "outputs": [
        {
          "data": {
            "text/plain": [
              "OrderedDict([('features',\n",
              "              TensorSpec(shape=(None, 115), dtype=tf.float32, name=None)),\n",
              "             ('label', TensorSpec(shape=(None,), dtype=tf.int32, name=None))])"
            ]
          },
          "execution_count": 30,
          "metadata": {},
          "output_type": "execute_result"
        }
      ],
      "source": [
        "test_data.element_type_structure"
      ]
    },
    {
      "cell_type": "code",
      "execution_count": null,
      "metadata": {
        "colab": {
          "base_uri": "https://localhost:8080/"
        },
        "id": "ZMLG-xhg3mWO",
        "outputId": "bdeacc0e-026d-4960-e2d1-cbf1562388da"
      },
      "outputs": [
        {
          "data": {
            "text/plain": [
              "array([8], dtype=int32)"
            ]
          },
          "execution_count": 31,
          "metadata": {},
          "output_type": "execute_result"
        }
      ],
      "source": [
        "example_dataset = train_data.create_tf_dataset_for_client(train_data.client_ids[0])\n",
        "\n",
        "example_element = next(iter(example_dataset))\n",
        "\n",
        "example_element['label'].numpy()"
      ]
    },
    {
      "cell_type": "code",
      "execution_count": null,
      "metadata": {
        "colab": {
          "base_uri": "https://localhost:8080/",
          "height": 930
        },
        "id": "9rzSy2ti3mWO",
        "outputId": "585ab9a6-7337-4181-d831-be139a0e99e3"
      },
      "outputs": [
        {
          "data": {
            "image/png": "[encoded data removed]",
            "text/plain": [
              "<Figure size 2000x1000 with 5 Axes>"
            ]
          },
          "metadata": {},
          "output_type": "display_data"
        }
      ],
      "source": [
        "from collections import defaultdict\n",
        "\n",
        "f = plt.figure(figsize=(20, 10))\n",
        "f.suptitle('Label Counts for a Sample of Clients')\n",
        "for i, c_ids in enumerate(train_data.client_ids):\n",
        "    client_dataset = train_data.create_tf_dataset_for_client(c_ids)\n",
        "    plot_data = defaultdict(list)\n",
        "    for example in client_dataset:\n",
        "        label = example['label'].numpy()[0]\n",
        "        plot_data[label].append(label)\n",
        "    plt.subplot(2, 4, i+1)\n",
        "    plt.title('Client {}'.format(c_ids))\n",
        "    for j in range(10):\n",
        "        plt.hist(plot_data[j], density=False, bins=[0, 1, 2, 3, 4, 5, 6, 7, 8, 9, 10])"
      ]
    },
    {
      "cell_type": "code",
      "execution_count": null,
      "metadata": {
        "id": "3xjWU_Ad3mWO"
      },
      "outputs": [],
      "source": [
        "import collections\n",
        "\n",
        "NUM_EPOCHS = 5\n",
        "BATCH_SIZE = 128\n",
        "SHUFFLE_BUFFER = 100\n",
        "PREFETCH_BUFFER = 10\n",
        "\n",
        "def preprocess(dataset):\n",
        "    def batch_format_fn(element):\n",
        "        return collections.OrderedDict(x=tf.reshape(element['features'], [-1, len(features)]),\n",
        "                                       y=tf.reshape(element['label'], [-1, 1]))\n",
        "\n",
        "    return dataset.repeat(NUM_EPOCHS).shuffle(SHUFFLE_BUFFER, seed=1).batch(\n",
        "      BATCH_SIZE).map(batch_format_fn).prefetch(PREFETCH_BUFFER)"
      ]
    },
    {
      "cell_type": "code",
      "execution_count": null,
      "metadata": {
        "id": "rFghBx9e3mWP"
      },
      "outputs": [],
      "source": [
        "preprocessed_example_dataset = preprocess(example_dataset)\n",
        "\n",
        "sample_batch = tf.nest.map_structure(lambda x: x.numpy(),\n",
        "                                     next(iter(preprocessed_example_dataset)))\n",
        "\n",
        "# sample_batch"
      ]
    },
    {
      "cell_type": "code",
      "execution_count": null,
      "metadata": {
        "id": "BCxr3kqc3mWP"
      },
      "outputs": [],
      "source": [
        "from tqdm import tqdm\n",
        "\n",
        "def make_federated_data(client_data, client_ids):\n",
        "    return [preprocess(client_data.create_tf_dataset_for_client(x)) for x in tqdm(client_ids)]"
      ]
    },
    {
      "cell_type": "code",
      "execution_count": null,
      "metadata": {
        "colab": {
          "base_uri": "https://localhost:8080/"
        },
        "id": "g_Ni3yYi3mWP",
        "outputId": "496f9859-b5f9-4d22-e183-6ee798d61ea1"
      },
      "outputs": [
        {
          "name": "stderr",
          "output_type": "stream",
          "text": [
            "100%|██████████| 5/5 [00:01<00:00,  3.74it/s]"
          ]
        },
        {
          "name": "stdout",
          "output_type": "stream",
          "text": [
            "Number of client datasets: 5\n",
            "First dataset: <_PrefetchDataset element_spec=OrderedDict([('x', TensorSpec(shape=(None, 115), dtype=tf.float32, name=None)), ('y', TensorSpec(shape=(None, 1), dtype=tf.int32, name=None))])>\n"
          ]
        },
        {
          "name": "stderr",
          "output_type": "stream",
          "text": [
            "\n"
          ]
        }
      ],
      "source": [
        "NUM_CLIENTS = len(np.unique(train_df[client_id_colname]))\n",
        "\n",
        "sample_clients = train_data.client_ids[0:NUM_CLIENTS]\n",
        "\n",
        "federated_train_data = make_federated_data(train_data, sample_clients)\n",
        "\n",
        "print('Number of client datasets: {l}'.format(l=len(federated_train_data)))\n",
        "print('First dataset: {d}'.format(d=federated_train_data[0]))"
      ]
    },
    {
      "cell_type": "code",
      "execution_count": null,
      "metadata": {
        "colab": {
          "base_uri": "https://localhost:8080/"
        },
        "id": "tj1LswIe3mWP",
        "outputId": "71f622c2-1808-49be-f3eb-bcb6e2287842"
      },
      "outputs": [
        {
          "name": "stdout",
          "output_type": "stream",
          "text": [
            "Model: \"sequential\"\n",
            "_________________________________________________________________\n",
            " Layer (type)                Output Shape              Param #   \n",
            "=================================================================\n",
            " dense (Dense)               (None, 64)                7424      \n",
            "                                                                 \n",
            " dense_1 (Dense)             (None, 32)                2080      \n",
            "                                                                 \n",
            " dropout (Dropout)           (None, 32)                0         \n",
            "                                                                 \n",
            " dense_2 (Dense)             (None, 11)                363       \n",
            "                                                                 \n",
            "=================================================================\n",
            "Total params: 9867 (38.54 KB)\n",
            "Trainable params: 9867 (38.54 KB)\n",
            "Non-trainable params: 0 (0.00 Byte)\n",
            "_________________________________________________________________\n"
          ]
        }
      ],
      "source": [
        "from tensorflow.keras import Sequential\n",
        "from tensorflow.keras.layers import Dense, Dropout\n",
        "def create_keras_model():\n",
        "    filters = 32\n",
        "    input_shape = (len(features))\n",
        "    num_classes = len(label_encoder.classes_)\n",
        "    clf = Sequential(\n",
        "        [\n",
        "            Dense(64, input_dim=input_shape, activation='relu'),\n",
        "            Dense(32, activation='relu'),\n",
        "            Dropout(0.2),\n",
        "            Dense(num_classes, activation='softmax')\n",
        "        ])\n",
        "    return clf\n",
        "\n",
        "keras_model = create_keras_model()\n",
        "keras_model.summary()"
      ]
    },
    {
      "cell_type": "code",
      "execution_count": null,
      "metadata": {
        "id": "WnW9iFwK3mWP"
      },
      "outputs": [],
      "source": [
        "import tensorflow.keras.backend as K\n",
        "\n",
        "class F1Score(tf.keras.metrics.Metric):\n",
        "    def __init__(self, name='F1-Score', **kwargs):\n",
        "        super(F1Score, self).__init__(name=name, **kwargs)\n",
        "        self.f1_score = self.add_weight(name='f1_score', initializer='zeros')\n",
        "\n",
        "    def update_state(self, y_true, y_pred, sample_weight=None):\n",
        "        true_positives = tf.math.reduce_sum(tf.math.round(tf.clip_by_value(y_true * y_pred, 0, 1)))\n",
        "\n",
        "        possible_positives = tf.math.reduce_sum(tf.math.round(tf.clip_by_value(y_true, 0, 1)))\n",
        "        recall = true_positives / (possible_positives + K.epsilon())\n",
        "\n",
        "        predicted_positives = tf.math.reduce_sum(tf.math.round(tf.clip_by_value(y_pred, 0, 1)))\n",
        "        precision = true_positives / (predicted_positives + K.epsilon())\n",
        "\n",
        "        self.f1_score.assign(2*((precision*recall)/(precision+recall+K.epsilon())))\n",
        "\n",
        "    def result(self):\n",
        "        return self.f1_score\n",
        "\n",
        "    def reset_states(self):\n",
        "        self.f1_score.assign(0.0)"
      ]
    },
    {
      "cell_type": "code",
      "execution_count": null,
      "metadata": {
        "id": "8m2yxI7L3mWP"
      },
      "outputs": [],
      "source": [
        "# from tensorflow.keras.metrics import Recall, Precision\n",
        "\n",
        "# def model_fn():\n",
        "#     keras_model = create_keras_model()\n",
        "#     return tff.learning.models.from_keras_model(\n",
        "#         keras_model,\n",
        "#         input_spec=preprocessed_example_dataset.element_spec,\n",
        "#         loss=tf.keras.losses.SparseCategoricalCrossentropy(), # removed from_logits=True\n",
        "#         metrics=[\n",
        "#             tf.keras.metrics.SparseCategoricalAccuracy(),\n",
        "#             Precision(name=\"precision\"),  # Removed average='micro'\n",
        "#             Recall(name=\"recall\"),  # Removed average='micro'\n",
        "#             F1Score(name=\"f1_score\")\n",
        "#         ],\n",
        "#     )\n",
        "\n",
        "from tensorflow.keras.metrics import Recall, Precision\n",
        "\n",
        "def model_fn():\n",
        "    keras_model = create_keras_model()\n",
        "    return tff.learning.models.from_keras_model(\n",
        "        keras_model,\n",
        "        input_spec=preprocessed_example_dataset.element_spec,\n",
        "        loss=tf.keras.losses.SparseCategoricalCrossentropy(),\n",
        "        metrics=[tf.keras.metrics.SparseCategoricalAccuracy()],\n",
        "    )"
      ]
    },
    {
      "cell_type": "code",
      "execution_count": null,
      "metadata": {
        "id": "tTrcTiB83mWP"
      },
      "outputs": [],
      "source": [
        "# Params\n",
        "param = {\n",
        "    'model_fn' : model_fn,\n",
        "    'proximal_strength' : 0.7,\n",
        "    'client_optimizer_fn' : tff.learning.optimizers.build_sgdm(learning_rate=0.01),\n",
        "    'server_optimizer_fn' : tff.learning.optimizers.build_sgdm(learning_rate=0.2)\n",
        "}"
      ]
    },
    {
      "cell_type": "code",
      "execution_count": null,
      "metadata": {
        "id": "4WmG8VIc3mWP"
      },
      "outputs": [],
      "source": [
        "# iterative_process = tff.learning.build_federated_averaging_process(\n",
        "#     model_fn,\n",
        "#     client_optimizer_fn=lambda: tf.keras.optimizers.Adam(learning_rate=0.001),\n",
        "#     server_optimizer_fn=lambda: tf.keras.optimizers.Adam(learning_rate=0.002))\n",
        "\n",
        "# FedAvg\n",
        "iterative_process = tff.learning.algorithms.build_weighted_fed_avg(\n",
        "    param['model_fn'],\n",
        "    param['client_optimizer_fn'],\n",
        "    param['server_optimizer_fn']\n",
        ")\n",
        "\n",
        "# Literature Survey\n",
        "# Calculate F1, Precision, Recall\n",
        "# GPU allotment and CPU percentage"
      ]
    },
    {
      "cell_type": "code",
      "execution_count": null,
      "metadata": {
        "id": "E5J0Qw133mWU"
      },
      "outputs": [],
      "source": [
        "# FedProx\n",
        "iterative_process = tff.learning.algorithms.build_weighted_fed_prox(\n",
        "    param['model_fn'],\n",
        "    param['proximal_strength'],\n",
        "    param['client_optimizer_fn'],\n",
        "    param['server_optimizer_fn']\n",
        ")"
      ]
    },
    {
      "cell_type": "code",
      "execution_count": null,
      "metadata": {
        "id": "46QCapgM3mWU"
      },
      "outputs": [],
      "source": [
        "# FedSGD\n",
        "iterative_process = tff.learning.algorithms.build_fed_sgd(\n",
        "    param['model_fn'],\n",
        "    param['server_optimizer_fn']\n",
        ")"
      ]
    },
    {
      "cell_type": "code",
      "execution_count": null,
      "metadata": {
        "colab": {
          "base_uri": "https://localhost:8080/",
          "height": 53
        },
        "id": "6ZjlmXy03mWU",
        "outputId": "a8fe393e-f22b-4d1c-c8f5-de48c47d9458"
      },
      "outputs": [
        {
          "data": {
            "application/vnd.google.colaboratory.intrinsic+json": {
              "type": "string"
            },
            "text/plain": [
              "'( -> <global_model_weights=<trainable=<float32[115,64],float32[64],float32[64,32],float32[32],float32[32,11],float32[11]>,non_trainable=<>>,distributor=<>,client_work=<learning_rate=float32>,aggregator=<value_sum_process=<>,weight_sum_process=<>>,finalizer=<learning_rate=float32>>@SERVER)'"
            ]
          },
          "execution_count": 42,
          "metadata": {},
          "output_type": "execute_result"
        }
      ],
      "source": [
        "str(iterative_process.initialize.type_signature)"
      ]
    },
    {
      "cell_type": "code",
      "execution_count": null,
      "metadata": {
        "id": "Bb2zqenlo5nU"
      },
      "outputs": [],
      "source": [
        "import sys\n",
        "\n",
        "# Helper function to calculate the size of tensors\n",
        "def get_tensor_size(tensor):\n",
        "    return tensor.nbytes\n",
        "\n",
        "# Function to calculate total model size\n",
        "def calculate_model_size(model_weights):\n",
        "    total_size = 0\n",
        "    for weight in model_weights:\n",
        "        total_size += get_tensor_size(weight)\n",
        "    return total_size\n",
        "\n",
        "# Track communication overhead\n",
        "# def calculate_communication_overhead(state, client_data):\n",
        "#     total_communication = 0\n",
        "\n",
        "#     # Initial model size\n",
        "#     initial_model_size = calculate_model_size(state.global_model_weights.trainable)\n",
        "#     print(f\"Initial Model Size: {initial_model_size} bytes\")\n",
        "\n",
        "#     # Training round\n",
        "#     state, metrics = iterative_process.next(state, client_data)\n",
        "\n",
        "#     # Model size after training\n",
        "#     updated_model_size = calculate_model_size(state.global_model_weights.trainable)\n",
        "#     print(f\"Updated Model Size: {updated_model_size} bytes\")\n",
        "\n",
        "#     # Communication overhead\n",
        "#     communication_overhead = updated_model_size - initial_model_size\n",
        "#     total_communication += communication_overhead\n",
        "#     print(f\"Communication Overhead for this round: {communication_overhead} bytes\")\n",
        "\n",
        "#     return total_communication"
      ]
    },
    {
      "cell_type": "code",
      "execution_count": null,
      "metadata": {
        "id": "KcWX-lut3mWU"
      },
      "outputs": [],
      "source": [
        "state = iterative_process.initialize()"
      ]
    },
    {
      "cell_type": "code",
      "execution_count": null,
      "metadata": {
        "colab": {
          "base_uri": "https://localhost:8080/"
        },
        "id": "PYfIRGEL3mWU",
        "outputId": "4fd9f885-7cb7-456a-e7d1-98f710cee1f2"
      },
      "outputs": [
        {
          "name": "stdout",
          "output_type": "stream",
          "text": [
            "round  1, metrics=OrderedDict([('distributor', ()), ('client_work', OrderedDict([('train', OrderedDict([('sparse_categorical_accuracy', 0.982516), ('loss', 0.044641867), ('num_examples', 23090025), ('num_batches', 180394)]))])), ('aggregator', OrderedDict([('mean_value', ()), ('mean_weight', ())])), ('finalizer', OrderedDict([('update_non_finite', 0)]))])\n"
          ]
        }
      ],
      "source": [
        "state, metrics = iterative_process.next(state, federated_train_data)\n",
        "print('round  1, metrics={}'.format(metrics))"
      ]
    },
    {
      "cell_type": "code",
      "execution_count": null,
      "metadata": {
        "colab": {
          "base_uri": "https://localhost:8080/"
        },
        "id": "2ftIkPdS3mWV",
        "outputId": "904337ad-78de-487d-b6c0-6e354fe949ec"
      },
      "outputs": [
        {
          "name": "stdout",
          "output_type": "stream",
          "text": [
            "round  2, metrics=OrderedDict([('distributor', ()), ('client_work', OrderedDict([('train', OrderedDict([('sparse_categorical_accuracy', 0.98534197), ('loss', 0.036713425), ('num_examples', 23090025), ('num_batches', 180394)]))])), ('aggregator', OrderedDict([('mean_value', ()), ('mean_weight', ())])), ('finalizer', OrderedDict([('update_non_finite', 0)]))])\n",
            "round  3, metrics=OrderedDict([('distributor', ()), ('client_work', OrderedDict([('train', OrderedDict([('sparse_categorical_accuracy', 0.9859769), ('loss', 0.03488639), ('num_examples', 23090025), ('num_batches', 180394)]))])), ('aggregator', OrderedDict([('mean_value', ()), ('mean_weight', ())])), ('finalizer', OrderedDict([('update_non_finite', 0)]))])\n",
            "round  4, metrics=OrderedDict([('distributor', ()), ('client_work', OrderedDict([('train', OrderedDict([('sparse_categorical_accuracy', 0.98659605), ('loss', 0.03325102), ('num_examples', 23090025), ('num_batches', 180394)]))])), ('aggregator', OrderedDict([('mean_value', ()), ('mean_weight', ())])), ('finalizer', OrderedDict([('update_non_finite', 0)]))])\n",
            "round  5, metrics=OrderedDict([('distributor', ()), ('client_work', OrderedDict([('train', OrderedDict([('sparse_categorical_accuracy', 0.9871926), ('loss', 0.03174117), ('num_examples', 23090025), ('num_batches', 180394)]))])), ('aggregator', OrderedDict([('mean_value', ()), ('mean_weight', ())])), ('finalizer', OrderedDict([('update_non_finite', 0)]))])\n"
          ]
        }
      ],
      "source": [
        "NUM_ROUNDS = 10\n",
        "for round_num in range(2, NUM_ROUNDS):\n",
        "    state, metrics = iterative_process.next(state, federated_train_data)\n",
        "    # total_communication = calculate_communication_overhead(state, federated_train_data)\n",
        "    print('round {:2d}, metrics={}'.format(round_num, metrics))\n",
        "    # print(f\"Total Communication Overhead: {total_communication} bytes\")"
      ]
    },
    {
      "cell_type": "code",
      "execution_count": null,
      "metadata": {
        "colab": {
          "base_uri": "https://localhost:8080/",
          "height": 339
        },
        "id": "Bx2SsRsUOUKW",
        "outputId": "cf8b208b-228e-44ef-c84c-e581a41a6e9d"
      },
      "outputs": [
        {
          "ename": "ProcessLookupError",
          "evalue": "[Errno 3] No such process",
          "output_type": "error",
          "traceback": [
            "\u001b[0;31m---------------------------------------------------------------------------\u001b[0m",
            "\u001b[0;31mProcessLookupError\u001b[0m                        Traceback (most recent call last)",
            "\u001b[0;32m<ipython-input-60-660c7677a5aa>\u001b[0m in \u001b[0;36m<cell line: 0>\u001b[0;34m()\u001b[0m\n\u001b[1;32m      1\u001b[0m \u001b[0mevaluation_process\u001b[0m \u001b[0;34m=\u001b[0m \u001b[0mtff\u001b[0m\u001b[0;34m.\u001b[0m\u001b[0mlearning\u001b[0m\u001b[0;34m.\u001b[0m\u001b[0malgorithms\u001b[0m\u001b[0;34m.\u001b[0m\u001b[0mbuild_fed_eval\u001b[0m\u001b[0;34m(\u001b[0m\u001b[0mmodel_fn\u001b[0m\u001b[0;34m)\u001b[0m\u001b[0;34m\u001b[0m\u001b[0;34m\u001b[0m\u001b[0m\n\u001b[0;32m----> 2\u001b[0;31m \u001b[0mevaluation_state\u001b[0m \u001b[0;34m=\u001b[0m \u001b[0mevaluation_process\u001b[0m\u001b[0;34m.\u001b[0m\u001b[0minitialize\u001b[0m\u001b[0;34m(\u001b[0m\u001b[0;34m)\u001b[0m\u001b[0;34m\u001b[0m\u001b[0;34m\u001b[0m\u001b[0m\n\u001b[0m\u001b[1;32m      3\u001b[0m \u001b[0mmodel_weights\u001b[0m \u001b[0;34m=\u001b[0m \u001b[0miterative_process\u001b[0m\u001b[0;34m.\u001b[0m\u001b[0mget_model_weights\u001b[0m\u001b[0;34m(\u001b[0m\u001b[0mstate\u001b[0m\u001b[0;34m)\u001b[0m\u001b[0;34m\u001b[0m\u001b[0;34m\u001b[0m\u001b[0m\n\u001b[1;32m      4\u001b[0m \u001b[0mevaluation_state\u001b[0m \u001b[0;34m=\u001b[0m \u001b[0mevaluation_process\u001b[0m\u001b[0;34m.\u001b[0m\u001b[0mset_model_weights\u001b[0m\u001b[0;34m(\u001b[0m\u001b[0mevaluation_state\u001b[0m\u001b[0;34m,\u001b[0m \u001b[0mmodel_weights\u001b[0m\u001b[0;34m)\u001b[0m\u001b[0;34m\u001b[0m\u001b[0;34m\u001b[0m\u001b[0m\n",
            "\u001b[0;32m/usr/local/lib/python3.11/dist-packages/tensorflow_federated/python/core/impl/computation/computation_impl.py\u001b[0m in \u001b[0;36m__call__\u001b[0;34m(self, *args, **kwargs)\u001b[0m\n\u001b[1;32m    143\u001b[0m   \u001b[0;32mdef\u001b[0m \u001b[0m__call__\u001b[0m\u001b[0;34m(\u001b[0m\u001b[0mself\u001b[0m\u001b[0;34m,\u001b[0m \u001b[0;34m*\u001b[0m\u001b[0margs\u001b[0m\u001b[0;34m,\u001b[0m \u001b[0;34m**\u001b[0m\u001b[0mkwargs\u001b[0m\u001b[0;34m)\u001b[0m\u001b[0;34m:\u001b[0m\u001b[0;34m\u001b[0m\u001b[0;34m\u001b[0m\u001b[0m\n\u001b[1;32m    144\u001b[0m     \u001b[0marg\u001b[0m \u001b[0;34m=\u001b[0m \u001b[0mfunction_utils\u001b[0m\u001b[0;34m.\u001b[0m\u001b[0mpack_args\u001b[0m\u001b[0;34m(\u001b[0m\u001b[0mself\u001b[0m\u001b[0;34m.\u001b[0m\u001b[0m_type_signature\u001b[0m\u001b[0;34m.\u001b[0m\u001b[0mparameter\u001b[0m\u001b[0;34m,\u001b[0m \u001b[0margs\u001b[0m\u001b[0;34m,\u001b[0m \u001b[0mkwargs\u001b[0m\u001b[0;34m)\u001b[0m\u001b[0;34m\u001b[0m\u001b[0;34m\u001b[0m\u001b[0m\n\u001b[0;32m--> 145\u001b[0;31m     \u001b[0mresult\u001b[0m \u001b[0;34m=\u001b[0m \u001b[0mself\u001b[0m\u001b[0;34m.\u001b[0m\u001b[0m_context_stack\u001b[0m\u001b[0;34m.\u001b[0m\u001b[0mcurrent\u001b[0m\u001b[0;34m.\u001b[0m\u001b[0minvoke\u001b[0m\u001b[0;34m(\u001b[0m\u001b[0mself\u001b[0m\u001b[0;34m,\u001b[0m \u001b[0marg\u001b[0m\u001b[0;34m)\u001b[0m\u001b[0;34m\u001b[0m\u001b[0;34m\u001b[0m\u001b[0m\n\u001b[0m\u001b[1;32m    146\u001b[0m     \u001b[0;32mreturn\u001b[0m \u001b[0mresult\u001b[0m\u001b[0;34m\u001b[0m\u001b[0;34m\u001b[0m\u001b[0m\n\u001b[1;32m    147\u001b[0m \u001b[0;34m\u001b[0m\u001b[0m\n",
            "\u001b[0;32m/usr/local/lib/python3.11/dist-packages/tensorflow_federated/python/core/impl/execution_contexts/sync_execution_context.py\u001b[0m in \u001b[0;36minvoke\u001b[0;34m(self, comp, arg)\u001b[0m\n\u001b[1;32m     71\u001b[0m \u001b[0;34m\u001b[0m\u001b[0m\n\u001b[1;32m     72\u001b[0m   \u001b[0;32mdef\u001b[0m \u001b[0minvoke\u001b[0m\u001b[0;34m(\u001b[0m\u001b[0mself\u001b[0m\u001b[0;34m,\u001b[0m \u001b[0mcomp\u001b[0m\u001b[0;34m,\u001b[0m \u001b[0marg\u001b[0m\u001b[0;34m)\u001b[0m\u001b[0;34m:\u001b[0m\u001b[0;34m\u001b[0m\u001b[0;34m\u001b[0m\u001b[0m\n\u001b[0;32m---> 73\u001b[0;31m     return self._async_runner.run_coro_and_return_result(\n\u001b[0m\u001b[1;32m     74\u001b[0m         \u001b[0mself\u001b[0m\u001b[0;34m.\u001b[0m\u001b[0m_async_context\u001b[0m\u001b[0;34m.\u001b[0m\u001b[0minvoke\u001b[0m\u001b[0;34m(\u001b[0m\u001b[0mcomp\u001b[0m\u001b[0;34m,\u001b[0m \u001b[0marg\u001b[0m\u001b[0;34m)\u001b[0m\u001b[0;34m\u001b[0m\u001b[0;34m\u001b[0m\u001b[0m\n\u001b[1;32m     75\u001b[0m     )\n",
            "\u001b[0;32m/usr/local/lib/python3.11/dist-packages/tensorflow_federated/python/common_libs/async_utils.py\u001b[0m in \u001b[0;36mrun_coro_and_return_result\u001b[0;34m(self, coro)\u001b[0m\n\u001b[1;32m     64\u001b[0m     \u001b[0;34m\"\"\"Runs coroutine in the managed event loop, returning the result.\"\"\"\u001b[0m\u001b[0;34m\u001b[0m\u001b[0;34m\u001b[0m\u001b[0m\n\u001b[1;32m     65\u001b[0m     \u001b[0mfuture\u001b[0m \u001b[0;34m=\u001b[0m \u001b[0masyncio\u001b[0m\u001b[0;34m.\u001b[0m\u001b[0mrun_coroutine_threadsafe\u001b[0m\u001b[0;34m(\u001b[0m\u001b[0mcoro\u001b[0m\u001b[0;34m,\u001b[0m \u001b[0mself\u001b[0m\u001b[0;34m.\u001b[0m\u001b[0m_event_loop\u001b[0m\u001b[0;34m)\u001b[0m\u001b[0;34m\u001b[0m\u001b[0;34m\u001b[0m\u001b[0m\n\u001b[0;32m---> 66\u001b[0;31m     \u001b[0;32mreturn\u001b[0m \u001b[0mfuture\u001b[0m\u001b[0;34m.\u001b[0m\u001b[0mresult\u001b[0m\u001b[0;34m(\u001b[0m\u001b[0;34m)\u001b[0m\u001b[0;34m\u001b[0m\u001b[0;34m\u001b[0m\u001b[0m\n\u001b[0m\u001b[1;32m     67\u001b[0m \u001b[0;34m\u001b[0m\u001b[0m\n\u001b[1;32m     68\u001b[0m   \u001b[0;32masync\u001b[0m \u001b[0;32mdef\u001b[0m \u001b[0mawait_coro_and_return_result\u001b[0m\u001b[0;34m(\u001b[0m\u001b[0mself\u001b[0m\u001b[0;34m,\u001b[0m \u001b[0mcoro\u001b[0m\u001b[0;34m)\u001b[0m\u001b[0;34m:\u001b[0m\u001b[0;34m\u001b[0m\u001b[0;34m\u001b[0m\u001b[0m\n",
            "\u001b[0;32m/usr/lib/python3.11/concurrent/futures/_base.py\u001b[0m in \u001b[0;36mresult\u001b[0;34m(self, timeout)\u001b[0m\n\u001b[1;32m    454\u001b[0m                     \u001b[0;32mraise\u001b[0m \u001b[0mCancelledError\u001b[0m\u001b[0;34m(\u001b[0m\u001b[0;34m)\u001b[0m\u001b[0;34m\u001b[0m\u001b[0;34m\u001b[0m\u001b[0m\n\u001b[1;32m    455\u001b[0m                 \u001b[0;32melif\u001b[0m \u001b[0mself\u001b[0m\u001b[0;34m.\u001b[0m\u001b[0m_state\u001b[0m \u001b[0;34m==\u001b[0m \u001b[0mFINISHED\u001b[0m\u001b[0;34m:\u001b[0m\u001b[0;34m\u001b[0m\u001b[0;34m\u001b[0m\u001b[0m\n\u001b[0;32m--> 456\u001b[0;31m                     \u001b[0;32mreturn\u001b[0m \u001b[0mself\u001b[0m\u001b[0;34m.\u001b[0m\u001b[0m__get_result\u001b[0m\u001b[0;34m(\u001b[0m\u001b[0;34m)\u001b[0m\u001b[0;34m\u001b[0m\u001b[0;34m\u001b[0m\u001b[0m\n\u001b[0m\u001b[1;32m    457\u001b[0m                 \u001b[0;32melse\u001b[0m\u001b[0;34m:\u001b[0m\u001b[0;34m\u001b[0m\u001b[0;34m\u001b[0m\u001b[0m\n\u001b[1;32m    458\u001b[0m                     \u001b[0;32mraise\u001b[0m \u001b[0mTimeoutError\u001b[0m\u001b[0;34m(\u001b[0m\u001b[0;34m)\u001b[0m\u001b[0;34m\u001b[0m\u001b[0;34m\u001b[0m\u001b[0m\n",
            "\u001b[0;32m/usr/lib/python3.11/concurrent/futures/_base.py\u001b[0m in \u001b[0;36m__get_result\u001b[0;34m(self)\u001b[0m\n\u001b[1;32m    399\u001b[0m         \u001b[0;32mif\u001b[0m \u001b[0mself\u001b[0m\u001b[0;34m.\u001b[0m\u001b[0m_exception\u001b[0m\u001b[0;34m:\u001b[0m\u001b[0;34m\u001b[0m\u001b[0;34m\u001b[0m\u001b[0m\n\u001b[1;32m    400\u001b[0m             \u001b[0;32mtry\u001b[0m\u001b[0;34m:\u001b[0m\u001b[0;34m\u001b[0m\u001b[0;34m\u001b[0m\u001b[0m\n\u001b[0;32m--> 401\u001b[0;31m                 \u001b[0;32mraise\u001b[0m \u001b[0mself\u001b[0m\u001b[0;34m.\u001b[0m\u001b[0m_exception\u001b[0m\u001b[0;34m\u001b[0m\u001b[0;34m\u001b[0m\u001b[0m\n\u001b[0m\u001b[1;32m    402\u001b[0m             \u001b[0;32mfinally\u001b[0m\u001b[0;34m:\u001b[0m\u001b[0;34m\u001b[0m\u001b[0;34m\u001b[0m\u001b[0m\n\u001b[1;32m    403\u001b[0m                 \u001b[0;31m# Break a reference cycle with the exception in self._exception\u001b[0m\u001b[0;34m\u001b[0m\u001b[0;34m\u001b[0m\u001b[0m\n",
            "\u001b[0;32m/usr/lib/python3.11/asyncio/tasks.py\u001b[0m in \u001b[0;36m__step\u001b[0;34m(***failed resolving arguments***)\u001b[0m\n\u001b[1;32m    275\u001b[0m                 \u001b[0;31m# We use the `send` method directly, because coroutines\u001b[0m\u001b[0;34m\u001b[0m\u001b[0;34m\u001b[0m\u001b[0m\n\u001b[1;32m    276\u001b[0m                 \u001b[0;31m# don't have `__iter__` and `__next__` methods.\u001b[0m\u001b[0;34m\u001b[0m\u001b[0;34m\u001b[0m\u001b[0m\n\u001b[0;32m--> 277\u001b[0;31m                 \u001b[0mresult\u001b[0m \u001b[0;34m=\u001b[0m \u001b[0mcoro\u001b[0m\u001b[0;34m.\u001b[0m\u001b[0msend\u001b[0m\u001b[0;34m(\u001b[0m\u001b[0;32mNone\u001b[0m\u001b[0;34m)\u001b[0m\u001b[0;34m\u001b[0m\u001b[0;34m\u001b[0m\u001b[0m\n\u001b[0m\u001b[1;32m    278\u001b[0m             \u001b[0;32melse\u001b[0m\u001b[0;34m:\u001b[0m\u001b[0;34m\u001b[0m\u001b[0;34m\u001b[0m\u001b[0m\n\u001b[1;32m    279\u001b[0m                 \u001b[0mresult\u001b[0m \u001b[0;34m=\u001b[0m \u001b[0mcoro\u001b[0m\u001b[0;34m.\u001b[0m\u001b[0mthrow\u001b[0m\u001b[0;34m(\u001b[0m\u001b[0mexc\u001b[0m\u001b[0;34m)\u001b[0m\u001b[0;34m\u001b[0m\u001b[0;34m\u001b[0m\u001b[0m\n",
            "\u001b[0;32m/usr/local/lib/python3.11/dist-packages/tensorflow_federated/python/common_libs/retrying.py\u001b[0m in \u001b[0;36mretry_coro_fn\u001b[0;34m(*args, **kwargs)\u001b[0m\n\u001b[1;32m    117\u001b[0m         \u001b[0;32mexcept\u001b[0m \u001b[0mException\u001b[0m \u001b[0;32mas\u001b[0m \u001b[0me\u001b[0m\u001b[0;34m:\u001b[0m  \u001b[0;31m# pylint: disable=broad-except\u001b[0m\u001b[0;34m\u001b[0m\u001b[0;34m\u001b[0m\u001b[0m\n\u001b[1;32m    118\u001b[0m           \u001b[0;32mif\u001b[0m \u001b[0;32mnot\u001b[0m \u001b[0mretry_on_exception_filter\u001b[0m\u001b[0;34m(\u001b[0m\u001b[0me\u001b[0m\u001b[0;34m)\u001b[0m\u001b[0;34m:\u001b[0m\u001b[0;34m\u001b[0m\u001b[0;34m\u001b[0m\u001b[0m\n\u001b[0;32m--> 119\u001b[0;31m             \u001b[0;32mraise\u001b[0m \u001b[0me\u001b[0m\u001b[0;34m\u001b[0m\u001b[0;34m\u001b[0m\u001b[0m\n\u001b[0m\u001b[1;32m    120\u001b[0m           \u001b[0mretry_wait_ms\u001b[0m \u001b[0;34m=\u001b[0m \u001b[0mmin\u001b[0m\u001b[0;34m(\u001b[0m\u001b[0mwait_max_ms\u001b[0m\u001b[0;34m,\u001b[0m \u001b[0mretry_wait_ms\u001b[0m \u001b[0;34m*\u001b[0m \u001b[0mwait_multiplier\u001b[0m\u001b[0;34m)\u001b[0m\u001b[0;34m\u001b[0m\u001b[0;34m\u001b[0m\u001b[0m\n\u001b[1;32m    121\u001b[0m           \u001b[0;31m# asyncio.sleep takes arguments in seconds.\u001b[0m\u001b[0;34m\u001b[0m\u001b[0;34m\u001b[0m\u001b[0m\n",
            "\u001b[0;32m/usr/local/lib/python3.11/dist-packages/tensorflow_federated/python/common_libs/retrying.py\u001b[0m in \u001b[0;36mretry_coro_fn\u001b[0;34m(*args, **kwargs)\u001b[0m\n\u001b[1;32m    107\u001b[0m       \u001b[0;32mwhile\u001b[0m \u001b[0;32mTrue\u001b[0m\u001b[0;34m:\u001b[0m\u001b[0;34m\u001b[0m\u001b[0;34m\u001b[0m\u001b[0m\n\u001b[1;32m    108\u001b[0m         \u001b[0;32mtry\u001b[0m\u001b[0;34m:\u001b[0m\u001b[0;34m\u001b[0m\u001b[0;34m\u001b[0m\u001b[0m\n\u001b[0;32m--> 109\u001b[0;31m           \u001b[0mresult\u001b[0m \u001b[0;34m=\u001b[0m \u001b[0;32mawait\u001b[0m \u001b[0mfn\u001b[0m\u001b[0;34m(\u001b[0m\u001b[0;34m*\u001b[0m\u001b[0margs\u001b[0m\u001b[0;34m,\u001b[0m \u001b[0;34m**\u001b[0m\u001b[0mkwargs\u001b[0m\u001b[0;34m)\u001b[0m\u001b[0;34m\u001b[0m\u001b[0;34m\u001b[0m\u001b[0m\n\u001b[0m\u001b[1;32m    110\u001b[0m           \u001b[0;32mif\u001b[0m \u001b[0mretry_on_result_filter\u001b[0m\u001b[0;34m(\u001b[0m\u001b[0mresult\u001b[0m\u001b[0;34m)\u001b[0m\u001b[0;34m:\u001b[0m\u001b[0;34m\u001b[0m\u001b[0;34m\u001b[0m\u001b[0m\n\u001b[1;32m    111\u001b[0m             \u001b[0mretry_wait_ms\u001b[0m \u001b[0;34m=\u001b[0m \u001b[0mmin\u001b[0m\u001b[0;34m(\u001b[0m\u001b[0mwait_max_ms\u001b[0m\u001b[0;34m,\u001b[0m \u001b[0mretry_wait_ms\u001b[0m \u001b[0;34m*\u001b[0m \u001b[0mwait_multiplier\u001b[0m\u001b[0;34m)\u001b[0m\u001b[0;34m\u001b[0m\u001b[0;34m\u001b[0m\u001b[0m\n",
            "\u001b[0;32m/usr/local/lib/python3.11/dist-packages/tensorflow_federated/python/core/impl/execution_contexts/async_execution_context.py\u001b[0m in \u001b[0;36minvoke\u001b[0;34m(self, comp, arg)\u001b[0m\n\u001b[1;32m    260\u001b[0m         \u001b[0mcardinalities\u001b[0m \u001b[0;34m=\u001b[0m \u001b[0;34m{\u001b[0m\u001b[0;34m}\u001b[0m\u001b[0;34m\u001b[0m\u001b[0;34m\u001b[0m\u001b[0m\n\u001b[1;32m    261\u001b[0m \u001b[0;34m\u001b[0m\u001b[0m\n\u001b[0;32m--> 262\u001b[0;31m       with self._reset_factory_on_error(\n\u001b[0m\u001b[1;32m    263\u001b[0m           \u001b[0mself\u001b[0m\u001b[0;34m.\u001b[0m\u001b[0m_executor_factory\u001b[0m\u001b[0;34m,\u001b[0m \u001b[0mcardinalities\u001b[0m\u001b[0;34m\u001b[0m\u001b[0;34m\u001b[0m\u001b[0m\n\u001b[1;32m    264\u001b[0m       ) as executor:\n",
            "\u001b[0;32m/usr/lib/python3.11/contextlib.py\u001b[0m in \u001b[0;36m__enter__\u001b[0;34m(self)\u001b[0m\n\u001b[1;32m    135\u001b[0m         \u001b[0;32mdel\u001b[0m \u001b[0mself\u001b[0m\u001b[0;34m.\u001b[0m\u001b[0margs\u001b[0m\u001b[0;34m,\u001b[0m \u001b[0mself\u001b[0m\u001b[0;34m.\u001b[0m\u001b[0mkwds\u001b[0m\u001b[0;34m,\u001b[0m \u001b[0mself\u001b[0m\u001b[0;34m.\u001b[0m\u001b[0mfunc\u001b[0m\u001b[0;34m\u001b[0m\u001b[0;34m\u001b[0m\u001b[0m\n\u001b[1;32m    136\u001b[0m         \u001b[0;32mtry\u001b[0m\u001b[0;34m:\u001b[0m\u001b[0;34m\u001b[0m\u001b[0;34m\u001b[0m\u001b[0m\n\u001b[0;32m--> 137\u001b[0;31m             \u001b[0;32mreturn\u001b[0m \u001b[0mnext\u001b[0m\u001b[0;34m(\u001b[0m\u001b[0mself\u001b[0m\u001b[0;34m.\u001b[0m\u001b[0mgen\u001b[0m\u001b[0;34m)\u001b[0m\u001b[0;34m\u001b[0m\u001b[0;34m\u001b[0m\u001b[0m\n\u001b[0m\u001b[1;32m    138\u001b[0m         \u001b[0;32mexcept\u001b[0m \u001b[0mStopIteration\u001b[0m\u001b[0;34m:\u001b[0m\u001b[0;34m\u001b[0m\u001b[0;34m\u001b[0m\u001b[0m\n\u001b[1;32m    139\u001b[0m             \u001b[0;32mraise\u001b[0m \u001b[0mRuntimeError\u001b[0m\u001b[0;34m(\u001b[0m\u001b[0;34m\"generator didn't yield\"\u001b[0m\u001b[0;34m)\u001b[0m \u001b[0;32mfrom\u001b[0m \u001b[0;32mNone\u001b[0m\u001b[0;34m\u001b[0m\u001b[0;34m\u001b[0m\u001b[0m\n",
            "\u001b[0;32m/usr/local/lib/python3.11/dist-packages/tensorflow_federated/python/core/impl/execution_contexts/async_execution_context.py\u001b[0m in \u001b[0;36m_reset_factory_on_error\u001b[0;34m(self, ex_factory, cardinalities)\u001b[0m\n\u001b[1;32m    188\u001b[0m     \u001b[0;32mtry\u001b[0m\u001b[0;34m:\u001b[0m\u001b[0;34m\u001b[0m\u001b[0;34m\u001b[0m\u001b[0m\n\u001b[1;32m    189\u001b[0m       \u001b[0;31m# We pass a copy down to prevent the caller from mutating.\u001b[0m\u001b[0;34m\u001b[0m\u001b[0;34m\u001b[0m\u001b[0m\n\u001b[0;32m--> 190\u001b[0;31m       \u001b[0;32myield\u001b[0m \u001b[0mex_factory\u001b[0m\u001b[0;34m.\u001b[0m\u001b[0mcreate_executor\u001b[0m\u001b[0;34m(\u001b[0m\u001b[0;34m{\u001b[0m\u001b[0;34m**\u001b[0m\u001b[0mcardinalities\u001b[0m\u001b[0;34m}\u001b[0m\u001b[0;34m)\u001b[0m\u001b[0;34m\u001b[0m\u001b[0;34m\u001b[0m\u001b[0m\n\u001b[0m\u001b[1;32m    191\u001b[0m     \u001b[0;32mexcept\u001b[0m \u001b[0mException\u001b[0m\u001b[0;34m:\u001b[0m\u001b[0;34m\u001b[0m\u001b[0;34m\u001b[0m\u001b[0m\n\u001b[1;32m    192\u001b[0m       \u001b[0mex_factory\u001b[0m\u001b[0;34m.\u001b[0m\u001b[0mclean_up_executor\u001b[0m\u001b[0;34m(\u001b[0m\u001b[0;34m{\u001b[0m\u001b[0;34m**\u001b[0m\u001b[0mcardinalities\u001b[0m\u001b[0;34m}\u001b[0m\u001b[0;34m)\u001b[0m\u001b[0;34m\u001b[0m\u001b[0;34m\u001b[0m\u001b[0m\n",
            "\u001b[0;32m/usr/local/lib/python3.11/dist-packages/tensorflow_federated/python/core/impl/executor_stacks/python_executor_stacks.py\u001b[0m in \u001b[0;36mcreate_executor\u001b[0;34m(self, cardinalities)\u001b[0m\n\u001b[1;32m     79\u001b[0m     \u001b[0;32mif\u001b[0m \u001b[0mex\u001b[0m \u001b[0;32mis\u001b[0m \u001b[0;32mnot\u001b[0m \u001b[0;32mNone\u001b[0m\u001b[0;34m:\u001b[0m\u001b[0;34m\u001b[0m\u001b[0;34m\u001b[0m\u001b[0m\n\u001b[1;32m     80\u001b[0m       \u001b[0;32mreturn\u001b[0m \u001b[0mex\u001b[0m\u001b[0;34m\u001b[0m\u001b[0;34m\u001b[0m\u001b[0m\n\u001b[0;32m---> 81\u001b[0;31m     \u001b[0mex\u001b[0m \u001b[0;34m=\u001b[0m \u001b[0mself\u001b[0m\u001b[0;34m.\u001b[0m\u001b[0m_executor_stack_fn\u001b[0m\u001b[0;34m(\u001b[0m\u001b[0mcardinalities\u001b[0m\u001b[0;34m)\u001b[0m\u001b[0;34m\u001b[0m\u001b[0;34m\u001b[0m\u001b[0m\n\u001b[0m\u001b[1;32m     82\u001b[0m     \u001b[0mpy_typecheck\u001b[0m\u001b[0;34m.\u001b[0m\u001b[0mcheck_type\u001b[0m\u001b[0;34m(\u001b[0m\u001b[0mex\u001b[0m\u001b[0;34m,\u001b[0m \u001b[0mexecutor_base\u001b[0m\u001b[0;34m.\u001b[0m\u001b[0mExecutor\u001b[0m\u001b[0;34m)\u001b[0m\u001b[0;34m\u001b[0m\u001b[0;34m\u001b[0m\u001b[0m\n\u001b[1;32m     83\u001b[0m     \u001b[0mself\u001b[0m\u001b[0;34m.\u001b[0m\u001b[0m_executors\u001b[0m\u001b[0;34m[\u001b[0m\u001b[0mkey\u001b[0m\u001b[0;34m]\u001b[0m \u001b[0;34m=\u001b[0m \u001b[0mex\u001b[0m\u001b[0;34m\u001b[0m\u001b[0;34m\u001b[0m\u001b[0m\n",
            "\u001b[0;32m/usr/local/lib/python3.11/dist-packages/tensorflow_federated/python/core/impl/executor_stacks/executor_factory.py\u001b[0m in \u001b[0;36mstack_fn\u001b[0;34m(cardinalities)\u001b[0m\n\u001b[1;32m    153\u001b[0m     \u001b[0;32mif\u001b[0m \u001b[0mcardinalities\u001b[0m\u001b[0;34m.\u001b[0m\u001b[0mget\u001b[0m\u001b[0;34m(\u001b[0m\u001b[0mplacements\u001b[0m\u001b[0;34m.\u001b[0m\u001b[0mCLIENTS\u001b[0m\u001b[0;34m)\u001b[0m \u001b[0;32mis\u001b[0m \u001b[0;32mNone\u001b[0m\u001b[0;34m:\u001b[0m\u001b[0;34m\u001b[0m\u001b[0;34m\u001b[0m\u001b[0m\n\u001b[1;32m    154\u001b[0m       \u001b[0mcardinalities\u001b[0m\u001b[0;34m[\u001b[0m\u001b[0mplacements\u001b[0m\u001b[0;34m.\u001b[0m\u001b[0mCLIENTS\u001b[0m\u001b[0;34m]\u001b[0m \u001b[0;34m=\u001b[0m \u001b[0mdefault_num_clients\u001b[0m\u001b[0;34m\u001b[0m\u001b[0;34m\u001b[0m\u001b[0m\n\u001b[0;32m--> 155\u001b[0;31m     \u001b[0mstub\u001b[0m \u001b[0;34m=\u001b[0m \u001b[0mservice_manager\u001b[0m\u001b[0;34m.\u001b[0m\u001b[0mget_stub\u001b[0m\u001b[0;34m(\u001b[0m\u001b[0;34m)\u001b[0m\u001b[0;34m\u001b[0m\u001b[0;34m\u001b[0m\u001b[0m\n\u001b[0m\u001b[1;32m    156\u001b[0m     \u001b[0mex\u001b[0m \u001b[0;34m=\u001b[0m \u001b[0mremote_executor\u001b[0m\u001b[0;34m.\u001b[0m\u001b[0mRemoteExecutor\u001b[0m\u001b[0;34m(\u001b[0m\u001b[0mstub\u001b[0m\u001b[0;34m,\u001b[0m \u001b[0mstream_structs\u001b[0m\u001b[0;34m=\u001b[0m\u001b[0mstream_structs\u001b[0m\u001b[0;34m)\u001b[0m\u001b[0;34m\u001b[0m\u001b[0;34m\u001b[0m\u001b[0m\n\u001b[1;32m    157\u001b[0m     \u001b[0mex\u001b[0m\u001b[0;34m.\u001b[0m\u001b[0mset_cardinalities\u001b[0m\u001b[0;34m(\u001b[0m\u001b[0mcardinalities\u001b[0m\u001b[0;34m)\u001b[0m\u001b[0;34m\u001b[0m\u001b[0;34m\u001b[0m\u001b[0m\n",
            "\u001b[0;32m/usr/local/lib/python3.11/dist-packages/tensorflow_federated/python/core/impl/executor_stacks/executor_factory.py\u001b[0m in \u001b[0;36mget_stub\u001b[0;34m(self)\u001b[0m\n\u001b[1;32m    133\u001b[0m         \u001b[0;31m# Stub is not ready; since we block below, this must imply that the\u001b[0m\u001b[0;34m\u001b[0m\u001b[0;34m\u001b[0m\u001b[0m\n\u001b[1;32m    134\u001b[0m         \u001b[0;31m# service is down. Kill the process and restart below.\u001b[0m\u001b[0;34m\u001b[0m\u001b[0;34m\u001b[0m\u001b[0m\n\u001b[0;32m--> 135\u001b[0;31m         \u001b[0mos\u001b[0m\u001b[0;34m.\u001b[0m\u001b[0mkill\u001b[0m\u001b[0;34m(\u001b[0m\u001b[0mself\u001b[0m\u001b[0;34m.\u001b[0m\u001b[0m_process\u001b[0m\u001b[0;34m.\u001b[0m\u001b[0mpid\u001b[0m\u001b[0;34m,\u001b[0m \u001b[0msignal\u001b[0m\u001b[0;34m.\u001b[0m\u001b[0mSIGINT\u001b[0m\u001b[0;34m)\u001b[0m\u001b[0;34m\u001b[0m\u001b[0;34m\u001b[0m\u001b[0m\n\u001b[0m\u001b[1;32m    136\u001b[0m         \u001b[0mlogging\u001b[0m\u001b[0;34m.\u001b[0m\u001b[0mdebug\u001b[0m\u001b[0;34m(\u001b[0m\u001b[0;34m'Waiting for existing processes to complete'\u001b[0m\u001b[0;34m)\u001b[0m\u001b[0;34m\u001b[0m\u001b[0;34m\u001b[0m\u001b[0m\n\u001b[1;32m    137\u001b[0m         \u001b[0mself\u001b[0m\u001b[0;34m.\u001b[0m\u001b[0m_process\u001b[0m\u001b[0;34m.\u001b[0m\u001b[0mwait\u001b[0m\u001b[0;34m(\u001b[0m\u001b[0;34m)\u001b[0m\u001b[0;34m\u001b[0m\u001b[0;34m\u001b[0m\u001b[0m\n",
            "\u001b[0;31mProcessLookupError\u001b[0m: [Errno 3] No such process"
          ]
        }
      ],
      "source": [
        "evaluation_process = tff.learning.algorithms.build_fed_eval(model_fn)\n",
        "evaluation_state = evaluation_process.initialize()\n",
        "model_weights = iterative_process.get_model_weights(state)\n",
        "evaluation_state = evaluation_process.set_model_weights(evaluation_state, model_weights)"
      ]
    },
    {
      "cell_type": "code",
      "execution_count": null,
      "metadata": {
        "id": "sFZU3T0SPH5C"
      },
      "outputs": [],
      "source": [
        "evaluation_output = evaluation_process.next(evaluation_state, federated_train_data)\n",
        "str(evaluation_output.metrics)\n"
      ]
    },
    {
      "cell_type": "code",
      "execution_count": null,
      "metadata": {
        "id": "vABbpujjPHy1"
      },
      "outputs": [],
      "source": [
        "evaluation_output = evaluation_process.next(evaluation_state, federated_test_data)\n",
        "str(evaluation_output.metrics)\n"
      ]
    },
    {
      "cell_type": "code",
      "execution_count": null,
      "metadata": {
        "colab": {
          "base_uri": "https://localhost:8080/"
        },
        "id": "yOjKEwuRo5nU",
        "outputId": "8679a74f-7af4-4482-fd8a-6cbb25d5f87f"
      },
      "outputs": [
        {
          "data": {
            "text/plain": [
              "[array([[ 0.13776593, -0.15621218, -0.14177985, ...,  0.1319024 ,\n",
              "          0.11315466, -0.07495699],\n",
              "        [-0.16222997, -0.13004375,  0.03319561, ..., -0.15850936,\n",
              "         -0.16665389,  0.01822624],\n",
              "        [ 0.07051783,  0.08477724,  0.16251841, ...,  0.00864783,\n",
              "          0.01149449, -0.17346741],\n",
              "        ...,\n",
              "        [ 0.15020895, -0.15741155, -0.07955077, ..., -0.11569148,\n",
              "         -0.02790812,  0.05462638],\n",
              "        [ 0.03242305, -0.03172265,  0.19349928, ..., -0.08252101,\n",
              "         -0.13311058,  0.03013673],\n",
              "        [ 0.01380742, -0.12383002,  0.07953247, ...,  0.0968058 ,\n",
              "          0.01712854,  0.02260005]], dtype=float32),\n",
              " array([ 1.0920353e-02,  2.9766733e-02,  6.4232819e-02,  7.7264137e-03,\n",
              "         1.4646676e-02,  8.2077600e-02,  1.9408537e-02,  5.8050014e-02,\n",
              "         2.4215551e-02,  8.2607055e-03,  0.0000000e+00, -1.4363581e-03,\n",
              "         1.0631908e-01,  2.5333969e-02, -1.0301584e-02,  1.7714381e-02,\n",
              "        -1.4777770e-02,  2.2477871e-05,  4.0989563e-02,  8.7584890e-02,\n",
              "         4.4750899e-02,  5.6400257e-03,  4.0325832e-02,  1.4271337e-02,\n",
              "        -2.8637261e-04,  4.3327004e-02,  5.8891106e-04,  0.0000000e+00,\n",
              "        -1.3971273e-02, -2.7339763e-04, -2.7585740e-03,  5.7093151e-02,\n",
              "        -3.7698651e-04,  8.9293942e-02,  2.9636217e-02,  6.1188996e-02,\n",
              "         5.8301329e-03, -8.8202329e-03,  9.0065435e-02,  6.2734317e-03,\n",
              "         5.5624819e-03,  1.0936707e-03,  2.9875973e-02,  1.3705896e-02,\n",
              "         6.5045737e-02,  1.5955651e-02,  2.1172520e-02,  8.3386496e-02,\n",
              "         0.0000000e+00,  4.1322976e-02, -7.9792231e-02,  9.5292144e-02,\n",
              "         1.0027094e-02,  6.1978516e-04,  4.7966883e-02,  5.3798959e-02,\n",
              "         4.3867931e-02,  3.7172072e-02,  1.3473468e-01,  1.6627939e-02,\n",
              "         3.4707595e-02, -2.2526504e-04,  0.0000000e+00,  6.2997088e-02],\n",
              "       dtype=float32),\n",
              " array([[-0.15354045, -0.20991515, -0.09396031, ..., -0.01465205,\n",
              "         -0.12996086, -0.07825076],\n",
              "        [-0.14523521,  0.12071245, -0.22213647, ..., -0.14861953,\n",
              "          0.21437998, -0.03275326],\n",
              "        [ 0.07333314, -0.13331944, -0.07356147, ...,  0.08915769,\n",
              "         -0.00130117,  0.02493102],\n",
              "        ...,\n",
              "        [ 0.0306691 ,  0.24341793,  0.00420875, ..., -0.08978117,\n",
              "         -0.05877009, -0.09424337],\n",
              "        [ 0.04593951, -0.10529059, -0.10422689, ...,  0.20884705,\n",
              "          0.24530059, -0.09810424],\n",
              "        [ 0.06486455, -0.09622681,  0.05971731, ..., -0.2303842 ,\n",
              "          0.21999404, -0.11683764]], dtype=float32),\n",
              " array([-3.9359634e-03,  4.5275159e-02,  7.2377607e-02,  4.4351913e-02,\n",
              "         2.7331933e-02,  8.3439469e-02, -1.6889447e-02,  9.9232858e-03,\n",
              "         1.0211993e-02,  3.7704762e-02, -1.2627134e-02,  3.0033095e-02,\n",
              "         5.7881426e-02,  0.0000000e+00, -1.7003310e-03,  5.9024738e-03,\n",
              "         2.5235438e-05,  7.7936083e-02,  6.2759876e-02,  6.3426495e-02,\n",
              "         2.1434236e-02, -1.7322680e-02,  6.6237099e-02,  1.6708147e-02,\n",
              "         1.8959645e-02,  1.2901518e-02,  1.5307388e-02, -1.4408637e-03,\n",
              "         4.4108558e-02,  1.5223563e-02,  1.0516191e-02,  7.8626927e-03],\n",
              "       dtype=float32),\n",
              " array([[-0.13327543,  0.30311227,  0.16758347, -0.12685438, -0.27632126,\n",
              "          0.19807822, -0.23764095,  0.36454105,  0.27360386,  0.19480929,\n",
              "          0.01491388],\n",
              "        [ 0.3738113 , -0.06833259, -0.04167493, -0.21575853, -0.2848563 ,\n",
              "          0.0499742 , -0.23117538, -0.21318857, -0.09620562, -0.10836123,\n",
              "          0.02576642],\n",
              "        [ 0.2173032 ,  0.20321168, -0.01674018,  0.33691445, -0.16335985,\n",
              "          0.22769603,  0.24686177, -0.5600738 ,  0.04548821, -0.45827785,\n",
              "          0.26420927],\n",
              "        [-0.04817234, -0.32507554,  0.29441983,  0.249056  ,  0.14450452,\n",
              "         -0.17735818, -0.08046169,  0.10442398, -0.03805058, -0.15049776,\n",
              "         -0.21358532],\n",
              "        [ 0.02829402, -0.19965889,  0.07950632,  0.34454852, -0.00624666,\n",
              "          0.25242472,  0.36430112, -0.04655701,  0.0972203 ,  0.3143153 ,\n",
              "          0.4085037 ],\n",
              "        [ 0.2971963 ,  0.03194354,  0.21573535,  0.37656596, -0.32557634,\n",
              "         -0.33608058, -0.34092712,  0.24178949,  0.38601443, -0.03869383,\n",
              "         -0.27344006],\n",
              "        [-0.12902367,  0.09519027,  0.21147393, -0.3457028 ,  0.20422092,\n",
              "         -0.33886975,  0.45891505, -0.3882732 , -0.35085002,  0.27560937,\n",
              "         -0.6326411 ],\n",
              "        [-0.35554487, -0.08073423, -0.28486958,  0.3308155 ,  0.3011135 ,\n",
              "         -0.30503333, -0.09359754, -0.2759994 ,  0.2084036 , -0.0552751 ,\n",
              "          0.29276058],\n",
              "        [-0.25429583,  0.12025176, -0.26481083,  0.2764073 , -0.30373505,\n",
              "         -0.3013366 ,  0.12356278,  0.14541246, -0.12454553,  0.18382494,\n",
              "         -0.3518203 ],\n",
              "        [ 0.2537936 ,  0.0674751 ,  0.06937151, -0.19748583,  0.04949467,\n",
              "         -0.23369974, -0.32095212, -0.3424748 , -0.35264057,  0.363472  ,\n",
              "          0.24708487],\n",
              "        [-0.34641403,  0.22282167, -0.31271034, -0.40787864, -0.11810165,\n",
              "          0.18031256,  0.16185065, -0.44363153, -0.25870836,  0.15048468,\n",
              "          0.11727505],\n",
              "        [-0.2037673 , -0.1875742 ,  0.09174373, -0.05633602,  0.09226061,\n",
              "         -0.19935404,  0.00707056,  0.18654658, -0.40259582,  0.34858328,\n",
              "          0.17007451],\n",
              "        [ 0.27474764, -0.15980956,  0.33983847, -0.26525685,  0.2097633 ,\n",
              "          0.2924893 , -0.14587304,  0.17407665,  0.04030463, -0.15294762,\n",
              "          0.01368423],\n",
              "        [ 0.0904431 , -0.30809456, -0.28664613,  0.36166924,  0.21755558,\n",
              "          0.15316749, -0.2114478 ,  0.18679702,  0.20350039, -0.13820124,\n",
              "          0.2975788 ],\n",
              "        [ 0.10864174, -0.23417287, -0.3701848 ,  0.32255897, -0.14670704,\n",
              "         -0.28852376, -0.246175  , -0.11034859,  0.12621449,  0.27372658,\n",
              "          0.08185726],\n",
              "        [ 0.22971275, -0.00628611,  0.00526582, -0.18824832,  0.06511778,\n",
              "          0.23421177, -0.61343074,  0.04714933,  0.11459188, -0.34517756,\n",
              "          0.33984765],\n",
              "        [-0.1791434 ,  0.25373992, -0.13308573, -0.23957191, -0.36227345,\n",
              "          0.30877104,  0.37156892,  0.2966033 , -0.07284386, -0.2866429 ,\n",
              "         -0.03482497],\n",
              "        [ 0.33258036, -0.26143754, -0.30551895,  0.1227719 ,  0.3134127 ,\n",
              "         -0.12437788, -0.16274408,  0.35349593, -0.38723814,  0.21895532,\n",
              "         -0.20705433],\n",
              "        [ 0.20591731, -0.33754072,  0.20295201, -0.10795189, -0.09530645,\n",
              "          0.2104723 , -0.02424137,  0.47669607, -0.11202588,  0.32041958,\n",
              "          0.05290276],\n",
              "        [ 0.5015018 ,  0.3516866 , -0.07248683,  0.25149313, -0.15399817,\n",
              "          0.24314226, -0.08805494, -0.04729502, -0.37524343, -0.1846527 ,\n",
              "          0.32341862],\n",
              "        [ 0.0735768 ,  0.3565574 ,  0.4045139 ,  0.37058395,  0.14581604,\n",
              "          0.02536307,  0.03694087,  0.1485632 ,  0.00845848,  0.09830538,\n",
              "          0.05397443],\n",
              "        [-0.19367762, -0.1891891 , -0.14722008,  0.02831621,  0.3429408 ,\n",
              "         -0.33227602,  0.6847199 ,  0.2813332 ,  0.37582532, -0.19888745,\n",
              "         -0.23231106],\n",
              "        [ 0.02167074,  0.19063425, -0.16505663,  0.09100697,  0.13201301,\n",
              "         -0.3229223 ,  0.3061948 ,  0.25582382,  0.1306512 , -0.25675672,\n",
              "          0.32226434],\n",
              "        [ 0.33389893, -0.09802042, -0.0931556 , -0.17433868,  0.27034166,\n",
              "          0.3141294 ,  0.5140054 , -0.2878491 , -0.23361467,  0.29480729,\n",
              "         -0.52105445],\n",
              "        [ 0.28873748,  0.14103027, -0.25184932,  0.01589195,  0.03443783,\n",
              "          0.04990106,  0.31900465, -0.21695939,  0.42971388, -0.23026733,\n",
              "          0.2974697 ],\n",
              "        [-0.12947834, -0.18629216, -0.31881964, -0.03304563, -0.34588182,\n",
              "          0.3230436 ,  0.0880737 ,  0.1168294 ,  0.25823122,  0.14594586,\n",
              "          0.06792077],\n",
              "        [-0.29211012, -0.20598572,  0.10265762, -0.25679687,  0.27015054,\n",
              "          0.12948593, -0.35950115, -0.3380978 ,  0.28973067, -0.38590527,\n",
              "         -0.2418376 ],\n",
              "        [-0.01932883, -0.14961617,  0.00849866, -0.27828497, -0.07090031,\n",
              "         -0.31812444,  0.26095858, -0.2827904 ,  0.00322923,  0.33160037,\n",
              "         -0.08372897],\n",
              "        [ 0.3189437 ,  0.3382529 ,  0.05449086,  0.29743904,  0.05514609,\n",
              "         -0.11775671,  0.3225284 , -0.2008505 ,  0.20942229,  0.16473374,\n",
              "         -0.41500586],\n",
              "        [ 0.11656649,  0.3699839 , -0.12008847,  0.02579282,  0.13803954,\n",
              "         -0.2968028 , -0.39663503, -0.36081517,  0.2673224 , -0.08032393,\n",
              "          0.4141393 ],\n",
              "        [-0.29262128,  0.30693892, -0.24756642,  0.3752686 ,  0.21703972,\n",
              "         -0.24157716, -0.36357892, -0.24779522,  0.28037468,  0.36612517,\n",
              "         -0.23556907],\n",
              "        [ 0.12166582, -0.25291446,  0.07452331,  0.01121405, -0.37525493,\n",
              "          0.2979707 , -0.69274724,  0.09556814,  0.15855147,  0.15040368,\n",
              "          0.53803957]], dtype=float32),\n",
              " array([ 0.03683176, -0.04358011, -0.03871655, -0.01051914, -0.07590847,\n",
              "        -0.01063114, -0.04405205,  0.2020418 , -0.01373732, -0.05352084,\n",
              "         0.05179209], dtype=float32)]"
            ]
          },
          "execution_count": 48,
          "metadata": {},
          "output_type": "execute_result"
        }
      ],
      "source": [
        "# Extract the trained weights from the final state\n",
        "trained_weights = state.global_model_weights.trainable\n",
        "trained_weights"
      ]
    },
    {
      "cell_type": "code",
      "execution_count": null,
      "metadata": {
        "colab": {
          "base_uri": "https://localhost:8080/"
        },
        "id": "M9qOMoBbo5nU",
        "outputId": "61e05022-528d-49cb-dc84-b7433ba9f552"
      },
      "outputs": [
        {
          "data": {
            "text/plain": [
              "<keras.src.engine.sequential.Sequential at 0x79cdb70a5b90>"
            ]
          },
          "execution_count": 49,
          "metadata": {},
          "output_type": "execute_result"
        }
      ],
      "source": [
        "keras_model"
      ]
    },
    {
      "cell_type": "code",
      "execution_count": null,
      "metadata": {
        "colab": {
          "base_uri": "https://localhost:8080/"
        },
        "id": "srKmyPwJo5nU",
        "outputId": "42fb5a73-4826-40fd-a1f6-df9213c4a8be"
      },
      "outputs": [
        {
          "name": "stderr",
          "output_type": "stream",
          "text": [
            "/usr/local/lib/python3.11/dist-packages/keras/src/engine/training.py:3079: UserWarning: You are saving your model as an HDF5 file via `model.save()`. This file format is considered legacy. We recommend using instead the native Keras format, e.g. `model.save('my_model.keras')`.\n",
            "  saving_api.save_model(\n"
          ]
        }
      ],
      "source": [
        "keras_model.set_weights(trained_weights)\n",
        "\n",
        "# Save the model to an HDF5 file\n",
        "keras_model.save('federated_trained_model.h5')"
      ]
    },
    {
      "cell_type": "code",
      "execution_count": null,
      "metadata": {
        "id": "zs-ipJOi3mWV"
      },
      "outputs": [],
      "source": [
        "train_logdir = \"training/\"\n",
        "os.makedirs(train_logdir, exist_ok=True)\n",
        "\n",
        "test_logdir = \"testing/\"\n",
        "os.makedirs(test_logdir, exist_ok=True)"
      ]
    },
    {
      "cell_type": "code",
      "execution_count": null,
      "metadata": {
        "id": "qr5ojVie3mWV"
      },
      "outputs": [],
      "source": [
        "summary_writer = tf.summary.create_file_writer(train_logdir)\n",
        "state = iterative_process.initialize()"
      ]
    },
    {
      "cell_type": "code",
      "execution_count": null,
      "metadata": {
        "colab": {
          "base_uri": "https://localhost:8080/"
        },
        "id": "3ooolc4Jo5nV",
        "outputId": "930c3fa8-315d-4a94-993a-25113a27d604"
      },
      "outputs": [
        {
          "data": {
            "text/plain": [
              "OrderedDict([('distributor', ()),\n",
              "             ('client_work',\n",
              "              OrderedDict([('train',\n",
              "                            OrderedDict([('sparse_categorical_accuracy',\n",
              "                                          0.9871926),\n",
              "                                         ('loss', 0.03174117),\n",
              "                                         ('num_examples', 23090025),\n",
              "                                         ('num_batches', 180394)]))])),\n",
              "             ('aggregator',\n",
              "              OrderedDict([('mean_value', ()), ('mean_weight', ())])),\n",
              "             ('finalizer', OrderedDict([('update_non_finite', 0)]))])"
            ]
          },
          "execution_count": 53,
          "metadata": {},
          "output_type": "execute_result"
        }
      ],
      "source": [
        "metrics"
      ]
    },
    {
      "cell_type": "code",
      "execution_count": null,
      "metadata": {
        "colab": {
          "base_uri": "https://localhost:8080/",
          "height": 356
        },
        "id": "gZkAx4FP3mWV",
        "outputId": "9cea868a-ed2e-41ee-da66-13a7ef16e3c3"
      },
      "outputs": [
        {
          "ename": "KeyboardInterrupt",
          "evalue": "",
          "output_type": "error",
          "traceback": [
            "\u001b[0;31m---------------------------------------------------------------------------\u001b[0m",
            "\u001b[0;31mKeyboardInterrupt\u001b[0m                         Traceback (most recent call last)",
            "\u001b[0;32m<ipython-input-54-58dfa2f8a445>\u001b[0m in \u001b[0;36m<cell line: 0>\u001b[0;34m()\u001b[0m\n\u001b[1;32m      1\u001b[0m \u001b[0;32mwith\u001b[0m \u001b[0msummary_writer\u001b[0m\u001b[0;34m.\u001b[0m\u001b[0mas_default\u001b[0m\u001b[0;34m(\u001b[0m\u001b[0;34m)\u001b[0m\u001b[0;34m:\u001b[0m\u001b[0;34m\u001b[0m\u001b[0;34m\u001b[0m\u001b[0m\n\u001b[1;32m      2\u001b[0m     \u001b[0;32mfor\u001b[0m \u001b[0mround_num\u001b[0m \u001b[0;32min\u001b[0m \u001b[0mrange\u001b[0m\u001b[0;34m(\u001b[0m\u001b[0;36m1\u001b[0m\u001b[0;34m,\u001b[0m \u001b[0mNUM_ROUNDS\u001b[0m\u001b[0;34m)\u001b[0m\u001b[0;34m:\u001b[0m\u001b[0;34m\u001b[0m\u001b[0;34m\u001b[0m\u001b[0m\n\u001b[0;32m----> 3\u001b[0;31m         \u001b[0mstate\u001b[0m\u001b[0;34m,\u001b[0m \u001b[0mmetrics\u001b[0m \u001b[0;34m=\u001b[0m \u001b[0miterative_process\u001b[0m\u001b[0;34m.\u001b[0m\u001b[0mnext\u001b[0m\u001b[0;34m(\u001b[0m\u001b[0mstate\u001b[0m\u001b[0;34m,\u001b[0m \u001b[0mfederated_train_data\u001b[0m\u001b[0;34m)\u001b[0m\u001b[0;34m\u001b[0m\u001b[0;34m\u001b[0m\u001b[0m\n\u001b[0m\u001b[1;32m      4\u001b[0m         \u001b[0;32mfor\u001b[0m \u001b[0mname\u001b[0m\u001b[0;34m,\u001b[0m \u001b[0mvalue\u001b[0m \u001b[0;32min\u001b[0m \u001b[0mmetrics\u001b[0m\u001b[0;34m[\u001b[0m\u001b[0;34m'client_work'\u001b[0m\u001b[0;34m]\u001b[0m\u001b[0;34m[\u001b[0m\u001b[0;34m'train'\u001b[0m\u001b[0;34m]\u001b[0m\u001b[0;34m.\u001b[0m\u001b[0mitems\u001b[0m\u001b[0;34m(\u001b[0m\u001b[0;34m)\u001b[0m\u001b[0;34m:\u001b[0m\u001b[0;34m\u001b[0m\u001b[0;34m\u001b[0m\u001b[0m\n\u001b[1;32m      5\u001b[0m             \u001b[0mtf\u001b[0m\u001b[0;34m.\u001b[0m\u001b[0msummary\u001b[0m\u001b[0;34m.\u001b[0m\u001b[0mscalar\u001b[0m\u001b[0;34m(\u001b[0m\u001b[0mname\u001b[0m\u001b[0;34m,\u001b[0m \u001b[0mvalue\u001b[0m\u001b[0;34m,\u001b[0m \u001b[0mstep\u001b[0m\u001b[0;34m=\u001b[0m\u001b[0mround_num\u001b[0m\u001b[0;34m)\u001b[0m\u001b[0;34m\u001b[0m\u001b[0;34m\u001b[0m\u001b[0m\n",
            "\u001b[0;32m/usr/local/lib/python3.11/dist-packages/tensorflow_federated/python/core/impl/computation/computation_impl.py\u001b[0m in \u001b[0;36m__call__\u001b[0;34m(self, *args, **kwargs)\u001b[0m\n\u001b[1;32m    143\u001b[0m   \u001b[0;32mdef\u001b[0m \u001b[0m__call__\u001b[0m\u001b[0;34m(\u001b[0m\u001b[0mself\u001b[0m\u001b[0;34m,\u001b[0m \u001b[0;34m*\u001b[0m\u001b[0margs\u001b[0m\u001b[0;34m,\u001b[0m \u001b[0;34m**\u001b[0m\u001b[0mkwargs\u001b[0m\u001b[0;34m)\u001b[0m\u001b[0;34m:\u001b[0m\u001b[0;34m\u001b[0m\u001b[0;34m\u001b[0m\u001b[0m\n\u001b[1;32m    144\u001b[0m     \u001b[0marg\u001b[0m \u001b[0;34m=\u001b[0m \u001b[0mfunction_utils\u001b[0m\u001b[0;34m.\u001b[0m\u001b[0mpack_args\u001b[0m\u001b[0;34m(\u001b[0m\u001b[0mself\u001b[0m\u001b[0;34m.\u001b[0m\u001b[0m_type_signature\u001b[0m\u001b[0;34m.\u001b[0m\u001b[0mparameter\u001b[0m\u001b[0;34m,\u001b[0m \u001b[0margs\u001b[0m\u001b[0;34m,\u001b[0m \u001b[0mkwargs\u001b[0m\u001b[0;34m)\u001b[0m\u001b[0;34m\u001b[0m\u001b[0;34m\u001b[0m\u001b[0m\n\u001b[0;32m--> 145\u001b[0;31m     \u001b[0mresult\u001b[0m \u001b[0;34m=\u001b[0m \u001b[0mself\u001b[0m\u001b[0;34m.\u001b[0m\u001b[0m_context_stack\u001b[0m\u001b[0;34m.\u001b[0m\u001b[0mcurrent\u001b[0m\u001b[0;34m.\u001b[0m\u001b[0minvoke\u001b[0m\u001b[0;34m(\u001b[0m\u001b[0mself\u001b[0m\u001b[0;34m,\u001b[0m \u001b[0marg\u001b[0m\u001b[0;34m)\u001b[0m\u001b[0;34m\u001b[0m\u001b[0;34m\u001b[0m\u001b[0m\n\u001b[0m\u001b[1;32m    146\u001b[0m     \u001b[0;32mreturn\u001b[0m \u001b[0mresult\u001b[0m\u001b[0;34m\u001b[0m\u001b[0;34m\u001b[0m\u001b[0m\n\u001b[1;32m    147\u001b[0m \u001b[0;34m\u001b[0m\u001b[0m\n",
            "\u001b[0;32m/usr/local/lib/python3.11/dist-packages/tensorflow_federated/python/core/impl/execution_contexts/sync_execution_context.py\u001b[0m in \u001b[0;36minvoke\u001b[0;34m(self, comp, arg)\u001b[0m\n\u001b[1;32m     71\u001b[0m \u001b[0;34m\u001b[0m\u001b[0m\n\u001b[1;32m     72\u001b[0m   \u001b[0;32mdef\u001b[0m \u001b[0minvoke\u001b[0m\u001b[0;34m(\u001b[0m\u001b[0mself\u001b[0m\u001b[0;34m,\u001b[0m \u001b[0mcomp\u001b[0m\u001b[0;34m,\u001b[0m \u001b[0marg\u001b[0m\u001b[0;34m)\u001b[0m\u001b[0;34m:\u001b[0m\u001b[0;34m\u001b[0m\u001b[0;34m\u001b[0m\u001b[0m\n\u001b[0;32m---> 73\u001b[0;31m     return self._async_runner.run_coro_and_return_result(\n\u001b[0m\u001b[1;32m     74\u001b[0m         \u001b[0mself\u001b[0m\u001b[0;34m.\u001b[0m\u001b[0m_async_context\u001b[0m\u001b[0;34m.\u001b[0m\u001b[0minvoke\u001b[0m\u001b[0;34m(\u001b[0m\u001b[0mcomp\u001b[0m\u001b[0;34m,\u001b[0m \u001b[0marg\u001b[0m\u001b[0;34m)\u001b[0m\u001b[0;34m\u001b[0m\u001b[0;34m\u001b[0m\u001b[0m\n\u001b[1;32m     75\u001b[0m     )\n",
            "\u001b[0;32m/usr/local/lib/python3.11/dist-packages/tensorflow_federated/python/common_libs/async_utils.py\u001b[0m in \u001b[0;36mrun_coro_and_return_result\u001b[0;34m(self, coro)\u001b[0m\n\u001b[1;32m     64\u001b[0m     \u001b[0;34m\"\"\"Runs coroutine in the managed event loop, returning the result.\"\"\"\u001b[0m\u001b[0;34m\u001b[0m\u001b[0;34m\u001b[0m\u001b[0m\n\u001b[1;32m     65\u001b[0m     \u001b[0mfuture\u001b[0m \u001b[0;34m=\u001b[0m \u001b[0masyncio\u001b[0m\u001b[0;34m.\u001b[0m\u001b[0mrun_coroutine_threadsafe\u001b[0m\u001b[0;34m(\u001b[0m\u001b[0mcoro\u001b[0m\u001b[0;34m,\u001b[0m \u001b[0mself\u001b[0m\u001b[0;34m.\u001b[0m\u001b[0m_event_loop\u001b[0m\u001b[0;34m)\u001b[0m\u001b[0;34m\u001b[0m\u001b[0;34m\u001b[0m\u001b[0m\n\u001b[0;32m---> 66\u001b[0;31m     \u001b[0;32mreturn\u001b[0m \u001b[0mfuture\u001b[0m\u001b[0;34m.\u001b[0m\u001b[0mresult\u001b[0m\u001b[0;34m(\u001b[0m\u001b[0;34m)\u001b[0m\u001b[0;34m\u001b[0m\u001b[0;34m\u001b[0m\u001b[0m\n\u001b[0m\u001b[1;32m     67\u001b[0m \u001b[0;34m\u001b[0m\u001b[0m\n\u001b[1;32m     68\u001b[0m   \u001b[0;32masync\u001b[0m \u001b[0;32mdef\u001b[0m \u001b[0mawait_coro_and_return_result\u001b[0m\u001b[0;34m(\u001b[0m\u001b[0mself\u001b[0m\u001b[0;34m,\u001b[0m \u001b[0mcoro\u001b[0m\u001b[0;34m)\u001b[0m\u001b[0;34m:\u001b[0m\u001b[0;34m\u001b[0m\u001b[0;34m\u001b[0m\u001b[0m\n",
            "\u001b[0;32m/usr/lib/python3.11/concurrent/futures/_base.py\u001b[0m in \u001b[0;36mresult\u001b[0;34m(self, timeout)\u001b[0m\n\u001b[1;32m    449\u001b[0m                     \u001b[0;32mreturn\u001b[0m \u001b[0mself\u001b[0m\u001b[0;34m.\u001b[0m\u001b[0m__get_result\u001b[0m\u001b[0;34m(\u001b[0m\u001b[0;34m)\u001b[0m\u001b[0;34m\u001b[0m\u001b[0;34m\u001b[0m\u001b[0m\n\u001b[1;32m    450\u001b[0m \u001b[0;34m\u001b[0m\u001b[0m\n\u001b[0;32m--> 451\u001b[0;31m                 \u001b[0mself\u001b[0m\u001b[0;34m.\u001b[0m\u001b[0m_condition\u001b[0m\u001b[0;34m.\u001b[0m\u001b[0mwait\u001b[0m\u001b[0;34m(\u001b[0m\u001b[0mtimeout\u001b[0m\u001b[0;34m)\u001b[0m\u001b[0;34m\u001b[0m\u001b[0;34m\u001b[0m\u001b[0m\n\u001b[0m\u001b[1;32m    452\u001b[0m \u001b[0;34m\u001b[0m\u001b[0m\n\u001b[1;32m    453\u001b[0m                 \u001b[0;32mif\u001b[0m \u001b[0mself\u001b[0m\u001b[0;34m.\u001b[0m\u001b[0m_state\u001b[0m \u001b[0;32min\u001b[0m \u001b[0;34m[\u001b[0m\u001b[0mCANCELLED\u001b[0m\u001b[0;34m,\u001b[0m \u001b[0mCANCELLED_AND_NOTIFIED\u001b[0m\u001b[0;34m]\u001b[0m\u001b[0;34m:\u001b[0m\u001b[0;34m\u001b[0m\u001b[0;34m\u001b[0m\u001b[0m\n",
            "\u001b[0;32m/usr/lib/python3.11/threading.py\u001b[0m in \u001b[0;36mwait\u001b[0;34m(self, timeout)\u001b[0m\n\u001b[1;32m    325\u001b[0m         \u001b[0;32mtry\u001b[0m\u001b[0;34m:\u001b[0m    \u001b[0;31m# restore state no matter what (e.g., KeyboardInterrupt)\u001b[0m\u001b[0;34m\u001b[0m\u001b[0;34m\u001b[0m\u001b[0m\n\u001b[1;32m    326\u001b[0m             \u001b[0;32mif\u001b[0m \u001b[0mtimeout\u001b[0m \u001b[0;32mis\u001b[0m \u001b[0;32mNone\u001b[0m\u001b[0;34m:\u001b[0m\u001b[0;34m\u001b[0m\u001b[0;34m\u001b[0m\u001b[0m\n\u001b[0;32m--> 327\u001b[0;31m                 \u001b[0mwaiter\u001b[0m\u001b[0;34m.\u001b[0m\u001b[0macquire\u001b[0m\u001b[0;34m(\u001b[0m\u001b[0;34m)\u001b[0m\u001b[0;34m\u001b[0m\u001b[0;34m\u001b[0m\u001b[0m\n\u001b[0m\u001b[1;32m    328\u001b[0m                 \u001b[0mgotit\u001b[0m \u001b[0;34m=\u001b[0m \u001b[0;32mTrue\u001b[0m\u001b[0;34m\u001b[0m\u001b[0;34m\u001b[0m\u001b[0m\n\u001b[1;32m    329\u001b[0m             \u001b[0;32melse\u001b[0m\u001b[0;34m:\u001b[0m\u001b[0;34m\u001b[0m\u001b[0;34m\u001b[0m\u001b[0m\n",
            "\u001b[0;31mKeyboardInterrupt\u001b[0m: "
          ]
        }
      ],
      "source": [
        "with summary_writer.as_default():\n",
        "    for round_num in range(1, NUM_ROUNDS):\n",
        "        state, metrics = iterative_process.next(state, federated_train_data)\n",
        "        for name, value in metrics['client_work']['train'].items():\n",
        "            tf.summary.scalar(name, value, step=round_num)"
      ]
    },
    {
      "cell_type": "code",
      "execution_count": null,
      "metadata": {
        "id": "FnO6xKk43mWV"
      },
      "outputs": [],
      "source": [
        "#@test {\"skip\": true}\n",
        "!ls {train_logdir}\n",
        "%tensorboard --logdir {train_logdir} --port=0"
      ]
    },
    {
      "cell_type": "code",
      "execution_count": null,
      "metadata": {
        "id": "b-OFuJBk3mWV"
      },
      "outputs": [],
      "source": [
        "ModelVariables = collections.namedtuple('ModelVariables', 'weights bias num_examples loss_sum accuracy_sum')"
      ]
    },
    {
      "cell_type": "code",
      "execution_count": null,
      "metadata": {
        "id": "Tztmm_Jz3mWV"
      },
      "outputs": [],
      "source": [
        "def create_model_variables():\n",
        "    return ModelVariables(\n",
        "        weights=tf.Variable(\n",
        "            lambda: tf.zeros(dtype=tf.float32, shape=(len(features), len(label_encoder.classes_))),\n",
        "            name='weights',\n",
        "            trainable=True),\n",
        "        bias=tf.Variable(\n",
        "            lambda: tf.zeros(dtype=tf.float32, shape=(len(label_encoder.classes_))),\n",
        "            name='bias',\n",
        "            trainable=True),\n",
        "        num_examples=tf.Variable(0.0, name='num_examples', trainable=False),\n",
        "        loss_sum=tf.Variable(0.0, name='loss_sum', trainable=False),\n",
        "        accuracy_sum=tf.Variable(0.0, name='accuracy_sum', trainable=False))"
      ]
    },
    {
      "cell_type": "code",
      "execution_count": null,
      "metadata": {
        "id": "h1ffATum3mWV"
      },
      "outputs": [],
      "source": [
        "def predict_on_batch(variables, x):\n",
        "    return tf.nn.softmax(tf.matmul(x, variables.weights) + variables.bias)\n",
        "\n",
        "def model_forward_pass(variables, batch):\n",
        "    y = predict_on_batch(variables, batch['x'])\n",
        "    predictions = tf.cast(tf.argmax(y, 1), tf.int32)\n",
        "\n",
        "    flat_labels = tf.reshape(batch['y'], [-1])\n",
        "    loss = -tf.reduce_mean(tf.reduce_sum(tf.one_hot(flat_labels, len(label_encoder.classes_)) * tf.math.log(y), axis=[1]))\n",
        "    accuracy = tf.reduce_mean(tf.cast(tf.equal(predictions, flat_labels), tf.float32))\n",
        "    num_examples = tf.cast(tf.size(batch['y']), tf.float32)\n",
        "    variables.num_examples.assign_add(num_examples)\n",
        "    variables.loss_sum.assign_add(loss * num_examples)\n",
        "    variables.accuracy_sum.assign_add(accuracy * num_examples)\n",
        "    return loss, predictions"
      ]
    },
    {
      "cell_type": "code",
      "execution_count": null,
      "metadata": {
        "id": "5kvu59q43mWV"
      },
      "outputs": [],
      "source": [
        "def get_local_model_metrics(variables):\n",
        "    return collections.OrderedDict(\n",
        "        num_examples=variables.num_examples,\n",
        "        loss=variables.loss_sum / variables.num_examples,\n",
        "        accuracy=variables.accuracy_sum / variables.num_examples)"
      ]
    },
    {
      "cell_type": "code",
      "execution_count": null,
      "metadata": {
        "id": "TEQCw8w83mWV"
      },
      "outputs": [],
      "source": [
        "@tff.federated_computation\n",
        "def aggregate_model_metrics_across_clients(metrics):\n",
        "    return collections.OrderedDict(\n",
        "        num_examples=tff.federated_sum(metrics.num_examples),\n",
        "        loss=tff.federated_mean(metrics.loss, metrics.num_examples),\n",
        "        accuracy=tff.federated_mean(metrics.accuracy, metrics.num_examples))\n"
      ]
    },
    {
      "cell_type": "code",
      "execution_count": null,
      "metadata": {
        "id": "5kLxmZexo5nX"
      },
      "outputs": [],
      "source": [
        "type(model_fn)"
      ]
    },
    {
      "cell_type": "code",
      "execution_count": null,
      "metadata": {
        "id": "s7xPRo1f3mWW"
      },
      "outputs": [],
      "source": [
        "from typing import Callable, List, OrderedDict\n",
        "\n",
        "class IOTModel(tff.learning.Model):\n",
        "    def __init__(self):\n",
        "        self._variables = create_model_variables()\n",
        "    @property\n",
        "    def trainable_variables(self):\n",
        "        return [self._variables.weights, self._variables.bias]\n",
        "\n",
        "    @property\n",
        "    def non_trainable_variables(self):\n",
        "        return []\n",
        "\n",
        "    @property\n",
        "    def local_variables(self):\n",
        "        return [\n",
        "            self._variables.num_examples, self._variables.loss_sum,\n",
        "            self._variables.accuracy_sum\n",
        "        ]\n",
        "\n",
        "    @property\n",
        "    def input_spec(self):\n",
        "        return OrderedDict(\n",
        "            x=tf.TensorSpec([None, len(features)], tf.float32),\n",
        "            y=tf.TensorSpec([None, 1], tf.int32))\n",
        "\n",
        "    @tf.function\n",
        "    def predict_on_batch(self, x, training=True):\n",
        "        del training\n",
        "        return predict_on_batch(self._variables, x)\n",
        "\n",
        "    @tf.function\n",
        "    def forward_pass(self, batch, training=True):\n",
        "        del training\n",
        "        loss, predictions = model_forward_pass(self._variables, batch)\n",
        "        num_exmaples = tf.shape(batch['x'])[0]\n",
        "        return tff.learning.BatchOutput(loss=loss, predictions=predictions, num_examples=num_exmaples)\n",
        "\n",
        "    @tf.function\n",
        "    def report_local_outputs(self):\n",
        "        return get_local_model_metrics(self._variables)\n",
        "\n",
        "    @property\n",
        "    def federated_output_computation(self):\n",
        "        return aggregate_model_metrics_across_clients\n",
        "\n",
        "    @tf.function\n",
        "    def report_local_unfinalized_metrics(self) -> OrderedDict[str, List[tf.Tensor]]:\n",
        "        \"\"\"Creates an `OrderedDict` of metric names to unfinalized values.\"\"\"\n",
        "        return collections.OrderedDict(\n",
        "            num_examples=[self._variables.num_examples],\n",
        "            loss=[self._variables.loss_sum, self._variables.num_examples],\n",
        "            accuracy=[self._variables.accuracy_sum, self._variables.num_examples])\n",
        "\n",
        "    def metric_finalizers(self) -> OrderedDict[str, Callable[[List[tf.Tensor]], tf.Tensor]]:\n",
        "        \"\"\"Creates an `OrderedDict` of metric names to finalizers.\"\"\"\n",
        "        return collections.OrderedDict(\n",
        "            num_examples=tf.function(func=lambda x: x[0]),\n",
        "            loss=tf.function(func=lambda x: x[0] / x[1]),\n",
        "            accuracy=tf.function(func=lambda x: x[0] / x[1]))"
      ]
    },
    {
      "cell_type": "code",
      "execution_count": null,
      "metadata": {
        "id": "K_EwYhcO3mWW"
      },
      "outputs": [],
      "source": [
        "iterative_process = tff.learning.build_federated_averaging_process(\n",
        "    IOTModel,\n",
        "    client_optimizer_fn=lambda: tf.keras.optimizers.Adam(learning_rate=0.001))"
      ]
    },
    {
      "cell_type": "code",
      "execution_count": null,
      "metadata": {
        "id": "gb2nqs3z3mWW"
      },
      "outputs": [],
      "source": [
        "state = iterative_process.initialize()"
      ]
    },
    {
      "cell_type": "code",
      "execution_count": null,
      "metadata": {
        "id": "Qn8s6uhu3mWW"
      },
      "outputs": [],
      "source": [
        "state, metrics = iterative_process.next(state, federated_train_data)\n",
        "print('round  1, metrics={}'.format(metrics))"
      ]
    },
    {
      "cell_type": "code",
      "execution_count": null,
      "metadata": {
        "id": "uZkp6C0W3mWW"
      },
      "outputs": [],
      "source": [
        "for round_num in range(2, 11):\n",
        "    state, metrics = iterative_process.next(state, federated_train_data)\n",
        "    print('round {:2d}, metrics={}'.format(round_num, metrics))"
      ]
    },
    {
      "cell_type": "code",
      "execution_count": null,
      "metadata": {
        "id": "C82Peli43mWW"
      },
      "outputs": [],
      "source": [
        "evaluation = tff.learning.build_federated_evaluation(IOTModel)"
      ]
    },
    {
      "cell_type": "code",
      "execution_count": null,
      "metadata": {
        "id": "ViG0ODvR3mWW"
      },
      "outputs": [],
      "source": [
        "str(evaluation.type_signature)"
      ]
    },
    {
      "cell_type": "code",
      "execution_count": null,
      "metadata": {
        "colab": {
          "base_uri": "https://localhost:8080/",
          "height": 141
        },
        "id": "tJu8ZYDB3mWW",
        "outputId": "85d0d850-f655-46bf-d33d-c9d0ba1209db"
      },
      "outputs": [
        {
          "ename": "NameError",
          "evalue": "name 'evaluation' is not defined",
          "output_type": "error",
          "traceback": [
            "\u001b[0;31m---------------------------------------------------------------------------\u001b[0m",
            "\u001b[0;31mNameError\u001b[0m                                 Traceback (most recent call last)",
            "\u001b[0;32m<ipython-input-55-12c1161d3f21>\u001b[0m in \u001b[0;36m<cell line: 0>\u001b[0;34m()\u001b[0m\n\u001b[0;32m----> 1\u001b[0;31m \u001b[0mtrain_metrics\u001b[0m \u001b[0;34m=\u001b[0m \u001b[0mevaluation\u001b[0m\u001b[0;34m(\u001b[0m\u001b[0mstate\u001b[0m\u001b[0;34m.\u001b[0m\u001b[0mmodel\u001b[0m\u001b[0;34m,\u001b[0m \u001b[0mfederated_train_data\u001b[0m\u001b[0;34m)\u001b[0m\u001b[0;34m\u001b[0m\u001b[0;34m\u001b[0m\u001b[0m\n\u001b[0m",
            "\u001b[0;31mNameError\u001b[0m: name 'evaluation' is not defined"
          ]
        }
      ],
      "source": [
        "train_metrics = evaluation(state.model, federated_train_data)"
      ]
    },
    {
      "cell_type": "code",
      "execution_count": null,
      "metadata": {
        "id": "A_8bcGhq3mWW"
      },
      "outputs": [],
      "source": [
        "str(train_metrics)"
      ]
    },
    {
      "cell_type": "code",
      "execution_count": null,
      "metadata": {
        "id": "amzO1TjD3mWX",
        "outputId": "a66716fd-511d-415e-c632-794e023be13c"
      },
      "outputs": [
        {
          "name": "stderr",
          "output_type": "stream",
          "text": [
            "100%|██████████| 5/5 [00:01<00:00,  2.72it/s]\n"
          ]
        },
        {
          "data": {
            "text/plain": "(5,\n <_PrefetchDataset element_spec=OrderedDict([('x', TensorSpec(shape=(None, 115), dtype=tf.float32, name=None)), ('y', TensorSpec(shape=(None, 1), dtype=tf.int32, name=None))])>)"
          },
          "execution_count": 144,
          "metadata": {},
          "output_type": "execute_result"
        }
      ],
      "source": [
        "NUM_CLIENTS = len(np.unique(test_df[client_id_colname]))\n",
        "\n",
        "sample_clients = test_data.client_ids[0:NUM_CLIENTS]\n",
        "\n",
        "federated_test_data = make_federated_data(test_data, sample_clients)\n",
        "\n",
        "len(federated_test_data), federated_test_data[0]"
      ]
    },
    {
      "cell_type": "code",
      "execution_count": null,
      "metadata": {
        "id": "N5WuiSkA3mWX"
      },
      "outputs": [],
      "source": [
        "evaluation_process = tff.learning.algorithms.build_fed_eval(model_fn)"
      ]
    },
    {
      "cell_type": "code",
      "execution_count": null,
      "metadata": {
        "id": "u9MqCCIko5nY",
        "outputId": "4a380aa8-7311-47b0-95a0-345b10233e71"
      },
      "outputs": [
        {
          "name": "stdout",
          "output_type": "stream",
          "text": [
            "(<\n",
            "  state=<\n",
            "    global_model_weights=<\n",
            "      trainable=<\n",
            "        float32[115,64],\n",
            "        float32[64],\n",
            "        float32[64,32],\n",
            "        float32[32],\n",
            "        float32[32,11],\n",
            "        float32[11]\n",
            "      >,\n",
            "      non_trainable=<>\n",
            "    >,\n",
            "    distributor=<>,\n",
            "    client_work=<\n",
            "      <>,\n",
            "      <\n",
            "        sparse_categorical_accuracy=<\n",
            "          float32,\n",
            "          float32\n",
            "        >,\n",
            "        loss=<\n",
            "          float32,\n",
            "          float32\n",
            "        >,\n",
            "        num_examples=<\n",
            "          int64\n",
            "        >,\n",
            "        num_batches=<\n",
            "          int64\n",
            "        >\n",
            "      >\n",
            "    >,\n",
            "    aggregator=<\n",
            "      value_sum_process=<>,\n",
            "      weight_sum_process=<>\n",
            "    >,\n",
            "    finalizer=<>\n",
            "  >@SERVER,\n",
            "  client_data={<\n",
            "    x=float32[?,115],\n",
            "    y=int32[?,1]\n",
            "  >*}@CLIENTS\n",
            "> -> <\n",
            "  state=<\n",
            "    global_model_weights=<\n",
            "      trainable=<\n",
            "        float32[115,64],\n",
            "        float32[64],\n",
            "        float32[64,32],\n",
            "        float32[32],\n",
            "        float32[32,11],\n",
            "        float32[11]\n",
            "      >,\n",
            "      non_trainable=<>\n",
            "    >,\n",
            "    distributor=<>,\n",
            "    client_work=<\n",
            "      <>,\n",
            "      <\n",
            "        sparse_categorical_accuracy=<\n",
            "          float32,\n",
            "          float32\n",
            "        >,\n",
            "        loss=<\n",
            "          float32,\n",
            "          float32\n",
            "        >,\n",
            "        num_examples=<\n",
            "          int64\n",
            "        >,\n",
            "        num_batches=<\n",
            "          int64\n",
            "        >\n",
            "      >\n",
            "    >,\n",
            "    aggregator=<\n",
            "      value_sum_process=<>,\n",
            "      weight_sum_process=<>\n",
            "    >,\n",
            "    finalizer=<>\n",
            "  >@SERVER,\n",
            "  metrics=<\n",
            "    distributor=<>,\n",
            "    client_work=<\n",
            "      eval=<\n",
            "        current_round_metrics=<\n",
            "          sparse_categorical_accuracy=float32,\n",
            "          loss=float32,\n",
            "          num_examples=int64,\n",
            "          num_batches=int64\n",
            "        >,\n",
            "        total_rounds_metrics=<\n",
            "          sparse_categorical_accuracy=float32,\n",
            "          loss=float32,\n",
            "          num_examples=int64,\n",
            "          num_batches=int64\n",
            "        >\n",
            "      >\n",
            "    >,\n",
            "    aggregator=<\n",
            "      mean_value=<>,\n",
            "      mean_weight=<>\n",
            "    >,\n",
            "    finalizer=<>\n",
            "  >@SERVER\n",
            ">)\n"
          ]
        }
      ],
      "source": [
        "print(evaluation_process.next.type_signature.formatted_representation())"
      ]
    },
    {
      "cell_type": "code",
      "execution_count": null,
      "metadata": {
        "id": "mp0n2t1ko5nY"
      },
      "outputs": [],
      "source": [
        "evaluation_state = evaluation_process.initialize()\n",
        "model_weights = iterative_process.get_model_weights(state)\n",
        "evaluation_state = evaluation_process.set_model_weights(\n",
        "    evaluation_state, model_weights\n",
        ")"
      ]
    },
    {
      "cell_type": "code",
      "execution_count": null,
      "metadata": {
        "id": "xoAN98-Zo5nY"
      },
      "outputs": [],
      "source": [
        "evaluation_output = evaluation_process.next(\n",
        "    evaluation_state, federated_train_data\n",
        ")"
      ]
    },
    {
      "cell_type": "code",
      "execution_count": null,
      "metadata": {
        "id": "gJHjxheIo5nY",
        "outputId": "9bb00468-25d6-4bde-f004-68e48d0be2db"
      },
      "outputs": [
        {
          "data": {
            "text/plain": "\"OrderedDict([('distributor', ()), ('client_work', OrderedDict([('eval', OrderedDict([('current_round_metrics', OrderedDict([('sparse_categorical_accuracy', 0.71667314), ('loss', 2.0430202), ('num_examples', 23090025), ('num_batches', 180393)])), ('total_rounds_metrics', OrderedDict([('sparse_categorical_accuracy', 0.71667314), ('loss', 2.0430202), ('num_examples', 23090025), ('num_batches', 180393)]))]))])), ('aggregator', OrderedDict([('mean_value', ()), ('mean_weight', ())])), ('finalizer', ())])\""
          },
          "execution_count": 85,
          "metadata": {},
          "output_type": "execute_result"
        }
      ],
      "source": [
        "str(evaluation_output.metrics)"
      ]
    },
    {
      "cell_type": "code",
      "execution_count": null,
      "metadata": {
        "id": "vrz44Dvvo5nZ"
      },
      "outputs": [],
      "source": [
        "evaluation_output = evaluation_process.next(\n",
        "    evaluation_state, federated_test_data\n",
        ")"
      ]
    },
    {
      "cell_type": "code",
      "execution_count": null,
      "metadata": {
        "id": "pALOV43Io5nZ",
        "outputId": "6a75bd9b-a5cb-4b43-c4ee-5bb574ce9c9e"
      },
      "outputs": [
        {
          "data": {
            "text/plain": "\"OrderedDict([('distributor', ()), ('client_work', OrderedDict([('eval', OrderedDict([('current_round_metrics', OrderedDict([('sparse_categorical_accuracy', 0.68968856), ('loss', 1.261798), ('num_examples', 23090025), ('num_batches', 180393)])), ('total_rounds_metrics', OrderedDict([('sparse_categorical_accuracy', 0.68968856), ('loss', 1.261798), ('num_examples', 23090025), ('num_batches', 180393)]))]))])), ('aggregator', OrderedDict([('mean_value', ()), ('mean_weight', ())])), ('finalizer', ())])\""
          },
          "execution_count": 158,
          "metadata": {},
          "output_type": "execute_result"
        }
      ],
      "source": [
        "str(evaluation_output.metrics)"
      ]
    },
    {
      "cell_type": "markdown",
      "metadata": {
        "id": "BzvStD-Fo5nZ"
      },
      "source": [
        "Run upto this cell"
      ]
    },
    {
      "cell_type": "code",
      "execution_count": null,
      "metadata": {
        "id": "NHBL8oMp3mWX"
      },
      "outputs": [],
      "source": [
        "# model_for_inference = create_keras_model()\n",
        "# state.model.assign_weights_to(model_for_inference)\n",
        "\n",
        "# y_hat = model_for_inference.predict(test_df[features].values, batch_size=BATCH_SIZE, verbose=1)\n",
        "# y_hat = np.argmax(y_hat, axis=1)\n",
        "# y_hat\n",
        "\n",
        "iot_model = IOTModel()\n",
        "state.model.assign_weights_to(iot_model)\n",
        "y_hat = iot_model.predict_on_batch(test_df[features])\n",
        "y_hat = np.argmax(y_hat, axis=1)\n",
        "y_hat"
      ]
    },
    {
      "cell_type": "code",
      "execution_count": null,
      "metadata": {
        "id": "uS7-LZMp3mWX"
      },
      "outputs": [],
      "source": [
        "from sklearn.metrics import classification_report\n",
        "\n",
        "print(classification_report(test_df[\"type\"].values, y_hat))"
      ]
    },
    {
      "cell_type": "code",
      "execution_count": null,
      "metadata": {
        "id": "JFe9iwae3mWX"
      },
      "outputs": [],
      "source": [
        "tff.__version__"
      ]
    },
    {
      "cell_type": "code",
      "execution_count": null,
      "metadata": {
        "id": "Pqcn2cyl3mWX"
      },
      "outputs": [],
      "source": []
    },
    {
      "cell_type": "code",
      "execution_count": null,
      "metadata": {
        "id": "T_KVBWMao5nZ"
      },
      "outputs": [],
      "source": []
    }
  ],
  "metadata": {
    "accelerator": "TPU",
    "colab": {
      "gpuType": "V28",
      "provenance": []
    },
    "kaggle": {
      "accelerator": "tpu1vmV38",
      "dataSources": [
        {
          "datasetId": 480187,
          "sourceId": 897617,
          "sourceType": "datasetVersion"
        }
      ],
      "dockerImageVersionId": 30888,
      "isGpuEnabled": false,
      "isInternetEnabled": true,
      "language": "python",
      "sourceType": "notebook"
    },
    "kernelspec": {
      "display_name": "Python 3",
      "name": "python3"
    },
    "language_info": {
      "codemirror_mode": {
        "name": "ipython",
        "version": 3
      },
      "file_extension": ".py",
      "mimetype": "text/x-python",
      "name": "python",
      "nbconvert_exporter": "python",
      "pygments_lexer": "ipython3",
      "version": "3.10.16"
    }
  },
  "nbformat": 4,
  "nbformat_minor": 0
}